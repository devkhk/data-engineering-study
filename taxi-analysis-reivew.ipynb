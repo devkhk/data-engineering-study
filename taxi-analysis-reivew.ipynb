{
 "cells": [
  {
   "cell_type": "code",
   "execution_count": 1,
   "id": "0e3f7dc0",
   "metadata": {},
   "outputs": [],
   "source": [
    "from pyspark.sql import SparkSession"
   ]
  },
  {
   "cell_type": "code",
   "execution_count": 2,
   "id": "a79b5df5",
   "metadata": {},
   "outputs": [
    {
     "name": "stderr",
     "output_type": "stream",
     "text": [
      "22/04/06 00:30:42 WARN Utils: Your hostname, devkhk-MacBook-Air.local resolves to a loopback address: 127.0.0.1; using 172.30.1.27 instead (on interface en0)\n",
      "22/04/06 00:30:42 WARN Utils: Set SPARK_LOCAL_IP if you need to bind to another address\n",
      "Using Spark's default log4j profile: org/apache/spark/log4j-defaults.properties\n",
      "Setting default log level to \"WARN\".\n",
      "To adjust logging level use sc.setLogLevel(newLevel). For SparkR, use setLogLevel(newLevel).\n",
      "22/04/06 00:30:43 WARN NativeCodeLoader: Unable to load native-hadoop library for your platform... using builtin-java classes where applicable\n"
     ]
    }
   ],
   "source": [
    "spark = SparkSession.builder.appName(\"taxi-analysis\").getOrCreate()"
   ]
  },
  {
   "cell_type": "code",
   "execution_count": 3,
   "id": "71dff7d3",
   "metadata": {},
   "outputs": [],
   "source": [
    "trip_files = \"/Users/devkhk/Documents/data-engineering-study/data/trips/*\"\n",
    "zone_file = \"/Users/devkhk/Documents/data-engineering-study/data/taxi+_zone_lookup.csv\""
   ]
  },
  {
   "cell_type": "code",
   "execution_count": 4,
   "id": "de6f0428",
   "metadata": {},
   "outputs": [
    {
     "name": "stderr",
     "output_type": "stream",
     "text": [
      "                                                                                \r"
     ]
    }
   ],
   "source": [
    "trips_df = spark.read.csv(f\"file:///{trip_files}\", header=True, inferSchema=True)\n",
    "zone_df = spark.read.csv(f\"file:///{zone_file}\", header=True, inferSchema=True)"
   ]
  },
  {
   "cell_type": "code",
   "execution_count": 5,
   "id": "cbd6e4e9",
   "metadata": {},
   "outputs": [],
   "source": [
    "trips_df.createOrReplaceTempView(\"trips\")\n",
    "zone_df.createOrReplaceTempView(\"zone\")"
   ]
  },
  {
   "cell_type": "code",
   "execution_count": 6,
   "id": "d286e238",
   "metadata": {},
   "outputs": [
    {
     "name": "stdout",
     "output_type": "stream",
     "text": [
      "root\n",
      " |-- VendorID: integer (nullable = true)\n",
      " |-- tpep_pickup_datetime: string (nullable = true)\n",
      " |-- tpep_dropoff_datetime: string (nullable = true)\n",
      " |-- passenger_count: integer (nullable = true)\n",
      " |-- trip_distance: double (nullable = true)\n",
      " |-- RatecodeID: integer (nullable = true)\n",
      " |-- store_and_fwd_flag: string (nullable = true)\n",
      " |-- PULocationID: integer (nullable = true)\n",
      " |-- DOLocationID: integer (nullable = true)\n",
      " |-- payment_type: integer (nullable = true)\n",
      " |-- fare_amount: double (nullable = true)\n",
      " |-- extra: double (nullable = true)\n",
      " |-- mta_tax: double (nullable = true)\n",
      " |-- tip_amount: double (nullable = true)\n",
      " |-- tolls_amount: double (nullable = true)\n",
      " |-- improvement_surcharge: double (nullable = true)\n",
      " |-- total_amount: double (nullable = true)\n",
      " |-- congestion_surcharge: double (nullable = true)\n",
      "\n",
      "root\n",
      " |-- LocationID: integer (nullable = true)\n",
      " |-- Borough: string (nullable = true)\n",
      " |-- Zone: string (nullable = true)\n",
      " |-- service_zone: string (nullable = true)\n",
      "\n"
     ]
    }
   ],
   "source": [
    "trips_df.printSchema()\n",
    "zone_df.printSchema()"
   ]
  },
  {
   "cell_type": "code",
   "execution_count": 17,
   "id": "f8272305",
   "metadata": {},
   "outputs": [],
   "source": [
    "# 두 테이블을 join해서 지역번호를 zone 이름으로 대체하는 테이블을 만든다.\n",
    "\n",
    "query = \"\"\"\n",
    "SELECT \n",
    "    t.VendorID as vendor_id,\n",
    "    TO_DATE(t.tpep_pickup_datetime) as pickup_date,\n",
    "    TO_DATE(t.tpep_dropoff_datetime) as dropoff_date,\n",
    "    HOUR(t.tpep_pickup_datetime) as pickup_time,\n",
    "    HOUR(t.tpep_dropoff_datetime) as dropoff_time,\n",
    "    t.passenger_count,\n",
    "    t.trip_distance,\n",
    "    t.tip_amount,\n",
    "    t.tolls_amount,\n",
    "    t.total_amount,\n",
    "    pz.Zone as pickup_zone,\n",
    "    dz.Zone as dropoff_zone\n",
    "FROM\n",
    "    trips t\n",
    "    LEFT JOIN \n",
    "        zone pz\n",
    "    ON\n",
    "        t.PULocationID = pz.LocationID \n",
    "    LEFT JOIN\n",
    "        zone dz\n",
    "    ON\n",
    "        t.DOLocationID = dz.LocationID\n",
    "\"\"\"\n"
   ]
  },
  {
   "cell_type": "code",
   "execution_count": 18,
   "id": "e14fc5ed",
   "metadata": {},
   "outputs": [],
   "source": [
    "comb_df = spark.sql(query)\n",
    "comb_df.createOrReplaceTempView(\"comb\")"
   ]
  },
  {
   "cell_type": "code",
   "execution_count": 19,
   "id": "8170aa0c",
   "metadata": {},
   "outputs": [
    {
     "name": "stdout",
     "output_type": "stream",
     "text": [
      "root\n",
      " |-- vendor_id: integer (nullable = true)\n",
      " |-- pickup_date: date (nullable = true)\n",
      " |-- dropoff_date: date (nullable = true)\n",
      " |-- pickup_time: integer (nullable = true)\n",
      " |-- dropoff_time: integer (nullable = true)\n",
      " |-- passenger_count: integer (nullable = true)\n",
      " |-- trip_distance: double (nullable = true)\n",
      " |-- tip_amount: double (nullable = true)\n",
      " |-- tolls_amount: double (nullable = true)\n",
      " |-- total_amount: double (nullable = true)\n",
      " |-- pickup_zone: string (nullable = true)\n",
      " |-- dropoff_zone: string (nullable = true)\n",
      "\n"
     ]
    }
   ],
   "source": [
    "comb_df.printSchema()"
   ]
  },
  {
   "cell_type": "code",
   "execution_count": 20,
   "id": "6fe0683a",
   "metadata": {},
   "outputs": [
    {
     "name": "stdout",
     "output_type": "stream",
     "text": [
      "+-----------+--------------------+\n",
      "|pickup_date|         pickup_zone|\n",
      "+-----------+--------------------+\n",
      "| 2021-03-01|                  NV|\n",
      "| 2021-03-01|      Manhattanville|\n",
      "| 2021-03-01|      Manhattanville|\n",
      "| 2021-03-01|   LaGuardia Airport|\n",
      "| 2021-03-01|        East Chelsea|\n",
      "| 2021-03-01|Upper West Side S...|\n",
      "| 2021-03-01|Penn Station/Madi...|\n",
      "| 2021-03-01|         JFK Airport|\n",
      "| 2021-03-01|   LaGuardia Airport|\n",
      "| 2021-03-01|   LaGuardia Airport|\n",
      "| 2021-03-01|         JFK Airport|\n",
      "| 2021-03-01|     Lenox Hill East|\n",
      "| 2021-03-01|Upper West Side S...|\n",
      "| 2021-03-01|    Hamilton Heights|\n",
      "| 2021-03-01|   East Harlem North|\n",
      "| 2021-03-01|Upper West Side S...|\n",
      "| 2021-03-01|         JFK Airport|\n",
      "| 2021-03-01|Upper West Side S...|\n",
      "| 2021-03-01|         JFK Airport|\n",
      "| 2021-03-01|Sutton Place/Turt...|\n",
      "+-----------+--------------------+\n",
      "only showing top 20 rows\n",
      "\n"
     ]
    }
   ],
   "source": [
    "comb_df.select(\"pickup_date\", \"pickup_zone\").show()"
   ]
  },
  {
   "cell_type": "code",
   "execution_count": 21,
   "id": "b1deb385",
   "metadata": {},
   "outputs": [
    {
     "name": "stdout",
     "output_type": "stream",
     "text": [
      "+-----------+-----------+--------------------+------------+\n",
      "|pickup_date|pickup_time|         pickup_zone|total_amount|\n",
      "+-----------+-----------+--------------------+------------+\n",
      "| 2021-03-01|          0|                  NV|         4.3|\n",
      "| 2021-03-01|          0|      Manhattanville|         3.8|\n",
      "| 2021-03-01|          0|      Manhattanville|         4.8|\n",
      "| 2021-03-01|          0|   LaGuardia Airport|       70.07|\n",
      "| 2021-03-01|          0|        East Chelsea|       11.16|\n",
      "| 2021-03-01|          0|Upper West Side S...|       18.59|\n",
      "| 2021-03-01|          0|Penn Station/Madi...|        43.8|\n",
      "| 2021-03-01|          0|         JFK Airport|        32.3|\n",
      "| 2021-03-01|          0|   LaGuardia Airport|       43.67|\n",
      "| 2021-03-01|          0|   LaGuardia Airport|        46.1|\n",
      "| 2021-03-01|          0|         JFK Airport|        45.3|\n",
      "| 2021-03-01|          0|     Lenox Hill East|        19.3|\n",
      "| 2021-03-01|          0|Upper West Side S...|        14.8|\n",
      "| 2021-03-01|          0|    Hamilton Heights|        12.8|\n",
      "| 2021-03-01|          0|   East Harlem North|         5.3|\n",
      "| 2021-03-01|          0|Upper West Side S...|        17.3|\n",
      "| 2021-03-01|          0|         JFK Airport|       47.25|\n",
      "| 2021-03-01|          0|Upper West Side S...|        12.8|\n",
      "| 2021-03-01|          0|         JFK Airport|       61.42|\n",
      "| 2021-03-01|          0|Sutton Place/Turt...|       14.16|\n",
      "+-----------+-----------+--------------------+------------+\n",
      "only showing top 20 rows\n",
      "\n"
     ]
    }
   ],
   "source": [
    "spark.sql(\"select pickup_date, pickup_time, pickup_zone, total_amount from comb\").show()"
   ]
  },
  {
   "cell_type": "code",
   "execution_count": 22,
   "id": "64a79455",
   "metadata": {},
   "outputs": [
    {
     "name": "stdout",
     "output_type": "stream",
     "text": [
      "+-----------+-----------+--------------------+------------+\n",
      "|pickup_date|pickup_time|         pickup_zone|total_amount|\n",
      "+-----------+-----------+--------------------+------------+\n",
      "| 2021-02-28|         23|     Lenox Hill West|        9.36|\n",
      "| 2021-02-28|         23|        Clinton East|        11.8|\n",
      "| 2021-02-28|         23|Penn Station/Madi...|       17.16|\n",
      "| 2021-02-28|         23|      Yorkville West|       17.88|\n",
      "| 2021-02-28|         23|Penn Station/Madi...|        14.8|\n",
      "| 2021-02-28|         23|        Clinton East|        14.3|\n",
      "| 2021-02-28|         23|            Union Sq|        22.3|\n",
      "| 2021-03-01|         22|         JFK Airport|        65.0|\n",
      "| 2021-03-01|         13|   East Harlem South|         5.8|\n",
      "| 2021-03-01|         13|         Murray Hill|         6.3|\n",
      "| 2021-03-01|         13| UN/Turtle Bay South|        18.8|\n",
      "| 2021-03-01|         13|    Manhattan Valley|         6.3|\n",
      "| 2021-03-01|         13|            Union Sq|       12.36|\n",
      "| 2021-03-01|         13|Upper East Side N...|        12.3|\n",
      "| 2021-03-01|         13|Upper West Side N...|       15.36|\n",
      "| 2021-03-01|         13|     Lenox Hill East|       13.56|\n",
      "| 2021-03-01|         13|       Melrose South|       18.36|\n",
      "| 2021-03-01|         13|Sutton Place/Turt...|        20.3|\n",
      "| 2021-03-01|         13|    Garment District|        13.3|\n",
      "| 2021-03-01|         13|     Lower East Side|        12.3|\n",
      "+-----------+-----------+--------------------+------------+\n",
      "only showing top 20 rows\n",
      "\n"
     ]
    }
   ],
   "source": [
    "spark.sql(\"select pickup_date, pickup_time, pickup_zone, total_amount from comb \\\n",
    "where pickup_time > 12\").show()"
   ]
  },
  {
   "cell_type": "code",
   "execution_count": 23,
   "id": "563eda87",
   "metadata": {},
   "outputs": [
    {
     "name": "stderr",
     "output_type": "stream",
     "text": [
      "[Stage 39:=============================>                            (1 + 1) / 2]\r"
     ]
    },
    {
     "name": "stdout",
     "output_type": "stream",
     "text": [
      "+-----------+-----------+--------------------+------------+\n",
      "|pickup_date|pickup_time|         pickup_zone|total_amount|\n",
      "+-----------+-----------+--------------------+------------+\n",
      "| 2009-01-01|          0| Lincoln Square West|        21.3|\n",
      "| 2008-12-31|         23|             Erasmus|         5.3|\n",
      "| 2009-01-01|          0|        Clinton East|         9.3|\n",
      "| 2009-01-01|          0|        Midtown East|        -3.3|\n",
      "| 2009-01-01|          0|        Midtown East|         3.3|\n",
      "| 2009-01-01|          0|Queensbridge/Rave...|         3.3|\n",
      "| 2009-01-01|          0|         JFK Airport|        49.8|\n",
      "| 2009-01-01|          1|Queensbridge/Rave...|         0.0|\n",
      "| 2009-01-01|          0|Queensbridge/Rave...|         5.3|\n",
      "| 2008-12-31|         23| Lincoln Square West|        13.0|\n",
      "| 2008-12-31|         23|Sutton Place/Turt...|        9.96|\n",
      "| 2008-12-31|         23|        Central Park|        12.8|\n",
      "| 2008-12-31|         23|Upper East Side S...|         8.8|\n",
      "| 2009-01-01|          0|      Yorkville East|       28.56|\n",
      "| 2009-01-01|          0|       Midtown North|        21.8|\n",
      "| 2009-01-01|          0| Lincoln Square East|         8.8|\n",
      "| 2009-01-01|         16|   Battery Park City|       14.76|\n",
      "| 2009-01-01|         16|            Kips Bay|       53.56|\n",
      "| 2009-01-01|          0|Queensbridge/Rave...|         0.0|\n",
      "| 2009-01-01|          0|     Lenox Hill West|         8.8|\n",
      "+-----------+-----------+--------------------+------------+\n",
      "only showing top 20 rows\n",
      "\n"
     ]
    },
    {
     "name": "stderr",
     "output_type": "stream",
     "text": [
      "\r",
      "                                                                                \r"
     ]
    }
   ],
   "source": [
    "spark.sql(\"select pickup_date, pickup_time, pickup_zone, total_amount from comb \\\n",
    "where pickup_date < '2020-12-31'\").show() # 불필요한 데이터, 잘못된 데이터를 정리할 필요가 있다."
   ]
  },
  {
   "cell_type": "code",
   "execution_count": 24,
   "id": "651b9b1b",
   "metadata": {},
   "outputs": [
    {
     "name": "stderr",
     "output_type": "stream",
     "text": [
      "[Stage 41:==============================================>          (9 + 2) / 11]\r"
     ]
    },
    {
     "name": "stdout",
     "output_type": "stream",
     "text": [
      "+-------+-----------------+\n",
      "|summary|     total_amount|\n",
      "+-------+-----------------+\n",
      "|  count|         15000700|\n",
      "|   mean|18.75545205708744|\n",
      "| stddev|145.7442452805979|\n",
      "|    min|           -647.8|\n",
      "|    max|         398469.2|\n",
      "+-------+-----------------+\n",
      "\n"
     ]
    },
    {
     "name": "stderr",
     "output_type": "stream",
     "text": [
      "\r",
      "                                                                                \r"
     ]
    }
   ],
   "source": [
    "spark.sql(\"SELECT pickup_date, total_amount from comb\").describe().show()"
   ]
  },
  {
   "cell_type": "code",
   "execution_count": 25,
   "id": "272398f6",
   "metadata": {},
   "outputs": [
    {
     "name": "stderr",
     "output_type": "stream",
     "text": [
      "                                                                                \r"
     ]
    },
    {
     "name": "stdout",
     "output_type": "stream",
     "text": [
      "+-------+------------------+\n",
      "|summary|   passenger_count|\n",
      "+-------+------------------+\n",
      "|  count|          14166672|\n",
      "|   mean|1.4253783104458126|\n",
      "| stddev|  1.04432704905968|\n",
      "|    min|                 0|\n",
      "|    max|                 9|\n",
      "+-------+------------------+\n",
      "\n"
     ]
    }
   ],
   "source": [
    "spark.sql(\"SELECT passenger_count from comb\").describe().show()"
   ]
  },
  {
   "cell_type": "code",
   "execution_count": 28,
   "id": "9f53523c",
   "metadata": {},
   "outputs": [
    {
     "name": "stderr",
     "output_type": "stream",
     "text": [
      "[Stage 49:==================================================>     (10 + 1) / 11]\r"
     ]
    },
    {
     "name": "stdout",
     "output_type": "stream",
     "text": [
      "+-------+-----------------+\n",
      "|summary|    trip_distance|\n",
      "+-------+-----------------+\n",
      "|  count|         15000700|\n",
      "|   mean|6.628629402627818|\n",
      "| stddev|671.7293482115828|\n",
      "|    min|              0.0|\n",
      "|    max|        332541.19|\n",
      "+-------+-----------------+\n",
      "\n"
     ]
    },
    {
     "name": "stderr",
     "output_type": "stream",
     "text": [
      "\r",
      "                                                                                \r"
     ]
    }
   ],
   "source": [
    "spark.sql(\"select trip_distance from comb\").describe().show()"
   ]
  },
  {
   "cell_type": "code",
   "execution_count": 26,
   "id": "4bafc639",
   "metadata": {
    "scrolled": true
   },
   "outputs": [
    {
     "name": "stdout",
     "output_type": "stream",
     "text": [
      "root\n",
      " |-- vendor_id: integer (nullable = true)\n",
      " |-- pickup_date: date (nullable = true)\n",
      " |-- dropoff_date: date (nullable = true)\n",
      " |-- pickup_time: integer (nullable = true)\n",
      " |-- dropoff_time: integer (nullable = true)\n",
      " |-- passenger_count: integer (nullable = true)\n",
      " |-- trip_distance: double (nullable = true)\n",
      " |-- tip_amount: double (nullable = true)\n",
      " |-- tolls_amount: double (nullable = true)\n",
      " |-- total_amount: double (nullable = true)\n",
      " |-- pickup_zone: string (nullable = true)\n",
      " |-- dropoff_zone: string (nullable = true)\n",
      "\n"
     ]
    }
   ],
   "source": [
    "comb_df.printSchema()"
   ]
  },
  {
   "cell_type": "code",
   "execution_count": 33,
   "id": "57b5b12d",
   "metadata": {},
   "outputs": [],
   "source": [
    "query = \"\"\"\n",
    "SELECT \n",
    "    DATE_TRUNC('month', c.pickup_date) as month,\n",
    "    count(c.pickup_date) as count\n",
    "FROM\n",
    "    comb c\n",
    "GROUP BY\n",
    "    month\n",
    "ORDER BY\n",
    "    month desc\n",
    "\"\"\""
   ]
  },
  {
   "cell_type": "code",
   "execution_count": 34,
   "id": "44d4a2c0",
   "metadata": {},
   "outputs": [
    {
     "name": "stderr",
     "output_type": "stream",
     "text": [
      "[Stage 57:==================================================>     (10 + 1) / 11]\r"
     ]
    },
    {
     "name": "stdout",
     "output_type": "stream",
     "text": [
      "+-------------------+-------+\n",
      "|              month|  count|\n",
      "+-------------------+-------+\n",
      "|2029-05-01 00:00:00|      1|\n",
      "|2021-12-01 00:00:00|      5|\n",
      "|2021-11-01 00:00:00|      5|\n",
      "|2021-10-01 00:00:00|      3|\n",
      "|2021-09-01 00:00:00|      3|\n",
      "|2021-08-01 00:00:00|     36|\n",
      "|2021-07-01 00:00:00|2821430|\n",
      "|2021-06-01 00:00:00|2834204|\n",
      "|2021-05-01 00:00:00|2507075|\n",
      "|2021-04-01 00:00:00|2171215|\n",
      "|2021-03-01 00:00:00|1925130|\n",
      "|2021-02-01 00:00:00|1371688|\n",
      "|2021-01-01 00:00:00|1369749|\n",
      "|2020-12-01 00:00:00|     16|\n",
      "|2009-01-01 00:00:00|    111|\n",
      "|2008-12-01 00:00:00|     26|\n",
      "|2004-04-01 00:00:00|      1|\n",
      "|2003-01-01 00:00:00|      1|\n",
      "|2002-12-01 00:00:00|      1|\n",
      "+-------------------+-------+\n",
      "\n"
     ]
    },
    {
     "name": "stderr",
     "output_type": "stream",
     "text": [
      "\r",
      "                                                                                \r"
     ]
    }
   ],
   "source": [
    "spark.sql(query).show()"
   ]
  },
  {
   "cell_type": "code",
   "execution_count": 57,
   "id": "d9732f92",
   "metadata": {},
   "outputs": [],
   "source": [
    "# 불필요한 데이터가 무엇이 있는지 파악하기 위해 여러 칼럼들을 조회한 뒤 불필요한 데이들을 제거하기 위한 쿼리문을 짠다.\n",
    "\n",
    "query = \"\"\"\n",
    "SELECT\n",
    "    *\n",
    "FROM\n",
    "    comb\n",
    "WHERE\n",
    "    pickup_date >= '2021-01-01'\n",
    "AND\n",
    "    pickup_date < '2021-08-01'\n",
    "AND\n",
    "    trip_distance > 0\n",
    "AND\n",
    "    trip_distance < 600\n",
    "AND\n",
    "    passenger_count > 0\n",
    "AND\n",
    "   total_amount > 0 \n",
    "    \n",
    "\"\"\"\n",
    "\n",
    "cleaned_df = spark.sql(query)\n",
    "cleaned_df.createOrReplaceTempView(\"cleaned\")\n"
   ]
  },
  {
   "cell_type": "code",
   "execution_count": 58,
   "id": "e6e20beb",
   "metadata": {},
   "outputs": [
    {
     "name": "stdout",
     "output_type": "stream",
     "text": [
      "+---------+-----------+------------+-----------+------------+---------------+-------------+----------+------------+------------+--------------------+--------------------+\n",
      "|vendor_id|pickup_date|dropoff_date|pickup_time|dropoff_time|passenger_count|trip_distance|tip_amount|tolls_amount|total_amount|         pickup_zone|        dropoff_zone|\n",
      "+---------+-----------+------------+-----------+------------+---------------+-------------+----------+------------+------------+--------------------+--------------------+\n",
      "|        2| 2021-03-01|  2021-03-01|          0|           0|              1|         1.13|      1.86|         0.0|       11.16|        East Chelsea|                  NV|\n",
      "|        2| 2021-03-01|  2021-03-01|          0|           0|              1|         2.68|      4.29|         0.0|       18.59|Upper West Side S...|      Yorkville East|\n",
      "|        1| 2021-03-01|  2021-03-01|          0|           0|              1|         12.4|       0.0|         0.0|        43.8|Penn Station/Madi...|           Flatlands|\n",
      "|        1| 2021-03-01|  2021-03-01|          0|           1|              2|          9.7|       0.0|         0.0|        32.3|         JFK Airport|                  NA|\n",
      "|        1| 2021-03-01|  2021-03-01|          0|           0|              1|          9.3|      7.25|        6.12|       43.67|   LaGuardia Airport|     Lenox Hill West|\n",
      "|        2| 2021-03-01|  2021-03-01|          0|           0|              1|         9.58|      7.68|        6.12|        46.1|   LaGuardia Airport|        Clinton West|\n",
      "|        1| 2021-03-01|  2021-03-01|          0|           0|              1|         16.2|       0.0|         0.0|        45.3|         JFK Airport|           Homecrest|\n",
      "|        2| 2021-03-01|  2021-03-01|          0|           0|              1|         3.58|       2.0|         0.0|        19.3|     Lenox Hill East|             Astoria|\n",
      "|        2| 2021-03-01|  2021-03-01|          0|           0|              1|         0.91|       5.0|         0.0|        14.8|Upper West Side S...|Upper West Side N...|\n",
      "|        2| 2021-03-01|  2021-03-01|          0|           0|              2|         2.57|       0.0|         0.0|        12.8|    Hamilton Heights|      Central Harlem|\n",
      "|        2| 2021-03-01|  2021-03-01|          0|           0|              1|          0.4|       0.0|         0.0|         5.3|   East Harlem North|      Central Harlem|\n",
      "|        2| 2021-03-01|  2021-03-01|          0|           0|              1|         3.26|       0.0|         0.0|        17.3|Upper West Side S...| Little Italy/NoLiTa|\n",
      "|        2| 2021-03-01|  2021-03-01|          0|           0|              1|        13.41|      9.45|         0.0|       47.25|         JFK Airport|           Flatlands|\n",
      "|        2| 2021-03-01|  2021-03-01|          0|           0|              5|         2.35|       0.0|         0.0|        12.8|Upper West Side S...|        Clinton West|\n",
      "|        1| 2021-03-01|  2021-03-01|          0|           0|              2|         18.3|       0.0|        6.12|       61.42|         JFK Airport|Times Sq/Theatre ...|\n",
      "|        2| 2021-03-01|  2021-03-01|          0|           0|              1|         1.53|      2.36|         0.0|       14.16|Sutton Place/Turt...|        Clinton East|\n",
      "|        2| 2021-03-01|  2021-03-01|          0|           0|              1|          2.0|       0.0|         0.0|        11.8|        Clinton East|        East Chelsea|\n",
      "|        2| 2021-03-01|  2021-03-01|          0|           0|              2|         16.6|      9.16|         0.0|       54.96|         JFK Airport|Williamsburg (Nor...|\n",
      "|        1| 2021-03-01|  2021-03-01|          0|           1|              1|         15.5|     12.95|         0.0|       56.25|         JFK Airport|Long Island City/...|\n",
      "|        1| 2021-03-01|  2021-03-01|          0|           0|              2|          1.3|       0.0|         0.0|        16.8|        East Village|       Midtown South|\n",
      "+---------+-----------+------------+-----------+------------+---------------+-------------+----------+------------+------------+--------------------+--------------------+\n",
      "only showing top 20 rows\n",
      "\n"
     ]
    }
   ],
   "source": [
    "spark.sql(\"SELECT * FROM cleaned\").show()"
   ]
  },
  {
   "cell_type": "code",
   "execution_count": 59,
   "id": "d4c256f0",
   "metadata": {},
   "outputs": [
    {
     "name": "stderr",
     "output_type": "stream",
     "text": [
      "[Stage 99:==================================================>     (10 + 1) / 11]\r"
     ]
    },
    {
     "name": "stdout",
     "output_type": "stream",
     "text": [
      "+-------+------------------+\n",
      "|summary|     trip_distance|\n",
      "+-------+------------------+\n",
      "|  count|          13611865|\n",
      "|   mean| 2.893801805997893|\n",
      "| stddev|3.8953222033561405|\n",
      "|    min|              0.01|\n",
      "|    max|            599.88|\n",
      "+-------+------------------+\n",
      "\n"
     ]
    },
    {
     "name": "stderr",
     "output_type": "stream",
     "text": [
      "\r",
      "                                                                                \r"
     ]
    }
   ],
   "source": [
    "spark.sql(\"SELECT trip_distance FROM cleaned\").describe().show()"
   ]
  },
  {
   "cell_type": "code",
   "execution_count": 60,
   "id": "ef79e70b",
   "metadata": {},
   "outputs": [],
   "source": [
    "query = \"\"\"\n",
    "SELECT \n",
    "    DATE_TRUNC('month', c.pickup_date) as month,\n",
    "    count(c.pickup_date) as count\n",
    "FROM\n",
    "    cleaned c\n",
    "GROUP BY\n",
    "    month\n",
    "ORDER BY\n",
    "    month desc\n",
    "\"\"\""
   ]
  },
  {
   "cell_type": "code",
   "execution_count": 61,
   "id": "ef50a63f",
   "metadata": {},
   "outputs": [
    {
     "name": "stderr",
     "output_type": "stream",
     "text": [
      "[Stage 103:==================================================>    (10 + 1) / 11]\r"
     ]
    },
    {
     "name": "stdout",
     "output_type": "stream",
     "text": [
      "+-------------------+-------+\n",
      "|              month|  count|\n",
      "+-------------------+-------+\n",
      "|2021-07-01 00:00:00|2581826|\n",
      "|2021-06-01 00:00:00|2603802|\n",
      "|2021-05-01 00:00:00|2291076|\n",
      "|2021-04-01 00:00:00|1963371|\n",
      "|2021-03-01 00:00:00|1727252|\n",
      "|2021-02-01 00:00:00|1224314|\n",
      "|2021-01-01 00:00:00|1220224|\n",
      "+-------------------+-------+\n",
      "\n"
     ]
    },
    {
     "name": "stderr",
     "output_type": "stream",
     "text": [
      "\r",
      "                                                                                \r"
     ]
    }
   ],
   "source": [
    "spark.sql(query).show()"
   ]
  },
  {
   "cell_type": "code",
   "execution_count": 63,
   "id": "71350013",
   "metadata": {},
   "outputs": [
    {
     "name": "stderr",
     "output_type": "stream",
     "text": [
      "[Stage 109:==================================================>    (10 + 1) / 11]\r"
     ]
    },
    {
     "name": "stdout",
     "output_type": "stream",
     "text": [
      "+-------+------------------+\n",
      "|summary|   passenger_count|\n",
      "+-------+------------------+\n",
      "|  count|          13611865|\n",
      "|   mean|1.4618789563369898|\n",
      "| stddev|1.0373325143575773|\n",
      "|    min|                 1|\n",
      "|    max|                 9|\n",
      "+-------+------------------+\n",
      "\n"
     ]
    },
    {
     "name": "stderr",
     "output_type": "stream",
     "text": [
      "\r",
      "                                                                                \r"
     ]
    }
   ],
   "source": [
    "spark.sql(\"select passenger_count from cleaned\").describe().show()"
   ]
  },
  {
   "cell_type": "code",
   "execution_count": null,
   "id": "c83731ea",
   "metadata": {},
   "outputs": [],
   "source": []
  }
 ],
 "metadata": {
  "kernelspec": {
   "display_name": "Python 3 (ipykernel)",
   "language": "python",
   "name": "python3"
  },
  "language_info": {
   "codemirror_mode": {
    "name": "ipython",
    "version": 3
   },
   "file_extension": ".py",
   "mimetype": "text/x-python",
   "name": "python",
   "nbconvert_exporter": "python",
   "pygments_lexer": "ipython3",
   "version": "3.9.7"
  }
 },
 "nbformat": 4,
 "nbformat_minor": 5
}
