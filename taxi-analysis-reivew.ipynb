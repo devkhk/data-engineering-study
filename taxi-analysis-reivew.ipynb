{
 "cells": [
  {
   "cell_type": "code",
   "execution_count": 2,
   "id": "0e3f7dc0",
   "metadata": {},
   "outputs": [],
   "source": [
    "from pyspark.sql import SparkSession"
   ]
  },
  {
   "cell_type": "code",
   "execution_count": 4,
   "id": "a79b5df5",
   "metadata": {},
   "outputs": [
    {
     "name": "stderr",
     "output_type": "stream",
     "text": [
      "22/04/05 18:27:56 WARN Utils: Your hostname, devkhk-MacBook-Air.local resolves to a loopback address: 127.0.0.1; using 172.30.1.27 instead (on interface en0)\n",
      "22/04/05 18:27:56 WARN Utils: Set SPARK_LOCAL_IP if you need to bind to another address\n",
      "Using Spark's default log4j profile: org/apache/spark/log4j-defaults.properties\n",
      "Setting default log level to \"WARN\".\n",
      "To adjust logging level use sc.setLogLevel(newLevel). For SparkR, use setLogLevel(newLevel).\n",
      "22/04/05 18:27:57 WARN NativeCodeLoader: Unable to load native-hadoop library for your platform... using builtin-java classes where applicable\n",
      "22/04/05 18:27:58 WARN Utils: Service 'SparkUI' could not bind on port 4040. Attempting port 4041.\n"
     ]
    }
   ],
   "source": [
    "spark = SparkSession.builder.appName(\"taxi-analysis\").getOrCreate()"
   ]
  },
  {
   "cell_type": "code",
   "execution_count": 14,
   "id": "71dff7d3",
   "metadata": {},
   "outputs": [],
   "source": [
    "trip_files = \"/Users/devkhk/Documents/data-engineering-study/data/trips/*\"\n",
    "zone_file = \"/Users/devkhk/Documents/data-engineering-study/data/taxi+_zone_lookup.csv\""
   ]
  },
  {
   "cell_type": "code",
   "execution_count": 18,
   "id": "de6f0428",
   "metadata": {},
   "outputs": [
    {
     "name": "stderr",
     "output_type": "stream",
     "text": [
      "                                                                                \r"
     ]
    }
   ],
   "source": [
    "trips_df = spark.read.csv(f\"file:///{trip_files}\", header=True, inferSchema=True)\n",
    "zone_df = spark.read.csv(f\"file:///{zone_file}\", header=True, inferSchema=True)"
   ]
  },
  {
   "cell_type": "code",
   "execution_count": 23,
   "id": "cbd6e4e9",
   "metadata": {},
   "outputs": [],
   "source": [
    "trips_df.createOrReplaceTempView(\"trips\")\n",
    "zone_df.createOrReplaceTempView(\"zone\")"
   ]
  },
  {
   "cell_type": "code",
   "execution_count": 25,
   "id": "d286e238",
   "metadata": {},
   "outputs": [
    {
     "name": "stdout",
     "output_type": "stream",
     "text": [
      "root\n",
      " |-- VendorID: integer (nullable = true)\n",
      " |-- tpep_pickup_datetime: string (nullable = true)\n",
      " |-- tpep_dropoff_datetime: string (nullable = true)\n",
      " |-- passenger_count: integer (nullable = true)\n",
      " |-- trip_distance: double (nullable = true)\n",
      " |-- RatecodeID: integer (nullable = true)\n",
      " |-- store_and_fwd_flag: string (nullable = true)\n",
      " |-- PULocationID: integer (nullable = true)\n",
      " |-- DOLocationID: integer (nullable = true)\n",
      " |-- payment_type: integer (nullable = true)\n",
      " |-- fare_amount: double (nullable = true)\n",
      " |-- extra: double (nullable = true)\n",
      " |-- mta_tax: double (nullable = true)\n",
      " |-- tip_amount: double (nullable = true)\n",
      " |-- tolls_amount: double (nullable = true)\n",
      " |-- improvement_surcharge: double (nullable = true)\n",
      " |-- total_amount: double (nullable = true)\n",
      " |-- congestion_surcharge: double (nullable = true)\n",
      "\n",
      "root\n",
      " |-- LocationID: integer (nullable = true)\n",
      " |-- Borough: string (nullable = true)\n",
      " |-- Zone: string (nullable = true)\n",
      " |-- service_zone: string (nullable = true)\n",
      "\n"
     ]
    }
   ],
   "source": [
    "trips_df.printSchema()\n",
    "zone_df.printSchema()"
   ]
  },
  {
   "cell_type": "code",
   "execution_count": 53,
   "id": "f8272305",
   "metadata": {},
   "outputs": [],
   "source": [
    "# 두 테이블을 join해서 지역번호를 zone 이름으로 대체하는 테이블을 만든다.\n",
    "\n",
    "query = \"\"\"\n",
    "SELECT \n",
    "    t.VendorID as vendor_id,\n",
    "    TO_DATE(t.tpep_pickup_datetime) as pickup_date,\n",
    "    TO_DATE(t.tpep_dropoff_datetime) as dropoff_date,\n",
    "    HOUR(t.tpep_pickup_datetime) as pickup_time,\n",
    "    HOUR(t.tpep_dropoff_datetime) as dropoff_time,\n",
    "    t.passenger_count,\n",
    "    t.tip_amount,\n",
    "    t.tolls_amount,\n",
    "    t.total_amount,\n",
    "    pz.Zone as pickup_zone,\n",
    "    dz.Zone as dropoff_zone\n",
    "FROM\n",
    "    trips t\n",
    "    LEFT JOIN \n",
    "        zone pz\n",
    "    ON\n",
    "        t.PULocationID = pz.LocationID \n",
    "    LEFT JOIN\n",
    "        zone dz\n",
    "    ON\n",
    "        t.DOLocationID = dz.LocationID\n",
    "\"\"\"\n"
   ]
  },
  {
   "cell_type": "code",
   "execution_count": 54,
   "id": "e14fc5ed",
   "metadata": {},
   "outputs": [],
   "source": [
    "comb_df = spark.sql(query)\n",
    "comb_df.createOrReplaceTempView(\"comb\")"
   ]
  },
  {
   "cell_type": "code",
   "execution_count": 55,
   "id": "8170aa0c",
   "metadata": {},
   "outputs": [
    {
     "name": "stdout",
     "output_type": "stream",
     "text": [
      "root\n",
      " |-- vendor_id: integer (nullable = true)\n",
      " |-- pickup_date: date (nullable = true)\n",
      " |-- dropoff_date: date (nullable = true)\n",
      " |-- pickup_time: integer (nullable = true)\n",
      " |-- dropoff_time: integer (nullable = true)\n",
      " |-- passenger_count: integer (nullable = true)\n",
      " |-- tip_amount: double (nullable = true)\n",
      " |-- tolls_amount: double (nullable = true)\n",
      " |-- total_amount: double (nullable = true)\n",
      " |-- pickup_zone: string (nullable = true)\n",
      " |-- dropoff_zone: string (nullable = true)\n",
      "\n"
     ]
    }
   ],
   "source": [
    "comb_df.printSchema()"
   ]
  },
  {
   "cell_type": "code",
   "execution_count": 56,
   "id": "6fe0683a",
   "metadata": {},
   "outputs": [
    {
     "name": "stdout",
     "output_type": "stream",
     "text": [
      "+-----------+--------------------+\n",
      "|pickup_date|         pickup_zone|\n",
      "+-----------+--------------------+\n",
      "| 2021-03-01|                  NV|\n",
      "| 2021-03-01|      Manhattanville|\n",
      "| 2021-03-01|      Manhattanville|\n",
      "| 2021-03-01|   LaGuardia Airport|\n",
      "| 2021-03-01|        East Chelsea|\n",
      "| 2021-03-01|Upper West Side S...|\n",
      "| 2021-03-01|Penn Station/Madi...|\n",
      "| 2021-03-01|         JFK Airport|\n",
      "| 2021-03-01|   LaGuardia Airport|\n",
      "| 2021-03-01|   LaGuardia Airport|\n",
      "| 2021-03-01|         JFK Airport|\n",
      "| 2021-03-01|     Lenox Hill East|\n",
      "| 2021-03-01|Upper West Side S...|\n",
      "| 2021-03-01|    Hamilton Heights|\n",
      "| 2021-03-01|   East Harlem North|\n",
      "| 2021-03-01|Upper West Side S...|\n",
      "| 2021-03-01|         JFK Airport|\n",
      "| 2021-03-01|Upper West Side S...|\n",
      "| 2021-03-01|         JFK Airport|\n",
      "| 2021-03-01|Sutton Place/Turt...|\n",
      "+-----------+--------------------+\n",
      "only showing top 20 rows\n",
      "\n"
     ]
    }
   ],
   "source": [
    "comb_df.select(\"pickup_date\", \"pickup_zone\").show()"
   ]
  },
  {
   "cell_type": "code",
   "execution_count": 57,
   "id": "b1deb385",
   "metadata": {},
   "outputs": [
    {
     "name": "stdout",
     "output_type": "stream",
     "text": [
      "+-----------+-----------+--------------------+------------+\n",
      "|pickup_date|pickup_time|         pickup_zone|total_amount|\n",
      "+-----------+-----------+--------------------+------------+\n",
      "| 2021-03-01|          0|                  NV|         4.3|\n",
      "| 2021-03-01|          0|      Manhattanville|         3.8|\n",
      "| 2021-03-01|          0|      Manhattanville|         4.8|\n",
      "| 2021-03-01|          0|   LaGuardia Airport|       70.07|\n",
      "| 2021-03-01|          0|        East Chelsea|       11.16|\n",
      "| 2021-03-01|          0|Upper West Side S...|       18.59|\n",
      "| 2021-03-01|          0|Penn Station/Madi...|        43.8|\n",
      "| 2021-03-01|          0|         JFK Airport|        32.3|\n",
      "| 2021-03-01|          0|   LaGuardia Airport|       43.67|\n",
      "| 2021-03-01|          0|   LaGuardia Airport|        46.1|\n",
      "| 2021-03-01|          0|         JFK Airport|        45.3|\n",
      "| 2021-03-01|          0|     Lenox Hill East|        19.3|\n",
      "| 2021-03-01|          0|Upper West Side S...|        14.8|\n",
      "| 2021-03-01|          0|    Hamilton Heights|        12.8|\n",
      "| 2021-03-01|          0|   East Harlem North|         5.3|\n",
      "| 2021-03-01|          0|Upper West Side S...|        17.3|\n",
      "| 2021-03-01|          0|         JFK Airport|       47.25|\n",
      "| 2021-03-01|          0|Upper West Side S...|        12.8|\n",
      "| 2021-03-01|          0|         JFK Airport|       61.42|\n",
      "| 2021-03-01|          0|Sutton Place/Turt...|       14.16|\n",
      "+-----------+-----------+--------------------+------------+\n",
      "only showing top 20 rows\n",
      "\n"
     ]
    }
   ],
   "source": [
    "spark.sql(\"select pickup_date, pickup_time, pickup_zone, total_amount from comb\").show()"
   ]
  },
  {
   "cell_type": "code",
   "execution_count": 58,
   "id": "64a79455",
   "metadata": {},
   "outputs": [
    {
     "name": "stdout",
     "output_type": "stream",
     "text": [
      "+-----------+-----------+--------------------+------------+\n",
      "|pickup_date|pickup_time|         pickup_zone|total_amount|\n",
      "+-----------+-----------+--------------------+------------+\n",
      "| 2021-02-28|         23|     Lenox Hill West|        9.36|\n",
      "| 2021-02-28|         23|        Clinton East|        11.8|\n",
      "| 2021-02-28|         23|Penn Station/Madi...|       17.16|\n",
      "| 2021-02-28|         23|      Yorkville West|       17.88|\n",
      "| 2021-02-28|         23|Penn Station/Madi...|        14.8|\n",
      "| 2021-02-28|         23|        Clinton East|        14.3|\n",
      "| 2021-02-28|         23|            Union Sq|        22.3|\n",
      "| 2021-03-01|         22|         JFK Airport|        65.0|\n",
      "| 2021-03-01|         13|   East Harlem South|         5.8|\n",
      "| 2021-03-01|         13|         Murray Hill|         6.3|\n",
      "| 2021-03-01|         13| UN/Turtle Bay South|        18.8|\n",
      "| 2021-03-01|         13|    Manhattan Valley|         6.3|\n",
      "| 2021-03-01|         13|            Union Sq|       12.36|\n",
      "| 2021-03-01|         13|Upper East Side N...|        12.3|\n",
      "| 2021-03-01|         13|Upper West Side N...|       15.36|\n",
      "| 2021-03-01|         13|     Lenox Hill East|       13.56|\n",
      "| 2021-03-01|         13|       Melrose South|       18.36|\n",
      "| 2021-03-01|         13|Sutton Place/Turt...|        20.3|\n",
      "| 2021-03-01|         13|    Garment District|        13.3|\n",
      "| 2021-03-01|         13|     Lower East Side|        12.3|\n",
      "+-----------+-----------+--------------------+------------+\n",
      "only showing top 20 rows\n",
      "\n"
     ]
    }
   ],
   "source": [
    "spark.sql(\"select pickup_date, pickup_time, pickup_zone, total_amount from comb \\\n",
    "where pickup_time > 12\").show()"
   ]
  },
  {
   "cell_type": "code",
   "execution_count": 60,
   "id": "563eda87",
   "metadata": {},
   "outputs": [
    {
     "name": "stderr",
     "output_type": "stream",
     "text": [
      "[Stage 35:=============================>                            (1 + 1) / 2]\r"
     ]
    },
    {
     "name": "stdout",
     "output_type": "stream",
     "text": [
      "+-----------+-----------+--------------------+------------+\n",
      "|pickup_date|pickup_time|         pickup_zone|total_amount|\n",
      "+-----------+-----------+--------------------+------------+\n",
      "| 2009-01-01|          0| Lincoln Square West|        21.3|\n",
      "| 2008-12-31|         23|             Erasmus|         5.3|\n",
      "| 2009-01-01|          0|        Clinton East|         9.3|\n",
      "| 2009-01-01|          0|        Midtown East|        -3.3|\n",
      "| 2009-01-01|          0|        Midtown East|         3.3|\n",
      "| 2009-01-01|          0|Queensbridge/Rave...|         3.3|\n",
      "| 2009-01-01|          0|         JFK Airport|        49.8|\n",
      "| 2009-01-01|          1|Queensbridge/Rave...|         0.0|\n",
      "| 2009-01-01|          0|Queensbridge/Rave...|         5.3|\n",
      "| 2008-12-31|         23| Lincoln Square West|        13.0|\n",
      "| 2008-12-31|         23|Sutton Place/Turt...|        9.96|\n",
      "| 2008-12-31|         23|        Central Park|        12.8|\n",
      "| 2008-12-31|         23|Upper East Side S...|         8.8|\n",
      "| 2009-01-01|          0|      Yorkville East|       28.56|\n",
      "| 2009-01-01|          0|       Midtown North|        21.8|\n",
      "| 2009-01-01|          0| Lincoln Square East|         8.8|\n",
      "| 2009-01-01|         16|   Battery Park City|       14.76|\n",
      "| 2009-01-01|         16|            Kips Bay|       53.56|\n",
      "| 2009-01-01|          0|Queensbridge/Rave...|         0.0|\n",
      "| 2009-01-01|          0|     Lenox Hill West|         8.8|\n",
      "+-----------+-----------+--------------------+------------+\n",
      "only showing top 20 rows\n",
      "\n"
     ]
    },
    {
     "name": "stderr",
     "output_type": "stream",
     "text": [
      "\r",
      "                                                                                \r"
     ]
    }
   ],
   "source": [
    "spark.sql(\"select pickup_date, pickup_time, pickup_zone, total_amount from comb \\\n",
    "where pickup_date < '2020-12-31'\").show() # 불필요한 데이터, 잘못된 데이터를 정리할 필요가 있다."
   ]
  },
  {
   "cell_type": "code",
   "execution_count": null,
   "id": "57b5b12d",
   "metadata": {},
   "outputs": [],
   "source": []
  }
 ],
 "metadata": {
  "kernelspec": {
   "display_name": "Python 3 (ipykernel)",
   "language": "python",
   "name": "python3"
  },
  "language_info": {
   "codemirror_mode": {
    "name": "ipython",
    "version": 3
   },
   "file_extension": ".py",
   "mimetype": "text/x-python",
   "name": "python",
   "nbconvert_exporter": "python",
   "pygments_lexer": "ipython3",
   "version": "3.9.7"
  }
 },
 "nbformat": 4,
 "nbformat_minor": 5
}
