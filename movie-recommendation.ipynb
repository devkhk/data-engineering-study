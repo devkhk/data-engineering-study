{
 "cells": [
  {
   "cell_type": "code",
   "execution_count": 1,
   "id": "16927a64",
   "metadata": {},
   "outputs": [],
   "source": [
    "from pyspark.sql import SparkSession"
   ]
  },
  {
   "cell_type": "code",
   "execution_count": 2,
   "id": "53183d51",
   "metadata": {},
   "outputs": [
    {
     "name": "stderr",
     "output_type": "stream",
     "text": [
      "22/04/06 22:34:35 WARN Utils: Your hostname, devkhk-MacBook-Air.local resolves to a loopback address: 127.0.0.1; using 172.30.1.27 instead (on interface en0)\n",
      "22/04/06 22:34:35 WARN Utils: Set SPARK_LOCAL_IP if you need to bind to another address\n",
      "Using Spark's default log4j profile: org/apache/spark/log4j-defaults.properties\n",
      "Setting default log level to \"WARN\".\n",
      "To adjust logging level use sc.setLogLevel(newLevel). For SparkR, use setLogLevel(newLevel).\n",
      "22/04/06 22:34:36 WARN NativeCodeLoader: Unable to load native-hadoop library for your platform... using builtin-java classes where applicable\n",
      "22/04/06 22:34:36 WARN Utils: Service 'SparkUI' could not bind on port 4040. Attempting port 4041.\n",
      "22/04/06 22:34:36 WARN Utils: Service 'SparkUI' could not bind on port 4041. Attempting port 4042.\n"
     ]
    }
   ],
   "source": [
    "MAX_MEMORY = '5g'\n",
    "spark = SparkSession.builder.appName(\"movie-recommendation\")\\\n",
    "    .config(\"spark.executor.memory\", MAX_MEMORY)\\\n",
    "    .config(\"spark.driver.memory\", MAX_MEMORY)\\\n",
    "    .getOrCreate()"
   ]
  },
  {
   "cell_type": "code",
   "execution_count": 3,
   "id": "e7f81428",
   "metadata": {},
   "outputs": [
    {
     "name": "stderr",
     "output_type": "stream",
     "text": [
      "                                                                                \r"
     ]
    }
   ],
   "source": [
    "ratings_file = \"/Users/devkhk/Documents/data-engineering-study/data/ml-25m/ratings.csv\"\n",
    "ratings_df = spark.read.csv(f\"file:///{ratings_file}\", inferSchema=True, header=True)"
   ]
  },
  {
   "cell_type": "code",
   "execution_count": 4,
   "id": "aea774be",
   "metadata": {},
   "outputs": [
    {
     "name": "stdout",
     "output_type": "stream",
     "text": [
      "+------+-------+------+----------+\n",
      "|userId|movieId|rating| timestamp|\n",
      "+------+-------+------+----------+\n",
      "|     1|    296|   5.0|1147880044|\n",
      "|     1|    306|   3.5|1147868817|\n",
      "|     1|    307|   5.0|1147868828|\n",
      "|     1|    665|   5.0|1147878820|\n",
      "|     1|    899|   3.5|1147868510|\n",
      "|     1|   1088|   4.0|1147868495|\n",
      "|     1|   1175|   3.5|1147868826|\n",
      "|     1|   1217|   3.5|1147878326|\n",
      "|     1|   1237|   5.0|1147868839|\n",
      "|     1|   1250|   4.0|1147868414|\n",
      "|     1|   1260|   3.5|1147877857|\n",
      "|     1|   1653|   4.0|1147868097|\n",
      "|     1|   2011|   2.5|1147868079|\n",
      "|     1|   2012|   2.5|1147868068|\n",
      "|     1|   2068|   2.5|1147869044|\n",
      "|     1|   2161|   3.5|1147868609|\n",
      "|     1|   2351|   4.5|1147877957|\n",
      "|     1|   2573|   4.0|1147878923|\n",
      "|     1|   2632|   5.0|1147878248|\n",
      "|     1|   2692|   5.0|1147869100|\n",
      "+------+-------+------+----------+\n",
      "only showing top 20 rows\n",
      "\n"
     ]
    }
   ],
   "source": [
    "ratings_df.show()"
   ]
  },
  {
   "cell_type": "code",
   "execution_count": 5,
   "id": "c1e8ff38",
   "metadata": {},
   "outputs": [],
   "source": [
    "ratings_df = ratings_df.select([\"userId\", \"movieId\", \"rating\"])"
   ]
  },
  {
   "cell_type": "code",
   "execution_count": 6,
   "id": "24f440eb",
   "metadata": {},
   "outputs": [
    {
     "name": "stdout",
     "output_type": "stream",
     "text": [
      "root\n",
      " |-- userId: integer (nullable = true)\n",
      " |-- movieId: integer (nullable = true)\n",
      " |-- rating: double (nullable = true)\n",
      "\n"
     ]
    }
   ],
   "source": [
    "ratings_df.printSchema()"
   ]
  },
  {
   "cell_type": "code",
   "execution_count": 7,
   "id": "e59dfae0",
   "metadata": {},
   "outputs": [
    {
     "name": "stderr",
     "output_type": "stream",
     "text": [
      "[Stage 3:=============================>                             (4 + 4) / 8]\r"
     ]
    },
    {
     "name": "stdout",
     "output_type": "stream",
     "text": [
      "+-------+------------------+\n",
      "|summary|            rating|\n",
      "+-------+------------------+\n",
      "|  count|          25000095|\n",
      "|   mean| 3.533854451353085|\n",
      "| stddev|1.0607439611423508|\n",
      "|    min|               0.5|\n",
      "|    max|               5.0|\n",
      "+-------+------------------+\n",
      "\n"
     ]
    },
    {
     "name": "stderr",
     "output_type": "stream",
     "text": [
      "\r",
      "                                                                                \r"
     ]
    }
   ],
   "source": [
    "ratings_df.select(\"rating\").describe().show()"
   ]
  },
  {
   "cell_type": "code",
   "execution_count": 8,
   "id": "66d7368f",
   "metadata": {},
   "outputs": [],
   "source": [
    "train_df, test_df = ratings_df.randomSplit([0.8, 0.2])"
   ]
  },
  {
   "cell_type": "code",
   "execution_count": 9,
   "id": "5ec5bf01",
   "metadata": {},
   "outputs": [],
   "source": [
    "from pyspark.ml.recommendation import ALS"
   ]
  },
  {
   "cell_type": "code",
   "execution_count": 10,
   "id": "23940c5a",
   "metadata": {},
   "outputs": [],
   "source": [
    "als = ALS(\n",
    "    maxIter=5,\n",
    "    regParam=0.1,\n",
    "    userCol=\"userId\",\n",
    "    itemCol=\"movieId\",\n",
    "    ratingCol=\"rating\",\n",
    "    coldStartStrategy=\"drop\"\n",
    ")"
   ]
  },
  {
   "cell_type": "code",
   "execution_count": 13,
   "id": "f0137833",
   "metadata": {},
   "outputs": [
    {
     "name": "stderr",
     "output_type": "stream",
     "text": [
      "                                                                                \r"
     ]
    }
   ],
   "source": [
    "model = als.fit(train_df)"
   ]
  },
  {
   "cell_type": "code",
   "execution_count": 16,
   "id": "1bac605d",
   "metadata": {},
   "outputs": [],
   "source": [
    "predictions = model.transform(test_df)"
   ]
  },
  {
   "cell_type": "code",
   "execution_count": 17,
   "id": "5a871080",
   "metadata": {},
   "outputs": [
    {
     "name": "stderr",
     "output_type": "stream",
     "text": [
      "                                                                                \r"
     ]
    },
    {
     "name": "stdout",
     "output_type": "stream",
     "text": [
      "+------+-------+------+----------+\n",
      "|userId|movieId|rating|prediction|\n",
      "+------+-------+------+----------+\n",
      "|    31|   3175|   1.5| 2.4484122|\n",
      "|    76|   1342|   3.5| 2.9879394|\n",
      "|   159|  54190|   5.0| 3.9631314|\n",
      "|   321| 175197|   0.5| 2.0642397|\n",
      "|   497|   1580|   5.0| 3.0925753|\n",
      "|   501|   1580|   5.0|  3.875893|\n",
      "|   597|   1645|   5.0| 3.5025375|\n",
      "|   597|   4519|   4.0| 3.5809584|\n",
      "|   613|   1645|   4.0| 3.6777897|\n",
      "|   626|   2366|   3.0|  3.169643|\n",
      "|   626|   2866|   3.0| 3.3862936|\n",
      "|   626|   3997|   2.0| 2.1135566|\n",
      "|   737|   3175|   5.0| 4.0989394|\n",
      "|   744|  44022|   3.5|  3.661557|\n",
      "|   756|   1580|   4.0| 3.4517128|\n",
      "|   772|   1645|   3.0| 3.0035124|\n",
      "|   830|   1591|   2.0| 2.8905733|\n",
      "|   833|   3175|   5.0| 3.3304594|\n",
      "|   844|   2122|   2.0| 2.3614206|\n",
      "|   847|   1645|   4.0|  2.870592|\n",
      "+------+-------+------+----------+\n",
      "only showing top 20 rows\n",
      "\n"
     ]
    }
   ],
   "source": [
    "predictions.show()"
   ]
  },
  {
   "cell_type": "code",
   "execution_count": 18,
   "id": "bbac7d8a",
   "metadata": {},
   "outputs": [
    {
     "name": "stderr",
     "output_type": "stream",
     "text": [
      "[Stage 170:>                                                        (0 + 8) / 8]\r"
     ]
    },
    {
     "name": "stdout",
     "output_type": "stream",
     "text": [
      "+-------+------------------+------------------+\n",
      "|summary|            rating|        prediction|\n",
      "+-------+------------------+------------------+\n",
      "|  count|           4996949|           4996949|\n",
      "|   mean|3.5344151000940776|3.4054393919399337|\n",
      "| stddev|1.0598187035807765|0.6388691750293307|\n",
      "|    min|               0.5|        -1.9948835|\n",
      "|    max|               5.0|         7.0163283|\n",
      "+-------+------------------+------------------+\n",
      "\n"
     ]
    },
    {
     "name": "stderr",
     "output_type": "stream",
     "text": [
      "\r",
      "                                                                                \r"
     ]
    }
   ],
   "source": [
    "predictions.select(\"rating\", \"prediction\").describe().show()"
   ]
  },
  {
   "cell_type": "code",
   "execution_count": 19,
   "id": "2a177588",
   "metadata": {},
   "outputs": [],
   "source": [
    "from pyspark.ml.evaluation import RegressionEvaluator"
   ]
  },
  {
   "cell_type": "code",
   "execution_count": 20,
   "id": "3e4795eb",
   "metadata": {},
   "outputs": [],
   "source": [
    "evaluator = RegressionEvaluator(\n",
    "    predictionCol='prediction',\n",
    "    labelCol='rating',\n",
    "    metricName='rmse'\n",
    ")"
   ]
  },
  {
   "cell_type": "code",
   "execution_count": 21,
   "id": "cfd15419",
   "metadata": {},
   "outputs": [
    {
     "name": "stderr",
     "output_type": "stream",
     "text": [
      "                                                                                \r"
     ]
    }
   ],
   "source": [
    "rmse = evaluator.evaluate(predictions)"
   ]
  },
  {
   "cell_type": "code",
   "execution_count": 22,
   "id": "e7c04302",
   "metadata": {},
   "outputs": [
    {
     "name": "stdout",
     "output_type": "stream",
     "text": [
      "0.8130030750686954\n"
     ]
    }
   ],
   "source": [
    "print(rmse)"
   ]
  },
  {
   "cell_type": "code",
   "execution_count": 24,
   "id": "de349940",
   "metadata": {},
   "outputs": [
    {
     "name": "stderr",
     "output_type": "stream",
     "text": [
      "[Stage 253:====================================================> (98 + 2) / 100]\r"
     ]
    },
    {
     "name": "stdout",
     "output_type": "stream",
     "text": [
      "+------+--------------------+\n",
      "|userId|     recommendations|\n",
      "+------+--------------------+\n",
      "|    26|[{149484, 5.64775...|\n",
      "|    27|[{203882, 5.69071...|\n",
      "|    28|[{194434, 7.56227...|\n",
      "|    31|[{203882, 3.98220...|\n",
      "|    34|[{194434, 5.98069...|\n",
      "|    44|[{149484, 7.58397...|\n",
      "|    53|[{194332, 6.35287...|\n",
      "|    65|[{149484, 6.80274...|\n",
      "|    76|[{194434, 6.07916...|\n",
      "|    78|[{149484, 6.62845...|\n",
      "|    81|[{179707, 4.9064}...|\n",
      "|    85|[{176597, 5.37159...|\n",
      "|   101|[{203882, 5.01413...|\n",
      "|   103|[{151989, 5.87781...|\n",
      "|   108|[{149484, 5.98693...|\n",
      "|   115|[{151989, 6.37320...|\n",
      "|   126|[{149484, 6.14715...|\n",
      "|   133|[{151989, 5.42379...|\n",
      "|   137|[{151989, 5.62344...|\n",
      "|   148|[{194434, 5.89000...|\n",
      "+------+--------------------+\n",
      "only showing top 20 rows\n",
      "\n"
     ]
    },
    {
     "name": "stderr",
     "output_type": "stream",
     "text": [
      "\r",
      "[Stage 253:=====================================================>(99 + 1) / 100]\r",
      "\r",
      "                                                                                \r"
     ]
    }
   ],
   "source": [
    "model.recommendForAllUsers(3).show()"
   ]
  },
  {
   "cell_type": "code",
   "execution_count": 25,
   "id": "659976a3",
   "metadata": {},
   "outputs": [
    {
     "name": "stderr",
     "output_type": "stream",
     "text": [
      "/Users/devkhk/opt/anaconda3/lib/python3.9/site-packages/pyspark/sql/context.py:125: FutureWarning: Deprecated in 3.0.0. Use SparkSession.builder.getOrCreate() instead.\n",
      "  warnings.warn(\n",
      "[Stage 282:====================================================> (98 + 2) / 100]\r"
     ]
    },
    {
     "name": "stdout",
     "output_type": "stream",
     "text": [
      "+-------+--------------------+\n",
      "|movieId|     recommendations|\n",
      "+-------+--------------------+\n",
      "|     12|[{87426, 5.324092...|\n",
      "|     26|[{3195, 5.111856}...|\n",
      "|     27|[{143282, 5.30294...|\n",
      "|     28|[{105801, 5.60748...|\n",
      "|     31|[{87426, 5.250770...|\n",
      "|     34|[{71227, 5.432758...|\n",
      "|     44|[{87426, 5.456319...|\n",
      "|     53|[{27587, 5.231360...|\n",
      "|     65|[{87426, 5.150985...|\n",
      "|     76|[{87426, 5.467379...|\n",
      "|     78|[{87426, 4.720285...|\n",
      "|     81|[{156318, 4.80650...|\n",
      "|     85|[{105801, 4.87715...|\n",
      "|    101|[{3195, 4.8425584...|\n",
      "|    103|[{87426, 5.340760...|\n",
      "|    108|[{142811, 5.43198...|\n",
      "|    115|[{143291, 5.48569...|\n",
      "|    126|[{87426, 4.900862...|\n",
      "|    133|[{33115, 5.723346...|\n",
      "|    137|[{123177, 5.00105...|\n",
      "+-------+--------------------+\n",
      "only showing top 20 rows\n",
      "\n"
     ]
    },
    {
     "name": "stderr",
     "output_type": "stream",
     "text": [
      "\r",
      "                                                                                \r"
     ]
    }
   ],
   "source": [
    "model.recommendForAllItems(3).show()"
   ]
  },
  {
   "cell_type": "code",
   "execution_count": 26,
   "id": "b86bf21b",
   "metadata": {},
   "outputs": [
    {
     "name": "stderr",
     "output_type": "stream",
     "text": [
      "\r",
      "[Stage 298:>                                                        (0 + 1) / 1]\r"
     ]
    },
    {
     "name": "stdout",
     "output_type": "stream",
     "text": [
      "+------+\n",
      "|userId|\n",
      "+------+\n",
      "|    65|\n",
      "|    78|\n",
      "|    81|\n",
      "+------+\n",
      "\n"
     ]
    },
    {
     "name": "stderr",
     "output_type": "stream",
     "text": [
      "\r",
      "                                                                                \r"
     ]
    }
   ],
   "source": [
    "from pyspark.sql.types import IntegerType\n",
    "\n",
    "user_list = [65, 78, 81]\n",
    "users_df = spark.createDataFrame(user_list, IntegerType()).toDF('userId')\n",
    "\n",
    "users_df.show()"
   ]
  },
  {
   "cell_type": "code",
   "execution_count": 28,
   "id": "0d5a39b9",
   "metadata": {
    "scrolled": true
   },
   "outputs": [
    {
     "name": "stderr",
     "output_type": "stream",
     "text": [
      "/Users/devkhk/opt/anaconda3/lib/python3.9/site-packages/pyspark/sql/context.py:125: FutureWarning: Deprecated in 3.0.0. Use SparkSession.builder.getOrCreate() instead.\n",
      "  warnings.warn(\n",
      "[Stage 331:=================================================>(1971 + 10) / 2000]\r"
     ]
    },
    {
     "name": "stdout",
     "output_type": "stream",
     "text": [
      "+------+--------------------+\n",
      "|userId|     recommendations|\n",
      "+------+--------------------+\n",
      "|    65|[{149484, 6.80274...|\n",
      "|    78|[{149484, 6.62845...|\n",
      "|    81|[{179707, 4.9064}...|\n",
      "+------+--------------------+\n",
      "\n"
     ]
    },
    {
     "name": "stderr",
     "output_type": "stream",
     "text": [
      "\r",
      "                                                                                \r"
     ]
    }
   ],
   "source": [
    "model.recommendForUserSubset(users_df, 5).show()"
   ]
  },
  {
   "cell_type": "code",
   "execution_count": 29,
   "id": "a2163422",
   "metadata": {
    "scrolled": true
   },
   "outputs": [
    {
     "name": "stderr",
     "output_type": "stream",
     "text": [
      "/Users/devkhk/opt/anaconda3/lib/python3.9/site-packages/pyspark/sql/context.py:125: FutureWarning: Deprecated in 3.0.0. Use SparkSession.builder.getOrCreate() instead.\n",
      "  warnings.warn(\n"
     ]
    }
   ],
   "source": [
    "user_recs = model.recommendForUserSubset(users_df, 5)"
   ]
  },
  {
   "cell_type": "code",
   "execution_count": 40,
   "id": "8c60efa2",
   "metadata": {},
   "outputs": [
    {
     "name": "stderr",
     "output_type": "stream",
     "text": [
      "[Stage 435:==================================================>(1974 + 9) / 2000]\r"
     ]
    },
    {
     "name": "stdout",
     "output_type": "stream",
     "text": [
      "+------+--------------------+\n",
      "|userId|     recommendations|\n",
      "+------+--------------------+\n",
      "|    65|[{149484, 6.80274...|\n",
      "|    78|[{149484, 6.62845...|\n",
      "|    81|[{179707, 4.9064}...|\n",
      "+------+--------------------+\n",
      "\n"
     ]
    },
    {
     "name": "stderr",
     "output_type": "stream",
     "text": [
      "\r",
      "                                                                                \r"
     ]
    }
   ],
   "source": [
    "user_recs.show()"
   ]
  },
  {
   "cell_type": "code",
   "execution_count": 30,
   "id": "9f6f089a",
   "metadata": {},
   "outputs": [
    {
     "name": "stderr",
     "output_type": "stream",
     "text": [
      "                                                                                \r"
     ]
    }
   ],
   "source": [
    "movies_list = user_recs.collect()[0].recommendations"
   ]
  },
  {
   "cell_type": "code",
   "execution_count": 31,
   "id": "16eebcda",
   "metadata": {},
   "outputs": [
    {
     "data": {
      "text/plain": [
       "[Row(movieId=149484, rating=6.802742958068848),\n",
       " Row(movieId=205277, rating=6.199429988861084),\n",
       " Row(movieId=169606, rating=5.929337501525879),\n",
       " Row(movieId=61913, rating=5.86498498916626),\n",
       " Row(movieId=171923, rating=5.7708516120910645)]"
      ]
     },
     "execution_count": 31,
     "metadata": {},
     "output_type": "execute_result"
    }
   ],
   "source": [
    "movies_list"
   ]
  },
  {
   "cell_type": "code",
   "execution_count": 32,
   "id": "01290972",
   "metadata": {},
   "outputs": [],
   "source": [
    "recs_df = spark.createDataFrame(movies_list)"
   ]
  },
  {
   "cell_type": "code",
   "execution_count": 34,
   "id": "7dda17dd",
   "metadata": {},
   "outputs": [
    {
     "name": "stdout",
     "output_type": "stream",
     "text": [
      "+-------+------------------+\n",
      "|movieId|            rating|\n",
      "+-------+------------------+\n",
      "| 149484| 6.802742958068848|\n",
      "| 205277| 6.199429988861084|\n",
      "| 169606| 5.929337501525879|\n",
      "|  61913|  5.86498498916626|\n",
      "| 171923|5.7708516120910645|\n",
      "+-------+------------------+\n",
      "\n"
     ]
    }
   ],
   "source": [
    "recs_df.show()"
   ]
  },
  {
   "cell_type": "code",
   "execution_count": 35,
   "id": "3f7111e7",
   "metadata": {},
   "outputs": [],
   "source": [
    "movies_file = \"/Users/devkhk/Documents/data-engineering-study/data/ml-25m/movies.csv\"\n",
    "movies_df = spark.read.csv(f\"file:///{movies_file}\", inferSchema=True, header=True)"
   ]
  },
  {
   "cell_type": "code",
   "execution_count": 36,
   "id": "88d01bd8",
   "metadata": {},
   "outputs": [
    {
     "name": "stdout",
     "output_type": "stream",
     "text": [
      "+-------+--------------------+--------------------+\n",
      "|movieId|               title|              genres|\n",
      "+-------+--------------------+--------------------+\n",
      "|      1|    Toy Story (1995)|Adventure|Animati...|\n",
      "|      2|      Jumanji (1995)|Adventure|Childre...|\n",
      "|      3|Grumpier Old Men ...|      Comedy|Romance|\n",
      "|      4|Waiting to Exhale...|Comedy|Drama|Romance|\n",
      "|      5|Father of the Bri...|              Comedy|\n",
      "|      6|         Heat (1995)|Action|Crime|Thri...|\n",
      "|      7|      Sabrina (1995)|      Comedy|Romance|\n",
      "|      8| Tom and Huck (1995)|  Adventure|Children|\n",
      "|      9| Sudden Death (1995)|              Action|\n",
      "|     10|    GoldenEye (1995)|Action|Adventure|...|\n",
      "|     11|American Presiden...|Comedy|Drama|Romance|\n",
      "|     12|Dracula: Dead and...|       Comedy|Horror|\n",
      "|     13|        Balto (1995)|Adventure|Animati...|\n",
      "|     14|        Nixon (1995)|               Drama|\n",
      "|     15|Cutthroat Island ...|Action|Adventure|...|\n",
      "|     16|       Casino (1995)|         Crime|Drama|\n",
      "|     17|Sense and Sensibi...|       Drama|Romance|\n",
      "|     18|   Four Rooms (1995)|              Comedy|\n",
      "|     19|Ace Ventura: When...|              Comedy|\n",
      "|     20|  Money Train (1995)|Action|Comedy|Cri...|\n",
      "+-------+--------------------+--------------------+\n",
      "only showing top 20 rows\n",
      "\n"
     ]
    }
   ],
   "source": [
    "movies_df.show()"
   ]
  },
  {
   "cell_type": "code",
   "execution_count": 37,
   "id": "5af3c67a",
   "metadata": {},
   "outputs": [],
   "source": [
    "recs_df.createOrReplaceTempView('recommendations')\n",
    "movies_df.createOrReplaceTempView('movies')"
   ]
  },
  {
   "cell_type": "code",
   "execution_count": 38,
   "id": "dcf2ea61",
   "metadata": {},
   "outputs": [
    {
     "name": "stdout",
     "output_type": "stream",
     "text": [
      "+-------+--------------------+--------------------+-------+------------------+\n",
      "|movieId|               title|              genres|movieId|            rating|\n",
      "+-------+--------------------+--------------------+-------+------------------+\n",
      "| 149484|All About My Wife...|      Comedy|Romance| 149484| 6.802742958068848|\n",
      "| 205277|   Inside Out (1991)|Comedy|Drama|Romance| 205277| 6.199429988861084|\n",
      "| 169606|Dara O'Briain Cro...|              Comedy| 169606| 5.929337501525879|\n",
      "|  61913| Africa addio (1966)|         Documentary|  61913|  5.86498498916626|\n",
      "| 171923|Design of Death (...|       Drama|Mystery| 171923|5.7708516120910645|\n",
      "+-------+--------------------+--------------------+-------+------------------+\n",
      "\n"
     ]
    }
   ],
   "source": [
    "query = \"\"\"\n",
    "SELECT *\n",
    "FROM\n",
    "    movies JOIN recommendations\n",
    "    ON movies.movieID = recommendations.movieID\n",
    "ORDER BY\n",
    "    rating desc\n",
    "\"\"\"\n",
    "recommended_movies = spark.sql(query)\n",
    "recommended_movies.show()"
   ]
  },
  {
   "cell_type": "code",
   "execution_count": 41,
   "id": "b587f2ba",
   "metadata": {},
   "outputs": [],
   "source": [
    "def get_recommendations(user_id, num_recs):\n",
    "    users_df = spark.createDataFrame([user_id], IntegerType()).toDF('userId')\n",
    "    user_recs_df = model.recommendForUserSubset(users_df, num_recs)\n",
    "    \n",
    "    recs_list = user_recs_df.collect()[0].recommendations\n",
    "    recs_df = spark.createDataFrame(recs_list)\n",
    "    recommended_movies = spark.sql(query)\n",
    "    return recommended_movies"
   ]
  },
  {
   "cell_type": "code",
   "execution_count": 42,
   "id": "009b9f9c",
   "metadata": {},
   "outputs": [
    {
     "name": "stderr",
     "output_type": "stream",
     "text": [
      "/Users/devkhk/opt/anaconda3/lib/python3.9/site-packages/pyspark/sql/context.py:125: FutureWarning: Deprecated in 3.0.0. Use SparkSession.builder.getOrCreate() instead.\n",
      "  warnings.warn(\n",
      "                                                                                \r"
     ]
    }
   ],
   "source": [
    "recs = get_recommendations(456, 10)"
   ]
  },
  {
   "cell_type": "code",
   "execution_count": 43,
   "id": "85a97217",
   "metadata": {},
   "outputs": [
    {
     "data": {
      "text/html": [
       "<div>\n",
       "<style scoped>\n",
       "    .dataframe tbody tr th:only-of-type {\n",
       "        vertical-align: middle;\n",
       "    }\n",
       "\n",
       "    .dataframe tbody tr th {\n",
       "        vertical-align: top;\n",
       "    }\n",
       "\n",
       "    .dataframe thead th {\n",
       "        text-align: right;\n",
       "    }\n",
       "</style>\n",
       "<table border=\"1\" class=\"dataframe\">\n",
       "  <thead>\n",
       "    <tr style=\"text-align: right;\">\n",
       "      <th></th>\n",
       "      <th>movieId</th>\n",
       "      <th>title</th>\n",
       "      <th>genres</th>\n",
       "      <th>movieId</th>\n",
       "      <th>rating</th>\n",
       "    </tr>\n",
       "  </thead>\n",
       "  <tbody>\n",
       "    <tr>\n",
       "      <th>0</th>\n",
       "      <td>149484</td>\n",
       "      <td>All About My Wife (2012)</td>\n",
       "      <td>Comedy|Romance</td>\n",
       "      <td>149484</td>\n",
       "      <td>6.802743</td>\n",
       "    </tr>\n",
       "    <tr>\n",
       "      <th>1</th>\n",
       "      <td>205277</td>\n",
       "      <td>Inside Out (1991)</td>\n",
       "      <td>Comedy|Drama|Romance</td>\n",
       "      <td>205277</td>\n",
       "      <td>6.199430</td>\n",
       "    </tr>\n",
       "    <tr>\n",
       "      <th>2</th>\n",
       "      <td>169606</td>\n",
       "      <td>Dara O'Briain Crowd Tickler (2015)</td>\n",
       "      <td>Comedy</td>\n",
       "      <td>169606</td>\n",
       "      <td>5.929338</td>\n",
       "    </tr>\n",
       "    <tr>\n",
       "      <th>3</th>\n",
       "      <td>61913</td>\n",
       "      <td>Africa addio (1966)</td>\n",
       "      <td>Documentary</td>\n",
       "      <td>61913</td>\n",
       "      <td>5.864985</td>\n",
       "    </tr>\n",
       "    <tr>\n",
       "      <th>4</th>\n",
       "      <td>171923</td>\n",
       "      <td>Design of Death (2012)</td>\n",
       "      <td>Drama|Mystery</td>\n",
       "      <td>171923</td>\n",
       "      <td>5.770852</td>\n",
       "    </tr>\n",
       "  </tbody>\n",
       "</table>\n",
       "</div>"
      ],
      "text/plain": [
       "   movieId                               title                genres  movieId  \\\n",
       "0   149484            All About My Wife (2012)        Comedy|Romance   149484   \n",
       "1   205277                   Inside Out (1991)  Comedy|Drama|Romance   205277   \n",
       "2   169606  Dara O'Briain Crowd Tickler (2015)                Comedy   169606   \n",
       "3    61913                 Africa addio (1966)           Documentary    61913   \n",
       "4   171923              Design of Death (2012)         Drama|Mystery   171923   \n",
       "\n",
       "     rating  \n",
       "0  6.802743  \n",
       "1  6.199430  \n",
       "2  5.929338  \n",
       "3  5.864985  \n",
       "4  5.770852  "
      ]
     },
     "execution_count": 43,
     "metadata": {},
     "output_type": "execute_result"
    }
   ],
   "source": [
    "recs.toPandas()"
   ]
  },
  {
   "cell_type": "code",
   "execution_count": 44,
   "id": "c4b54302",
   "metadata": {},
   "outputs": [],
   "source": [
    "spark.stop()"
   ]
  },
  {
   "cell_type": "code",
   "execution_count": null,
   "id": "bf6f5628",
   "metadata": {},
   "outputs": [],
   "source": []
  }
 ],
 "metadata": {
  "kernelspec": {
   "display_name": "Python 3 (ipykernel)",
   "language": "python",
   "name": "python3"
  },
  "language_info": {
   "codemirror_mode": {
    "name": "ipython",
    "version": 3
   },
   "file_extension": ".py",
   "mimetype": "text/x-python",
   "name": "python",
   "nbconvert_exporter": "python",
   "pygments_lexer": "ipython3",
   "version": "3.9.7"
  }
 },
 "nbformat": 4,
 "nbformat_minor": 5
}
