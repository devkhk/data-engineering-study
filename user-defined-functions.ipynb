{
 "cells": [
  {
   "cell_type": "code",
   "execution_count": 1,
   "id": "ef8c1b52",
   "metadata": {},
   "outputs": [],
   "source": [
    "from pyspark.sql import SparkSession"
   ]
  },
  {
   "cell_type": "code",
   "execution_count": 2,
   "id": "500ffc94",
   "metadata": {},
   "outputs": [
    {
     "name": "stderr",
     "output_type": "stream",
     "text": [
      "22/04/04 18:09:13 WARN Utils: Your hostname, devkhk-MacBook-Air.local resolves to a loopback address: 127.0.0.1; using 172.30.1.27 instead (on interface en0)\n",
      "22/04/04 18:09:13 WARN Utils: Set SPARK_LOCAL_IP if you need to bind to another address\n",
      "Using Spark's default log4j profile: org/apache/spark/log4j-defaults.properties\n",
      "Setting default log level to \"WARN\".\n",
      "To adjust logging level use sc.setLogLevel(newLevel). For SparkR, use setLogLevel(newLevel).\n",
      "22/04/04 18:09:14 WARN NativeCodeLoader: Unable to load native-hadoop library for your platform... using builtin-java classes where applicable\n"
     ]
    }
   ],
   "source": [
    "spark = SparkSession.builder.appName(\"udf\").getOrCreate()"
   ]
  },
  {
   "cell_type": "code",
   "execution_count": 3,
   "id": "c3842360",
   "metadata": {},
   "outputs": [],
   "source": [
    "s"
   ]
  },
  {
   "cell_type": "code",
   "execution_count": 4,
   "id": "30fcb1c9",
   "metadata": {},
   "outputs": [],
   "source": [
    "df = spark.createDataFrame(data=transactions, schema=schema)"
   ]
  },
  {
   "cell_type": "code",
   "execution_count": 5,
   "id": "b17f27b9",
   "metadata": {},
   "outputs": [],
   "source": [
    "df.createOrReplaceTempView(\"transactions\")"
   ]
  },
  {
   "cell_type": "code",
   "execution_count": 6,
   "id": "91f8d6ae",
   "metadata": {},
   "outputs": [
    {
     "name": "stderr",
     "output_type": "stream",
     "text": [
      "                                                                                \r"
     ]
    },
    {
     "name": "stdout",
     "output_type": "stream",
     "text": [
      "+--------------------------+-------------------+-----+--------+\n",
      "|                      name|           datetime|price|currency|\n",
      "+--------------------------+-------------------+-----+--------+\n",
      "|          찹쌀탕수육+짜장2|2021-11-07 13:20:00|22000|     KRW|\n",
      "|등심탕수육+크립새우+짜장면|2021-10-24 11:19:00|21500|     KRW|\n",
      "|          월남 쌈 2인 세트|2021-07-25 11:12:40|42000|     KRW|\n",
      "|       콩국수+열무비빔국수|2021-07-10 08:20:00|21250|     KRW|\n",
      "|       장어소금+고추장구이|2021-07-01 05:36:00|68700|     KRW|\n",
      "|                      족발|2020-08-19 19:04:00|32000|     KRW|\n",
      "+--------------------------+-------------------+-----+--------+\n",
      "\n"
     ]
    }
   ],
   "source": [
    "spark.sql(\"select * from transactions\").show()"
   ]
  },
  {
   "cell_type": "code",
   "execution_count": 7,
   "id": "d5ac0aa7",
   "metadata": {},
   "outputs": [],
   "source": [
    "# UDF"
   ]
  },
  {
   "cell_type": "code",
   "execution_count": 8,
   "id": "4b3a6e9d",
   "metadata": {},
   "outputs": [
    {
     "data": {
      "text/plain": [
       "<function __main__.squared(n)>"
      ]
     },
     "execution_count": 8,
     "metadata": {},
     "output_type": "execute_result"
    }
   ],
   "source": [
    "# 아래 함수를 스파크 sql에서 사용하기 위해서 레지스터 등록을 해야한다.\n",
    "# 레지스터 등록은 스파크 세션에서 할 수 있다.\n",
    "from pyspark.sql.types import LongType\n",
    "def squared(n):\n",
    "    return n * n\n",
    "\n",
    "spark.udf.register(\"squared\", squared, LongType())"
   ]
  },
  {
   "cell_type": "code",
   "execution_count": 9,
   "id": "4ff8ce26",
   "metadata": {},
   "outputs": [
    {
     "name": "stdout",
     "output_type": "stream",
     "text": [
      "root\n",
      " |-- price: long (nullable = true)\n",
      " |-- squared(price): long (nullable = true)\n",
      "\n"
     ]
    }
   ],
   "source": [
    "spark.sql(\"SELECT price, squared(price) FROM transactions\").printSchema()\n",
    "# udf 레지스터에 등록된 함수의 리턴값의 데이터 타입이 정의되지 않으면 디폴트값으로 스트링값이 된다."
   ]
  },
  {
   "cell_type": "code",
   "execution_count": 10,
   "id": "ca60b478",
   "metadata": {},
   "outputs": [],
   "source": [
    "# udf 등록 두번째 방식\n",
    "# 조금더 파이썬스러운 코드\n",
    "# 스파크 sql문을 실행시키면 똑같이 동작하는것이 맞지만 현재 undefined function 에러가 있다.\n",
    "# 낮은 버전의 pyspark에서는 공식 버그 리포팅이 있다.\n",
    "# 해결법으로는 첫번째 방법으로 직접 register 해주는 방법을 알려준다.\n",
    "# 그러므로 틀린 방법은 아니지만 위 방법을 사용하는것을 권장.\n",
    "\n",
    "from pyspark.sql.functions import udf\n",
    "\n",
    "@udf(\"long\")\n",
    "def udf_squared(n):\n",
    "    return n * n"
   ]
  },
  {
   "cell_type": "code",
   "execution_count": null,
   "id": "9a18ad9e",
   "metadata": {},
   "outputs": [],
   "source": []
  },
  {
   "cell_type": "code",
   "execution_count": null,
   "id": "13ce6f0b",
   "metadata": {},
   "outputs": [],
   "source": []
  },
  {
   "cell_type": "code",
   "execution_count": 11,
   "id": "6caee488",
   "metadata": {},
   "outputs": [
    {
     "name": "stdout",
     "output_type": "stream",
     "text": [
      "이만삼천일백이십삼\n",
      "칠만이천삼백\n"
     ]
    }
   ],
   "source": [
    "def read_number(n) :\n",
    "    units = [\"\", \"십\", \"백\", \"천\", \"만\"]\n",
    "    nums = '일이삼사오육칠팔구'\n",
    "    \n",
    "    result= []\n",
    "    i = 0\n",
    "    while n > 0:\n",
    "        n , r = divmod(n, 10)\n",
    "        if r > 0:\n",
    "            result.append(nums[r-1] + units[i])\n",
    "        i += 1\n",
    "    return \"\".join(reversed(result))\n",
    "    \n",
    "print(read_number(23123))\n",
    "print(read_number(72300))"
   ]
  },
  {
   "cell_type": "code",
   "execution_count": 12,
   "id": "5dff92e2",
   "metadata": {},
   "outputs": [
    {
     "data": {
      "text/plain": [
       "<function __main__.read_number(n)>"
      ]
     },
     "execution_count": 12,
     "metadata": {},
     "output_type": "execute_result"
    }
   ],
   "source": [
    "spark.udf.register(\"read_number\", read_number)"
   ]
  },
  {
   "cell_type": "code",
   "execution_count": 13,
   "id": "5ada0c33",
   "metadata": {},
   "outputs": [
    {
     "name": "stderr",
     "output_type": "stream",
     "text": [
      "                                                                                \r"
     ]
    },
    {
     "name": "stdout",
     "output_type": "stream",
     "text": [
      "+-----+------------------+\n",
      "|price|read_number(price)|\n",
      "+-----+------------------+\n",
      "|22000|          이만이천|\n",
      "|21500|      이만일천오백|\n",
      "|42000|          사만이천|\n",
      "|21250|  이만일천이백오십|\n",
      "|68700|      육만팔천칠백|\n",
      "|32000|          삼만이천|\n",
      "+-----+------------------+\n",
      "\n"
     ]
    }
   ],
   "source": [
    "spark.sql(\"select price, read_number(price) from transactions\").show()"
   ]
  },
  {
   "cell_type": "code",
   "execution_count": 34,
   "id": "f6d2262e",
   "metadata": {},
   "outputs": [
    {
     "name": "stderr",
     "output_type": "stream",
     "text": [
      "22/04/04 18:36:12 WARN SimpleFunctionRegistry: The function get_weekday replaced a previously registered function.\n"
     ]
    },
    {
     "data": {
      "text/plain": [
       "<function __main__.get_weekday(date)>"
      ]
     },
     "execution_count": 34,
     "metadata": {},
     "output_type": "execute_result"
    }
   ],
   "source": [
    "def get_weekday(date):\n",
    "    import calendar\n",
    "    return calendar.day_name[date.weekday()]\n",
    "\n",
    "spark.udf.register(\"get_weekday\", get_weekday)"
   ]
  },
  {
   "cell_type": "code",
   "execution_count": 37,
   "id": "31425a7a",
   "metadata": {
    "scrolled": true
   },
   "outputs": [
    {
     "name": "stdout",
     "output_type": "stream",
     "text": [
      "+-------------------+-----------+\n",
      "|           datetime|day_of_week|\n",
      "+-------------------+-----------+\n",
      "|2021-11-07 13:20:00|     Sunday|\n",
      "|2021-10-24 11:19:00|     Sunday|\n",
      "|2021-07-25 11:12:40|     Sunday|\n",
      "|2021-07-10 08:20:00|   Saturday|\n",
      "|2021-07-01 05:36:00|   Thursday|\n",
      "|2020-08-19 19:04:00|  Wednesday|\n",
      "+-------------------+-----------+\n",
      "\n"
     ]
    }
   ],
   "source": [
    "# TO_DATE : 스파크 내부 함수\n",
    "query = \"\"\"\n",
    "SELECT\n",
    "    datetime,\n",
    "    get_weekday(TO_DATE(datetime)) as day_of_week\n",
    "FROM\n",
    "    transactions\n",
    "\"\"\"\n",
    "\n",
    "spark.sql(query).show()"
   ]
  },
  {
   "cell_type": "code",
   "execution_count": null,
   "id": "93b5020b",
   "metadata": {},
   "outputs": [],
   "source": []
  }
 ],
 "metadata": {
  "kernelspec": {
   "display_name": "Python 3.9.7 ('base')",
   "language": "python",
   "name": "python397jvsc74a57bd0be805ae34670cdb3c948a255e52b4c6cf927efb8c3bd1571b8421aaa53085dfe"
  },
  "language_info": {
   "codemirror_mode": {
    "name": "ipython",
    "version": 3
   },
   "file_extension": ".py",
   "mimetype": "text/x-python",
   "name": "python",
   "nbconvert_exporter": "python",
   "pygments_lexer": "ipython3",
   "version": "3.9.7"
  }
 },
 "nbformat": 4,
 "nbformat_minor": 5
}
