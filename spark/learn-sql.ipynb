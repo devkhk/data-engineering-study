{
 "cells": [
  {
   "cell_type": "code",
   "execution_count": 1,
   "id": "54872f0c",
   "metadata": {},
   "outputs": [],
   "source": [
    "from pyspark.sql import SparkSession"
   ]
  },
  {
   "cell_type": "code",
   "execution_count": 2,
   "id": "48434c69",
   "metadata": {},
   "outputs": [
    {
     "name": "stderr",
     "output_type": "stream",
     "text": [
      "22/03/31 15:43:02 WARN Utils: Your hostname, devkhk-MacBook-Air.local resolves to a loopback address: 127.0.0.1; using 172.30.1.27 instead (on interface en0)\n",
      "22/03/31 15:43:02 WARN Utils: Set SPARK_LOCAL_IP if you need to bind to another address\n",
      "Using Spark's default log4j profile: org/apache/spark/log4j-defaults.properties\n",
      "Setting default log level to \"WARN\".\n",
      "To adjust logging level use sc.setLogLevel(newLevel). For SparkR, use setLogLevel(newLevel).\n",
      "22/03/31 15:43:03 WARN NativeCodeLoader: Unable to load native-hadoop library for your platform... using builtin-java classes where applicable\n"
     ]
    }
   ],
   "source": [
    "# 스파크 세션 생성\n",
    "spark = SparkSession.builder.master('local').appName('learn-sql').getOrCreate()"
   ]
  },
  {
   "cell_type": "code",
   "execution_count": 3,
   "id": "7f6137e5",
   "metadata": {},
   "outputs": [],
   "source": [
    "stocks = [\n",
    "    ('Google', 'GOOGL', 'USA', 2984, 'USD'),\n",
    "    ('Netflix', 'NFLX', 'USA', 645, 'USD'),\n",
    "    ('Amazon', 'AMZN', 'USA', 3518, 'USD'),\n",
    "    ('Tesla', 'TSLA', 'USA', 1222, 'USD'),\n",
    "    ('Tencent', '0700', 'Hong Kong', 483, 'HKD'),\n",
    "    ('Toyota', '7203', 'Japan', 2006, 'JPY'),\n",
    "    ('Samsung', '005930', 'Korea', 70600, 'KRW'),\n",
    "    ('Kakao', '035720', 'Korea', 125000, 'KRW'),\n",
    "]"
   ]
  },
  {
   "cell_type": "code",
   "execution_count": 4,
   "id": "cdf27fae",
   "metadata": {},
   "outputs": [],
   "source": [
    "# 데이터 프레임 생성 전에 스키마 생성\n",
    "\n",
    "stockSchema = [\"name\", \"ticker\", \"country\", \"price\", \"currency\"]"
   ]
  },
  {
   "cell_type": "code",
   "execution_count": 5,
   "id": "893e76af",
   "metadata": {},
   "outputs": [],
   "source": [
    "df = spark.createDataFrame(data=stocks, schema=stockSchema) # 데이터 프레임 생성"
   ]
  },
  {
   "cell_type": "code",
   "execution_count": 6,
   "id": "c3699150",
   "metadata": {},
   "outputs": [
    {
     "data": {
      "text/plain": [
       "[('name', 'string'),\n",
       " ('ticker', 'string'),\n",
       " ('country', 'string'),\n",
       " ('price', 'bigint'),\n",
       " ('currency', 'string')]"
      ]
     },
     "execution_count": 6,
     "metadata": {},
     "output_type": "execute_result"
    }
   ],
   "source": [
    "# 데이터 타입을 자동으로 생성\n",
    "df.dtypes"
   ]
  },
  {
   "cell_type": "code",
   "execution_count": 7,
   "id": "b420ced4",
   "metadata": {},
   "outputs": [
    {
     "name": "stderr",
     "output_type": "stream",
     "text": [
      "[Stage 0:>                                                          (0 + 1) / 1]\r"
     ]
    },
    {
     "name": "stdout",
     "output_type": "stream",
     "text": [
      "+-------+------+---------+------+--------+\n",
      "|   name|ticker|  country| price|currency|\n",
      "+-------+------+---------+------+--------+\n",
      "| Google| GOOGL|      USA|  2984|     USD|\n",
      "|Netflix|  NFLX|      USA|   645|     USD|\n",
      "| Amazon|  AMZN|      USA|  3518|     USD|\n",
      "|  Tesla|  TSLA|      USA|  1222|     USD|\n",
      "|Tencent|  0700|Hong Kong|   483|     HKD|\n",
      "| Toyota|  7203|    Japan|  2006|     JPY|\n",
      "|Samsung|005930|    Korea| 70600|     KRW|\n",
      "|  Kakao|035720|    Korea|125000|     KRW|\n",
      "+-------+------+---------+------+--------+\n",
      "\n"
     ]
    },
    {
     "name": "stderr",
     "output_type": "stream",
     "text": [
      "\r",
      "[Stage 0:===========================================================(1 + 0) / 1]\r",
      "\r",
      "                                                                                \r"
     ]
    }
   ],
   "source": [
    "df.show()"
   ]
  },
  {
   "cell_type": "code",
   "execution_count": 8,
   "id": "8b42e278",
   "metadata": {},
   "outputs": [],
   "source": [
    " # 스파크 sql에서 데이터 프레임을 사용하기 위해서는 temporary 뷰에 등록해야 한다\n",
    "    \n",
    "df.createOrReplaceTempView(\"stocks\")"
   ]
  },
  {
   "cell_type": "code",
   "execution_count": 9,
   "id": "dfc12f33",
   "metadata": {},
   "outputs": [
    {
     "name": "stdout",
     "output_type": "stream",
     "text": [
      "+-------+\n",
      "|   name|\n",
      "+-------+\n",
      "| Google|\n",
      "|Netflix|\n",
      "| Amazon|\n",
      "|  Tesla|\n",
      "|Tencent|\n",
      "| Toyota|\n",
      "|Samsung|\n",
      "|  Kakao|\n",
      "+-------+\n",
      "\n"
     ]
    }
   ],
   "source": [
    "spark.sql(\"select name from stocks\").show()"
   ]
  },
  {
   "cell_type": "code",
   "execution_count": 10,
   "id": "1f68ffb9",
   "metadata": {},
   "outputs": [
    {
     "name": "stdout",
     "output_type": "stream",
     "text": [
      "+-------+------+\n",
      "|   name| price|\n",
      "+-------+------+\n",
      "| Google|  2984|\n",
      "|Netflix|   645|\n",
      "| Amazon|  3518|\n",
      "|  Tesla|  1222|\n",
      "|Tencent|   483|\n",
      "| Toyota|  2006|\n",
      "|Samsung| 70600|\n",
      "|  Kakao|125000|\n",
      "+-------+------+\n",
      "\n"
     ]
    }
   ],
   "source": [
    "spark.sql(\"select name, price from stocks\").show()"
   ]
  },
  {
   "cell_type": "code",
   "execution_count": 11,
   "id": "c3abaffb",
   "metadata": {},
   "outputs": [
    {
     "name": "stdout",
     "output_type": "stream",
     "text": [
      "+-------+------+\n",
      "|   name| price|\n",
      "+-------+------+\n",
      "|Samsung| 70600|\n",
      "|  Kakao|125000|\n",
      "+-------+------+\n",
      "\n"
     ]
    }
   ],
   "source": [
    "spark.sql(\"select name, price from stocks where country = 'Korea'\").show()"
   ]
  },
  {
   "cell_type": "code",
   "execution_count": 12,
   "id": "88f13baf",
   "metadata": {},
   "outputs": [
    {
     "name": "stdout",
     "output_type": "stream",
     "text": [
      "+-------+------+\n",
      "|   name| price|\n",
      "+-------+------+\n",
      "| Google|  2984|\n",
      "| Amazon|  3518|\n",
      "| Toyota|  2006|\n",
      "|Samsung| 70600|\n",
      "|  Kakao|125000|\n",
      "+-------+------+\n",
      "\n"
     ]
    }
   ],
   "source": [
    "spark.sql(\"select name, price from stocks where price > 2000\").show()"
   ]
  },
  {
   "cell_type": "code",
   "execution_count": 13,
   "id": "652982c5",
   "metadata": {},
   "outputs": [
    {
     "name": "stdout",
     "output_type": "stream",
     "text": [
      "+------+-----+\n",
      "|  name|price|\n",
      "+------+-----+\n",
      "|Google| 2984|\n",
      "|Amazon| 3518|\n",
      "+------+-----+\n",
      "\n"
     ]
    }
   ],
   "source": [
    "spark.sql(\"select name, price from stocks where price > 2000 and country = 'USA'\").show()"
   ]
  },
  {
   "cell_type": "code",
   "execution_count": 14,
   "id": "574caa53",
   "metadata": {},
   "outputs": [
    {
     "name": "stdout",
     "output_type": "stream",
     "text": [
      "+-------+-----+\n",
      "|   name|price|\n",
      "+-------+-----+\n",
      "| Google| 2984|\n",
      "|Netflix|  645|\n",
      "| Amazon| 3518|\n",
      "|  Tesla| 1222|\n",
      "+-------+-----+\n",
      "\n"
     ]
    }
   ],
   "source": [
    "spark.sql(\"select name, price from stocks where country like 'U%'\").show()"
   ]
  },
  {
   "cell_type": "code",
   "execution_count": 15,
   "id": "9404f66c",
   "metadata": {},
   "outputs": [
    {
     "name": "stdout",
     "output_type": "stream",
     "text": [
      "+------+-----+\n",
      "|  name|price|\n",
      "+------+-----+\n",
      "|Amazon| 3518|\n",
      "+------+-----+\n",
      "\n"
     ]
    }
   ],
   "source": [
    "spark.sql(\"select name, price from stocks where country like 'U%' and name not like '%e%' \").show()"
   ]
  },
  {
   "cell_type": "code",
   "execution_count": 17,
   "id": "a21fe314",
   "metadata": {},
   "outputs": [
    {
     "name": "stdout",
     "output_type": "stream",
     "text": [
      "+------+-----+\n",
      "|  name|price|\n",
      "+------+-----+\n",
      "|Google| 2984|\n",
      "|Amazon| 3518|\n",
      "| Tesla| 1222|\n",
      "|Toyota| 2006|\n",
      "+------+-----+\n",
      "\n"
     ]
    }
   ],
   "source": [
    "spark.sql(\"select name, price from stocks where price between 1000 and 10000\").show()"
   ]
  },
  {
   "cell_type": "code",
   "execution_count": 18,
   "id": "c5872f68",
   "metadata": {},
   "outputs": [
    {
     "name": "stdout",
     "output_type": "stream",
     "text": [
      "+-------+-----+\n",
      "|   name|price|\n",
      "+-------+-----+\n",
      "| Google| 2984|\n",
      "|Netflix|  645|\n",
      "| Amazon| 3518|\n",
      "|  Tesla| 1222|\n",
      "+-------+-----+\n",
      "\n"
     ]
    }
   ],
   "source": [
    "spark.sql(\"select name, price from stocks where country = 'USA' \").show()"
   ]
  },
  {
   "cell_type": "code",
   "execution_count": 23,
   "id": "201226b0",
   "metadata": {},
   "outputs": [
    {
     "name": "stdout",
     "output_type": "stream",
     "text": [
      "+------+-----+--------+\n",
      "|  name|price|currency|\n",
      "+------+-----+--------+\n",
      "|Google| 2984|     USD|\n",
      "|Amazon| 3518|     USD|\n",
      "+------+-----+--------+\n",
      "\n"
     ]
    }
   ],
   "source": [
    " spark.sql(\"select name, price, currency from stocks \\\n",
    " where currency = 'USD' and \\\n",
    " price > (select price from stocks where name = 'Tesla')\").show()"
   ]
  },
  {
   "cell_type": "code",
   "execution_count": 24,
   "id": "03b1164d",
   "metadata": {},
   "outputs": [
    {
     "name": "stdout",
     "output_type": "stream",
     "text": [
      "+-------+------+\n",
      "|   name| price|\n",
      "+-------+------+\n",
      "|Tencent|   483|\n",
      "|Netflix|   645|\n",
      "|  Tesla|  1222|\n",
      "| Toyota|  2006|\n",
      "| Google|  2984|\n",
      "| Amazon|  3518|\n",
      "|Samsung| 70600|\n",
      "|  Kakao|125000|\n",
      "+-------+------+\n",
      "\n"
     ]
    }
   ],
   "source": [
    "spark.sql(\"select name, price from stocks order by price asc\").show()"
   ]
  },
  {
   "cell_type": "code",
   "execution_count": 26,
   "id": "b79e7ffd",
   "metadata": {},
   "outputs": [
    {
     "name": "stdout",
     "output_type": "stream",
     "text": [
      "+-------+------+\n",
      "|   name| price|\n",
      "+-------+------+\n",
      "|Netflix|   645|\n",
      "|Samsung| 70600|\n",
      "|Tencent|   483|\n",
      "| Google|  2984|\n",
      "| Amazon|  3518|\n",
      "| Toyota|  2006|\n",
      "|  Tesla|  1222|\n",
      "|  Kakao|125000|\n",
      "+-------+------+\n",
      "\n"
     ]
    }
   ],
   "source": [
    "spark.sql(\"select name, price from stocks order by length(name) desc\").show()"
   ]
  },
  {
   "cell_type": "code",
   "execution_count": 29,
   "id": "e6069e63",
   "metadata": {},
   "outputs": [
    {
     "name": "stdout",
     "output_type": "stream",
     "text": [
      "+----------+\n",
      "|sum(price)|\n",
      "+----------+\n",
      "|    195600|\n",
      "+----------+\n",
      "\n"
     ]
    }
   ],
   "source": [
    "spark.sql(\"select sum(price) from stocks where country = 'Korea'\").show()"
   ]
  },
  {
   "cell_type": "code",
   "execution_count": 30,
   "id": "4c1d4403",
   "metadata": {},
   "outputs": [
    {
     "name": "stdout",
     "output_type": "stream",
     "text": [
      "+-----------+\n",
      "|mean(price)|\n",
      "+-----------+\n",
      "|    97800.0|\n",
      "+-----------+\n",
      "\n"
     ]
    }
   ],
   "source": [
    "spark.sql(\"select mean(price) from stocks where country = 'Korea'\").show()"
   ]
  },
  {
   "cell_type": "code",
   "execution_count": 31,
   "id": "d119756b",
   "metadata": {},
   "outputs": [
    {
     "name": "stdout",
     "output_type": "stream",
     "text": [
      "+------------+\n",
      "|count(price)|\n",
      "+------------+\n",
      "|           2|\n",
      "+------------+\n",
      "\n"
     ]
    }
   ],
   "source": [
    "spark.sql(\"select count(price) from stocks where country = 'Korea'\").show()"
   ]
  },
  {
   "cell_type": "code",
   "execution_count": 32,
   "id": "f60268e9",
   "metadata": {},
   "outputs": [
    {
     "name": "stdout",
     "output_type": "stream",
     "text": [
      "+------------+\n",
      "|count(price)|\n",
      "+------------+\n",
      "|           6|\n",
      "+------------+\n",
      "\n"
     ]
    }
   ],
   "source": [
    "spark.sql(\"select count(price) from stocks where country in ('Korea', 'USA')\").show()"
   ]
  },
  {
   "cell_type": "code",
   "execution_count": 41,
   "id": "dac8dc7f",
   "metadata": {},
   "outputs": [],
   "source": [
    "earnings = [\n",
    "    ('Google', 27.99, 'USD'),\n",
    "    ('Netflix', 2.56, 'USD'),\n",
    "    ('Amazon', 6.12, 'USD'),\n",
    "    ('Telsa', 1.86, 'USD'),\n",
    "    ('Tencent', 11.01, 'HKD'),\n",
    "    ('Toyota', 224.82, 'JPY'),\n",
    "    ('Samsung', 1780., 'KRW'),\n",
    "    ('Kakao', 705., 'KRW'),\n",
    "]"
   ]
  },
  {
   "cell_type": "code",
   "execution_count": 42,
   "id": "efc1e004",
   "metadata": {},
   "outputs": [],
   "source": [
    "from pyspark.sql.types import StringType, FloatType, StructType, StructField"
   ]
  },
  {
   "cell_type": "code",
   "execution_count": 43,
   "id": "875a025e",
   "metadata": {},
   "outputs": [],
   "source": [
    "earningsSchema = StructType([\n",
    "    StructField(\"name\", StringType(), True),\n",
    "    StructField(\"eps\", FloatType(), True),\n",
    "    StructField(\"currency\", StringType(), True),\n",
    "])"
   ]
  },
  {
   "cell_type": "code",
   "execution_count": 44,
   "id": "06e3e35f",
   "metadata": {},
   "outputs": [],
   "source": [
    "earningsDF = spark.createDataFrame(data=earnings, schema=earningsSchema)"
   ]
  },
  {
   "cell_type": "code",
   "execution_count": 45,
   "id": "6b4c6648",
   "metadata": {},
   "outputs": [
    {
     "data": {
      "text/plain": [
       "[('name', 'string'), ('eps', 'float'), ('currency', 'string')]"
      ]
     },
     "execution_count": 45,
     "metadata": {},
     "output_type": "execute_result"
    }
   ],
   "source": [
    "earningsDF.dtypes"
   ]
  },
  {
   "cell_type": "code",
   "execution_count": 46,
   "id": "7d52db0c",
   "metadata": {},
   "outputs": [],
   "source": [
    "earningsDF.createOrReplaceTempView(\"earnings\")"
   ]
  },
  {
   "cell_type": "code",
   "execution_count": 49,
   "id": "be32715a",
   "metadata": {},
   "outputs": [
    {
     "name": "stdout",
     "output_type": "stream",
     "text": [
      "+-------+------+--------+\n",
      "|   name|   eps|currency|\n",
      "+-------+------+--------+\n",
      "| Google| 27.99|     USD|\n",
      "|Netflix|  2.56|     USD|\n",
      "| Amazon|  6.12|     USD|\n",
      "|  Telsa|  1.86|     USD|\n",
      "|Tencent| 11.01|     HKD|\n",
      "| Toyota|224.82|     JPY|\n",
      "|Samsung|1780.0|     KRW|\n",
      "|  Kakao| 705.0|     KRW|\n",
      "+-------+------+--------+\n",
      "\n"
     ]
    }
   ],
   "source": [
    "earningsDF.select(\"*\").show()"
   ]
  },
  {
   "cell_type": "code",
   "execution_count": 50,
   "id": "378bb265",
   "metadata": {},
   "outputs": [
    {
     "name": "stdout",
     "output_type": "stream",
     "text": [
      "+-------+------+---------+------+--------+-------+------+--------+\n",
      "|   name|ticker|  country| price|currency|   name|   eps|currency|\n",
      "+-------+------+---------+------+--------+-------+------+--------+\n",
      "| Amazon|  AMZN|      USA|  3518|     USD| Amazon|  6.12|     USD|\n",
      "| Google| GOOGL|      USA|  2984|     USD| Google| 27.99|     USD|\n",
      "|  Kakao|035720|    Korea|125000|     KRW|  Kakao| 705.0|     KRW|\n",
      "|Netflix|  NFLX|      USA|   645|     USD|Netflix|  2.56|     USD|\n",
      "|Samsung|005930|    Korea| 70600|     KRW|Samsung|1780.0|     KRW|\n",
      "|Tencent|  0700|Hong Kong|   483|     HKD|Tencent| 11.01|     HKD|\n",
      "| Toyota|  7203|    Japan|  2006|     JPY| Toyota|224.82|     JPY|\n",
      "+-------+------+---------+------+--------+-------+------+--------+\n",
      "\n"
     ]
    }
   ],
   "source": [
    "spark.sql(\"select * from stocks join earnings on stocks.name = earnings.name\").show()"
   ]
  },
  {
   "cell_type": "code",
   "execution_count": 53,
   "id": "8133b8c0",
   "metadata": {},
   "outputs": [
    {
     "name": "stdout",
     "output_type": "stream",
     "text": [
      "+-------+------------------+\n",
      "|   name|     (price / eps)|\n",
      "+-------+------------------+\n",
      "| Amazon| 574.8366120563447|\n",
      "| Google| 106.6095042658442|\n",
      "|  Kakao| 177.3049645390071|\n",
      "|Netflix| 251.9531306315913|\n",
      "|Samsung|39.662921348314605|\n",
      "|Tencent| 43.86920889728746|\n",
      "| Toyota| 8.922693419839167|\n",
      "+-------+------------------+\n",
      "\n"
     ]
    },
    {
     "name": "stderr",
     "output_type": "stream",
     "text": [
      "22/03/31 18:54:16 WARN HeartbeatReceiver: Removing executor driver with no recent heartbeats: 903146 ms exceeds timeout 120000 ms\n",
      "22/03/31 18:54:16 WARN SparkContext: Killing executors is not supported by current scheduler.\n"
     ]
    }
   ],
   "source": [
    "# PER : Price / EPS\n",
    "spark.sql(\"select stocks.name, (stocks.price / earnings.eps) from stocks join earnings on stocks.name = earnings.name\").show()"
   ]
  },
  {
   "cell_type": "code",
   "execution_count": null,
   "id": "332bf824",
   "metadata": {},
   "outputs": [],
   "source": []
  }
 ],
 "metadata": {
  "kernelspec": {
   "display_name": "Python 3 (ipykernel)",
   "language": "python",
   "name": "python3"
  },
  "language_info": {
   "codemirror_mode": {
    "name": "ipython",
    "version": 3
   },
   "file_extension": ".py",
   "mimetype": "text/x-python",
   "name": "python",
   "nbconvert_exporter": "python",
   "pygments_lexer": "ipython3",
   "version": "3.9.7"
  }
 },
 "nbformat": 4,
 "nbformat_minor": 5
}
