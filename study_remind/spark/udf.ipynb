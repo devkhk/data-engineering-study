{
 "cells": [
  {
   "cell_type": "code",
   "execution_count": 1,
   "id": "24121400",
   "metadata": {},
   "outputs": [],
   "source": [
    "from pyspark.sql import SparkSession"
   ]
  },
  {
   "cell_type": "code",
   "execution_count": 2,
   "id": "bfa626d2",
   "metadata": {},
   "outputs": [],
   "source": [
    "spark = SparkSession.builder.appName(\"udf_study\").getOrCreate()"
   ]
  },
  {
   "cell_type": "code",
   "execution_count": 3,
   "id": "8dad3124",
   "metadata": {},
   "outputs": [],
   "source": [
    "transactions = [\n",
    "    ('찹쌀탕수육+짜장2', '2021-11-07 13:20:00', 22000, 'KRW'),\n",
    "    ('등심탕수육+크립새우+짜장면', '2021-10-24 11:19:00', 21500, 'KRW'), \n",
    "    ('월남 쌈 2인 세트', '2021-07-25 11:12:40', 42000, 'KRW'), \n",
    "    ('콩국수+열무비빔국수', '2021-07-10 08:20:00', 21250, 'KRW'), \n",
    "    ('장어소금+고추장구이', '2021-07-01 05:36:00', 68700, 'KRW'), \n",
    "    ('족발', '2020-08-19 19:04:00', 32000, 'KRW'),  \n",
    "]\n",
    "\n",
    "schema = [\"name\", \"datetime\", \"price\", \"currency\"]"
   ]
  },
  {
   "cell_type": "code",
   "execution_count": 4,
   "id": "d71b2259",
   "metadata": {},
   "outputs": [],
   "source": [
    "# df\n",
    "df = spark.createDataFrame(data=transactions, schema=schema)"
   ]
  },
  {
   "cell_type": "code",
   "execution_count": 8,
   "id": "c493d972",
   "metadata": {},
   "outputs": [
    {
     "name": "stdout",
     "output_type": "stream",
     "text": [
      "root\n",
      " |-- name: string (nullable = true)\n",
      " |-- datetime: string (nullable = true)\n",
      " |-- price: long (nullable = true)\n",
      " |-- currency: string (nullable = true)\n",
      "\n"
     ]
    }
   ],
   "source": [
    "df.printSchema()"
   ]
  },
  {
   "cell_type": "code",
   "execution_count": 7,
   "id": "bde61278",
   "metadata": {
    "scrolled": false
   },
   "outputs": [
    {
     "name": "stdout",
     "output_type": "stream",
     "text": [
      "+--------------------------+-------------------+-----+--------+\n",
      "|                      name|           datetime|price|currency|\n",
      "+--------------------------+-------------------+-----+--------+\n",
      "|          찹쌀탕수육+짜장2|2021-11-07 13:20:00|22000|     KRW|\n",
      "|등심탕수육+크립새우+짜장면|2021-10-24 11:19:00|21500|     KRW|\n",
      "|          월남 쌈 2인 세트|2021-07-25 11:12:40|42000|     KRW|\n",
      "|       콩국수+열무비빔국수|2021-07-10 08:20:00|21250|     KRW|\n",
      "|       장어소금+고추장구이|2021-07-01 05:36:00|68700|     KRW|\n",
      "|                      족발|2020-08-19 19:04:00|32000|     KRW|\n",
      "+--------------------------+-------------------+-----+--------+\n",
      "\n"
     ]
    }
   ],
   "source": [
    "df.show()"
   ]
  },
  {
   "cell_type": "code",
   "execution_count": 11,
   "id": "66054aa6",
   "metadata": {},
   "outputs": [],
   "source": [
    "df.createOrReplaceTempView(\"bills\")"
   ]
  },
  {
   "cell_type": "code",
   "execution_count": 17,
   "id": "9fb3ad26",
   "metadata": {},
   "outputs": [
    {
     "name": "stdout",
     "output_type": "stream",
     "text": [
      "+--------------------------+-------------------+-----+--------+\n",
      "|                      name|           datetime|price|currency|\n",
      "+--------------------------+-------------------+-----+--------+\n",
      "|          찹쌀탕수육+짜장2|2021-11-07 13:20:00|22000|     KRW|\n",
      "|등심탕수육+크립새우+짜장면|2021-10-24 11:19:00|21500|     KRW|\n",
      "|          월남 쌈 2인 세트|2021-07-25 11:12:40|42000|     KRW|\n",
      "|       콩국수+열무비빔국수|2021-07-10 08:20:00|21250|     KRW|\n",
      "|       장어소금+고추장구이|2021-07-01 05:36:00|68700|     KRW|\n",
      "|                      족발|2020-08-19 19:04:00|32000|     KRW|\n",
      "+--------------------------+-------------------+-----+--------+\n",
      "\n"
     ]
    }
   ],
   "source": [
    "spark.sql(\"select * from bills\").show()"
   ]
  },
  {
   "cell_type": "code",
   "execution_count": 18,
   "id": "59e859ec",
   "metadata": {},
   "outputs": [],
   "source": [
    "from pyspark.sql.types import LongType\n",
    "def squared(n):\n",
    "    return n * n"
   ]
  },
  {
   "cell_type": "code",
   "execution_count": 20,
   "id": "cf5c3867",
   "metadata": {},
   "outputs": [
    {
     "data": {
      "text/plain": [
       "<function __main__.squared(n)>"
      ]
     },
     "execution_count": 20,
     "metadata": {},
     "output_type": "execute_result"
    }
   ],
   "source": [
    "from pyspark.sql.types import LongType\n",
    "def squared(n):\n",
    "    return n * n\n",
    "spark.udf.register(\"squared\", squared, returnType=LongType())"
   ]
  },
  {
   "cell_type": "code",
   "execution_count": 23,
   "id": "43e76d97",
   "metadata": {},
   "outputs": [
    {
     "name": "stdout",
     "output_type": "stream",
     "text": [
      "root\n",
      " |-- name: string (nullable = true)\n",
      " |-- squared(price): long (nullable = true)\n",
      "\n"
     ]
    }
   ],
   "source": [
    "spark.sql(\"select name, squared(price) from bills\").printSchema()"
   ]
  },
  {
   "cell_type": "code",
   "execution_count": 68,
   "id": "db498649",
   "metadata": {},
   "outputs": [],
   "source": [
    "# 숫자를 한글로 표현하기\n",
    "def read_number(n):\n",
    "    units = [\"\", \"십\", \"백\", \"천\", \"만\"]\n",
    "    ko = \"일이삼사오육칠팔구\"\n",
    "    \n",
    "    result = []\n",
    "    i = 0\n",
    "    for num in str(n)[::-1]:\n",
    "        number = int(num)\n",
    "        if  number > 0:\n",
    "            result.append(ko[number-1] + units[i])\n",
    "        i += 1\n",
    "    return \"\".join(reversed(result))"
   ]
  },
  {
   "cell_type": "code",
   "execution_count": 69,
   "id": "12e80d22",
   "metadata": {},
   "outputs": [
    {
     "data": {
      "text/plain": [
       "'일만이천삼백일십이'"
      ]
     },
     "execution_count": 69,
     "metadata": {},
     "output_type": "execute_result"
    }
   ],
   "source": [
    "read_number(12312)"
   ]
  },
  {
   "cell_type": "code",
   "execution_count": 84,
   "id": "d2a58d35",
   "metadata": {},
   "outputs": [],
   "source": [
    "def read_number(n):\n",
    "    units = [\"\", \"십\", \"백\", \"천\", \"만\"]\n",
    "    ko = \"일이삼사오육칠팔구\"\n",
    "    \n",
    "    result = []\n",
    "    i = 0\n",
    "    while n > 0:\n",
    "        n, r = divmod(n, 10)\n",
    "        if r > 0:\n",
    "            result.append(ko[r-1] + units[i])\n",
    "\n",
    "        i += 1\n",
    "    return \"\".join(reversed(result)) + \"원\""
   ]
  },
  {
   "cell_type": "code",
   "execution_count": 85,
   "id": "1b13c1df",
   "metadata": {},
   "outputs": [
    {
     "data": {
      "text/plain": [
       "(440, 3)"
      ]
     },
     "execution_count": 85,
     "metadata": {},
     "output_type": "execute_result"
    }
   ],
   "source": [
    "divmod(4403, 10)"
   ]
  },
  {
   "cell_type": "code",
   "execution_count": 86,
   "id": "3eaa12b2",
   "metadata": {},
   "outputs": [
    {
     "data": {
      "text/plain": [
       "'사만사천원'"
      ]
     },
     "execution_count": 86,
     "metadata": {},
     "output_type": "execute_result"
    }
   ],
   "source": [
    "read_number(44000)"
   ]
  },
  {
   "cell_type": "code",
   "execution_count": 87,
   "id": "155079ca",
   "metadata": {},
   "outputs": [
    {
     "data": {
      "text/plain": [
       "<function __main__.read_number(n)>"
      ]
     },
     "execution_count": 87,
     "metadata": {},
     "output_type": "execute_result"
    }
   ],
   "source": [
    "spark.udf.register(\"read_number\",read_number)"
   ]
  },
  {
   "cell_type": "code",
   "execution_count": 89,
   "id": "c8443b41",
   "metadata": {},
   "outputs": [
    {
     "name": "stdout",
     "output_type": "stream",
     "text": [
      "+--------------------------+-------------------+------------------+\n",
      "|                      name|           datetime|read_number(price)|\n",
      "+--------------------------+-------------------+------------------+\n",
      "|          찹쌀탕수육+짜장2|2021-11-07 13:20:00|        이만이천원|\n",
      "|등심탕수육+크립새우+짜장면|2021-10-24 11:19:00|    이만일천오백원|\n",
      "|          월남 쌈 2인 세트|2021-07-25 11:12:40|        사만이천원|\n",
      "|       콩국수+열무비빔국수|2021-07-10 08:20:00|이만일천이백오십원|\n",
      "|       장어소금+고추장구이|2021-07-01 05:36:00|    육만팔천칠백원|\n",
      "|                      족발|2020-08-19 19:04:00|        삼만이천원|\n",
      "+--------------------------+-------------------+------------------+\n",
      "\n"
     ]
    }
   ],
   "source": [
    "spark.sql(\"select name, datetime, read_number(price) from bills\").show()"
   ]
  },
  {
   "cell_type": "code",
   "execution_count": 90,
   "id": "13b1cc42",
   "metadata": {},
   "outputs": [],
   "source": [
    "def get_weekday(date):\n",
    "    import calendar\n",
    "    return calendar.day_name[date.weekday()]"
   ]
  },
  {
   "cell_type": "code",
   "execution_count": 91,
   "id": "823b1518",
   "metadata": {},
   "outputs": [
    {
     "data": {
      "text/plain": [
       "<function __main__.get_weekday(date)>"
      ]
     },
     "execution_count": 91,
     "metadata": {},
     "output_type": "execute_result"
    }
   ],
   "source": [
    "spark.udf.register(\"get_weekday\", get_weekday)"
   ]
  },
  {
   "cell_type": "code",
   "execution_count": 93,
   "id": "08a5d9b9",
   "metadata": {},
   "outputs": [
    {
     "name": "stdout",
     "output_type": "stream",
     "text": [
      "+--------------------------+---------+------------------+\n",
      "|                      name|     week|read_number(price)|\n",
      "+--------------------------+---------+------------------+\n",
      "|          찹쌀탕수육+짜장2|   Sunday|        이만이천원|\n",
      "|등심탕수육+크립새우+짜장면|   Sunday|    이만일천오백원|\n",
      "|          월남 쌈 2인 세트|   Sunday|        사만이천원|\n",
      "|       콩국수+열무비빔국수| Saturday|이만일천이백오십원|\n",
      "|       장어소금+고추장구이| Thursday|    육만팔천칠백원|\n",
      "|                      족발|Wednesday|        삼만이천원|\n",
      "+--------------------------+---------+------------------+\n",
      "\n"
     ]
    }
   ],
   "source": [
    "spark.sql(\"select name, get_weekday(TO_DATE(datetime)) as week, read_number(price) from bills\").show()"
   ]
  },
  {
   "cell_type": "code",
   "execution_count": null,
   "id": "b69985a2",
   "metadata": {},
   "outputs": [],
   "source": []
  }
 ],
 "metadata": {
  "kernelspec": {
   "display_name": "Python 3",
   "language": "python",
   "name": "python3"
  },
  "language_info": {
   "codemirror_mode": {
    "name": "ipython",
    "version": 3
   },
   "file_extension": ".py",
   "mimetype": "text/x-python",
   "name": "python",
   "nbconvert_exporter": "python",
   "pygments_lexer": "ipython3",
   "version": "3.8.8"
  }
 },
 "nbformat": 4,
 "nbformat_minor": 5
}
