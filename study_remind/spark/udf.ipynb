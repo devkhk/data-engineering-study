{
 "cells": [
  {
   "cell_type": "code",
   "execution_count": 1,
   "id": "24121400",
   "metadata": {},
   "outputs": [],
   "source": [
    "from pyspark.sql import SparkSession"
   ]
  },
  {
   "cell_type": "code",
   "execution_count": 2,
   "id": "bfa626d2",
   "metadata": {},
   "outputs": [],
   "source": [
    "spark = SparkSession.builder.appName(\"udf_study\").getOrCreate()"
   ]
  },
  {
   "cell_type": "code",
   "execution_count": 3,
   "id": "8dad3124",
   "metadata": {},
   "outputs": [],
   "source": [
    "transactions = [\n",
    "    ('찹쌀탕수육+짜장2', '2021-11-07 13:20:00', 22000, 'KRW'),\n",
    "    ('등심탕수육+크립새우+짜장면', '2021-10-24 11:19:00', 21500, 'KRW'), \n",
    "    ('월남 쌈 2인 세트', '2021-07-25 11:12:40', 42000, 'KRW'), \n",
    "    ('콩국수+열무비빔국수', '2021-07-10 08:20:00', 21250, 'KRW'), \n",
    "    ('장어소금+고추장구이', '2021-07-01 05:36:00', 68700, 'KRW'), \n",
    "    ('족발', '2020-08-19 19:04:00', 32000, 'KRW'),  \n",
    "]\n",
    "\n",
    "schema = [\"name\", \"datetime\", \"price\", \"currency\"]"
   ]
  },
  {
   "cell_type": "code",
   "execution_count": 4,
   "id": "d71b2259",
   "metadata": {},
   "outputs": [],
   "source": [
    "# df\n",
    "df = spark.createDataFrame(data=transactions, schema=schema)"
   ]
  },
  {
   "cell_type": "code",
   "execution_count": 8,
   "id": "c493d972",
   "metadata": {},
   "outputs": [
    {
     "name": "stdout",
     "output_type": "stream",
     "text": [
      "root\n",
      " |-- name: string (nullable = true)\n",
      " |-- datetime: string (nullable = true)\n",
      " |-- price: long (nullable = true)\n",
      " |-- currency: string (nullable = true)\n",
      "\n"
     ]
    }
   ],
   "source": [
    "df.printSchema()"
   ]
  },
  {
   "cell_type": "code",
   "execution_count": 7,
   "id": "bde61278",
   "metadata": {
    "scrolled": false
   },
   "outputs": [
    {
     "name": "stdout",
     "output_type": "stream",
     "text": [
      "+--------------------------+-------------------+-----+--------+\n",
      "|                      name|           datetime|price|currency|\n",
      "+--------------------------+-------------------+-----+--------+\n",
      "|          찹쌀탕수육+짜장2|2021-11-07 13:20:00|22000|     KRW|\n",
      "|등심탕수육+크립새우+짜장면|2021-10-24 11:19:00|21500|     KRW|\n",
      "|          월남 쌈 2인 세트|2021-07-25 11:12:40|42000|     KRW|\n",
      "|       콩국수+열무비빔국수|2021-07-10 08:20:00|21250|     KRW|\n",
      "|       장어소금+고추장구이|2021-07-01 05:36:00|68700|     KRW|\n",
      "|                      족발|2020-08-19 19:04:00|32000|     KRW|\n",
      "+--------------------------+-------------------+-----+--------+\n",
      "\n"
     ]
    }
   ],
   "source": [
    "df.show()"
   ]
  },
  {
   "cell_type": "code",
   "execution_count": 11,
   "id": "66054aa6",
   "metadata": {},
   "outputs": [],
   "source": [
    "df.createOrReplaceTempView(\"bills\")"
   ]
  },
  {
   "cell_type": "code",
   "execution_count": 17,
   "id": "9fb3ad26",
   "metadata": {},
   "outputs": [
    {
     "name": "stdout",
     "output_type": "stream",
     "text": [
      "+--------------------------+-------------------+-----+--------+\n",
      "|                      name|           datetime|price|currency|\n",
      "+--------------------------+-------------------+-----+--------+\n",
      "|          찹쌀탕수육+짜장2|2021-11-07 13:20:00|22000|     KRW|\n",
      "|등심탕수육+크립새우+짜장면|2021-10-24 11:19:00|21500|     KRW|\n",
      "|          월남 쌈 2인 세트|2021-07-25 11:12:40|42000|     KRW|\n",
      "|       콩국수+열무비빔국수|2021-07-10 08:20:00|21250|     KRW|\n",
      "|       장어소금+고추장구이|2021-07-01 05:36:00|68700|     KRW|\n",
      "|                      족발|2020-08-19 19:04:00|32000|     KRW|\n",
      "+--------------------------+-------------------+-----+--------+\n",
      "\n"
     ]
    }
   ],
   "source": [
    "spark.sql(\"select * from bills\").show()"
   ]
  },
  {
   "cell_type": "code",
   "execution_count": 18,
   "id": "59e859ec",
   "metadata": {},
   "outputs": [],
   "source": [
    "from pyspark.sql.types import LongType\n",
    "def squared(n):\n",
    "    return n * n"
   ]
  },
  {
   "cell_type": "code",
   "execution_count": 20,
   "id": "cf5c3867",
   "metadata": {},
   "outputs": [
    {
     "data": {
      "text/plain": [
       "<function __main__.squared(n)>"
      ]
     },
     "execution_count": 20,
     "metadata": {},
     "output_type": "execute_result"
    }
   ],
   "source": [
    "from pyspark.sql.types import LongType\n",
    "def squared(n):\n",
    "    return n * n\n",
    "spark.udf.register(\"squared\", squared, returnType=LongType())"
   ]
  },
  {
   "cell_type": "code",
   "execution_count": 23,
   "id": "43e76d97",
   "metadata": {},
   "outputs": [
    {
     "name": "stdout",
     "output_type": "stream",
     "text": [
      "root\n",
      " |-- name: string (nullable = true)\n",
      " |-- squared(price): long (nullable = true)\n",
      "\n"
     ]
    }
   ],
   "source": [
    "spark.sql(\"select name, squared(price) from bills\").printSchema()"
   ]
  },
  {
   "cell_type": "code",
   "execution_count": 68,
   "id": "db498649",
   "metadata": {},
   "outputs": [],
   "source": [
    "# 숫자를 한글로 표현하기\n",
    "def read_number(n):\n",
    "    units = [\"\", \"십\", \"백\", \"천\", \"만\"]\n",
    "    ko = \"일이삼사오육칠팔구\"\n",
    "    \n",
    "    result = []\n",
    "    i = 0\n",
    "    for num in str(n)[::-1]:\n",
    "        number = int(num)\n",
    "        if  number > 0:\n",
    "            result.append(ko[number-1] + units[i])\n",
    "        i += 1\n",
    "    return \"\".join(reversed(result))"
   ]
  },
  {
   "cell_type": "code",
   "execution_count": 69,
   "id": "12e80d22",
   "metadata": {},
   "outputs": [
    {
     "data": {
      "text/plain": [
       "'일만이천삼백일십이'"
      ]
     },
     "execution_count": 69,
     "metadata": {},
     "output_type": "execute_result"
    }
   ],
   "source": [
    "read_number(12312)"
   ]
  },
  {
   "cell_type": "code",
   "execution_count": 84,
   "id": "d2a58d35",
   "metadata": {},
   "outputs": [],
   "source": [
    "def read_number(n):\n",
    "    units = [\"\", \"십\", \"백\", \"천\", \"만\"]\n",
    "    ko = \"일이삼사오육칠팔구\"\n",
    "    \n",
    "    result = []\n",
    "    i = 0\n",
    "    while n > 0:\n",
    "        n, r = divmod(n, 10)\n",
    "        if r > 0:\n",
    "            result.append(ko[r-1] + units[i])\n",
    "\n",
    "        i += 1\n",
    "    return \"\".join(reversed(result)) + \"원\""
   ]
  },
  {
   "cell_type": "code",
   "execution_count": 85,
   "id": "1b13c1df",
   "metadata": {},
   "outputs": [
    {
     "data": {
      "text/plain": [
       "(440, 3)"
      ]
     },
     "execution_count": 85,
     "metadata": {},
     "output_type": "execute_result"
    }
   ],
   "source": [
    "divmod(4403, 10)"
   ]
  },
  {
   "cell_type": "code",
   "execution_count": 86,
   "id": "3eaa12b2",
   "metadata": {},
   "outputs": [
    {
     "data": {
      "text/plain": [
       "'사만사천원'"
      ]
     },
     "execution_count": 86,
     "metadata": {},
     "output_type": "execute_result"
    }
   ],
   "source": [
    "read_number(44000)"
   ]
  },
  {
   "cell_type": "code",
   "execution_count": 87,
   "id": "155079ca",
   "metadata": {},
   "outputs": [
    {
     "data": {
      "text/plain": [
       "<function __main__.read_number(n)>"
      ]
     },
     "execution_count": 87,
     "metadata": {},
     "output_type": "execute_result"
    }
   ],
   "source": [
    "spark.udf.register(\"read_number\",read_number)"
   ]
  },
  {
   "cell_type": "code",
   "execution_count": 89,
   "id": "c8443b41",
   "metadata": {},
   "outputs": [
    {
     "name": "stdout",
     "output_type": "stream",
     "text": [
      "+--------------------------+-------------------+------------------+\n",
      "|                      name|           datetime|read_number(price)|\n",
      "+--------------------------+-------------------+------------------+\n",
      "|          찹쌀탕수육+짜장2|2021-11-07 13:20:00|        이만이천원|\n",
      "|등심탕수육+크립새우+짜장면|2021-10-24 11:19:00|    이만일천오백원|\n",
      "|          월남 쌈 2인 세트|2021-07-25 11:12:40|        사만이천원|\n",
      "|       콩국수+열무비빔국수|2021-07-10 08:20:00|이만일천이백오십원|\n",
      "|       장어소금+고추장구이|2021-07-01 05:36:00|    육만팔천칠백원|\n",
      "|                      족발|2020-08-19 19:04:00|        삼만이천원|\n",
      "+--------------------------+-------------------+------------------+\n",
      "\n"
     ]
    }
   ],
   "source": [
    "spark.sql(\"select name, datetime, read_number(price) from bills\").show()"
   ]
  },
  {
   "cell_type": "code",
   "execution_count": 90,
   "id": "13b1cc42",
   "metadata": {},
   "outputs": [],
   "source": [
    "def get_weekday(date):\n",
    "    import calendar\n",
    "    return calendar.day_name[date.weekday()]"
   ]
  },
  {
   "cell_type": "code",
   "execution_count": 91,
   "id": "823b1518",
   "metadata": {},
   "outputs": [
    {
     "data": {
      "text/plain": [
       "<function __main__.get_weekday(date)>"
      ]
     },
     "execution_count": 91,
     "metadata": {},
     "output_type": "execute_result"
    }
   ],
   "source": [
    "spark.udf.register(\"get_weekday\", get_weekday)"
   ]
  },
  {
   "cell_type": "code",
   "execution_count": 93,
   "id": "08a5d9b9",
   "metadata": {},
   "outputs": [
    {
     "name": "stdout",
     "output_type": "stream",
     "text": [
      "+--------------------------+---------+------------------+\n",
      "|                      name|     week|read_number(price)|\n",
      "+--------------------------+---------+------------------+\n",
      "|          찹쌀탕수육+짜장2|   Sunday|        이만이천원|\n",
      "|등심탕수육+크립새우+짜장면|   Sunday|    이만일천오백원|\n",
      "|          월남 쌈 2인 세트|   Sunday|        사만이천원|\n",
      "|       콩국수+열무비빔국수| Saturday|이만일천이백오십원|\n",
      "|       장어소금+고추장구이| Thursday|    육만팔천칠백원|\n",
      "|                      족발|Wednesday|        삼만이천원|\n",
      "+--------------------------+---------+------------------+\n",
      "\n"
     ]
    }
   ],
   "source": [
    "spark.sql(\"select name, get_weekday(TO_DATE(datetime)) as week, read_number(price) from bills\").show()"
   ]
  },
  {
   "cell_type": "markdown",
   "id": "8eeeaaee",
   "metadata": {},
   "source": [
    "# 문자열 제거  UDF"
   ]
  },
  {
   "cell_type": "code",
   "execution_count": 28,
   "id": "fd4aab90",
   "metadata": {},
   "outputs": [],
   "source": [
    "transactions = [\n",
    "    ('100', '2021-11-07 13:20:00', 22000, 'KRW'),\n",
    "    ('10,000원', '2021-10-24 11:19:00', 21500, 'KRW'), \n",
    "    ('100..0원', '2021-07-25 11:12:40', 42000, 'KRW'), \n",
    "    ('', '2021-07-10 08:20:00', 21250, 'KRW'), \n",
    "    ('1023', '2021-07-01 05:36:00', 68700, 'KRW'), \n",
    "    ('hihi', '2020-08-19 19:04:00', 32000, 'KRW'),\n",
    "    ('0', '2020-08-19 19:05:00', 55000, 'KRW'),\n",
    "    (' ', '2020-08-19 10:23:00', 11000, 'KRW')\n",
    "\n",
    "\n",
    "]\n",
    "\n",
    "schema = [\"price\", \"datetime\", \"code\", \"currency\"]"
   ]
  },
  {
   "cell_type": "code",
   "execution_count": 29,
   "id": "2f8a22b9",
   "metadata": {},
   "outputs": [],
   "source": [
    "df = spark.createDataFrame(data=transactions, schema=schema)"
   ]
  },
  {
   "cell_type": "code",
   "execution_count": 30,
   "id": "6691c5c5",
   "metadata": {},
   "outputs": [
    {
     "name": "stdout",
     "output_type": "stream",
     "text": [
      "root\n",
      " |-- price: string (nullable = true)\n",
      " |-- datetime: string (nullable = true)\n",
      " |-- code: long (nullable = true)\n",
      " |-- currency: string (nullable = true)\n",
      "\n"
     ]
    }
   ],
   "source": [
    "df.printSchema()"
   ]
  },
  {
   "cell_type": "code",
   "execution_count": 31,
   "id": "f59ab280",
   "metadata": {},
   "outputs": [
    {
     "data": {
      "text/plain": [
       "pyspark.sql.dataframe.DataFrame"
      ]
     },
     "execution_count": 31,
     "metadata": {},
     "output_type": "execute_result"
    }
   ],
   "source": [
    "type(df)"
   ]
  },
  {
   "cell_type": "code",
   "execution_count": 32,
   "id": "018760f5",
   "metadata": {},
   "outputs": [
    {
     "name": "stdout",
     "output_type": "stream",
     "text": [
      "+--------+\n",
      "|   price|\n",
      "+--------+\n",
      "|     100|\n",
      "|10,000원|\n",
      "|100..0원|\n",
      "|        |\n",
      "|    1023|\n",
      "|    hihi|\n",
      "|       0|\n",
      "|        |\n",
      "+--------+\n",
      "\n"
     ]
    }
   ],
   "source": [
    "df.select(\"price\").show()"
   ]
  },
  {
   "cell_type": "code",
   "execution_count": 33,
   "id": "2b06818d",
   "metadata": {},
   "outputs": [],
   "source": [
    "df.createOrReplaceTempView(\"bills\")"
   ]
  },
  {
   "cell_type": "code",
   "execution_count": 34,
   "id": "a967bdaa",
   "metadata": {
    "scrolled": true
   },
   "outputs": [
    {
     "name": "stdout",
     "output_type": "stream",
     "text": [
      "+--------+-------------------+-----+--------+\n",
      "|   price|           datetime| code|currency|\n",
      "+--------+-------------------+-----+--------+\n",
      "|     100|2021-11-07 13:20:00|22000|     KRW|\n",
      "|10,000원|2021-10-24 11:19:00|21500|     KRW|\n",
      "|100..0원|2021-07-25 11:12:40|42000|     KRW|\n",
      "|        |2021-07-10 08:20:00|21250|     KRW|\n",
      "|    1023|2021-07-01 05:36:00|68700|     KRW|\n",
      "|    hihi|2020-08-19 19:04:00|32000|     KRW|\n",
      "|       0|2020-08-19 19:05:00|55000|     KRW|\n",
      "|        |2020-08-19 10:23:00|11000|     KRW|\n",
      "+--------+-------------------+-----+--------+\n",
      "\n"
     ]
    }
   ],
   "source": [
    "spark.sql(\"select * from bills\").show()"
   ]
  },
  {
   "cell_type": "code",
   "execution_count": 35,
   "id": "67275c1a",
   "metadata": {},
   "outputs": [
    {
     "name": "stdout",
     "output_type": "stream",
     "text": [
      "+--------+-------------------+-----+--------+\n",
      "|   price|           datetime| code|currency|\n",
      "+--------+-------------------+-----+--------+\n",
      "|     100|2021-11-07 13:20:00|22000|     KRW|\n",
      "|10,000원|2021-10-24 11:19:00|21500|     KRW|\n",
      "|100..0원|2021-07-25 11:12:40|42000|     KRW|\n",
      "|        |2021-07-10 08:20:00|21250|     KRW|\n",
      "|    1023|2021-07-01 05:36:00|68700|     KRW|\n",
      "|    hihi|2020-08-19 19:04:00|32000|     KRW|\n",
      "|       0|2020-08-19 19:05:00|55000|     KRW|\n",
      "+--------+-------------------+-----+--------+\n",
      "\n"
     ]
    }
   ],
   "source": [
    "spark.sql(\"select * from bills where price != ' ' \").show()"
   ]
  },
  {
   "cell_type": "code",
   "execution_count": 16,
   "id": "2476d323",
   "metadata": {},
   "outputs": [],
   "source": [
    "# udf\n",
    "# 문자열에서 숫자만 추출하는 함수\n",
    "def remove_str(str):\n",
    "    import re\n",
    "    numbers = re.sub(r'[^0-9]', '', str)\n",
    "    \n",
    "    if numbers == '':\n",
    "        return 0\n",
    "    return int(numbers)"
   ]
  },
  {
   "cell_type": "code",
   "execution_count": 22,
   "id": "e7985dec",
   "metadata": {},
   "outputs": [
    {
     "data": {
      "text/plain": [
       "int"
      ]
     },
     "execution_count": 22,
     "metadata": {},
     "output_type": "execute_result"
    }
   ],
   "source": [
    "type(remove_str('  '))"
   ]
  },
  {
   "cell_type": "code",
   "execution_count": 23,
   "id": "654323bc",
   "metadata": {},
   "outputs": [],
   "source": [
    "from pyspark.sql.types import IntegerType"
   ]
  },
  {
   "cell_type": "code",
   "execution_count": 40,
   "id": "8b8e202e",
   "metadata": {},
   "outputs": [],
   "source": [
    "from pyspark.sql.functions import udf"
   ]
  },
  {
   "cell_type": "code",
   "execution_count": 44,
   "id": "b0ab0bc6",
   "metadata": {},
   "outputs": [],
   "source": [
    "from pyspark.sql.functions import col"
   ]
  },
  {
   "cell_type": "code",
   "execution_count": 43,
   "id": "1d0d54b6",
   "metadata": {},
   "outputs": [],
   "source": [
    "convert_udf = udf(lambda z: remove_str(z), returnType=IntegerType())"
   ]
  },
  {
   "cell_type": "code",
   "execution_count": 46,
   "id": "05da73d8",
   "metadata": {},
   "outputs": [
    {
     "name": "stdout",
     "output_type": "stream",
     "text": [
      "+--------+-------------------+-----+--------+---------+\n",
      "|   price|           datetime| code|currency|price_int|\n",
      "+--------+-------------------+-----+--------+---------+\n",
      "|     100|2021-11-07 13:20:00|22000|     KRW|      100|\n",
      "|10,000원|2021-10-24 11:19:00|21500|     KRW|    10000|\n",
      "|100..0원|2021-07-25 11:12:40|42000|     KRW|     1000|\n",
      "|        |2021-07-10 08:20:00|21250|     KRW|        0|\n",
      "|    1023|2021-07-01 05:36:00|68700|     KRW|     1023|\n",
      "|    hihi|2020-08-19 19:04:00|32000|     KRW|        0|\n",
      "|       0|2020-08-19 19:05:00|55000|     KRW|        0|\n",
      "|        |2020-08-19 10:23:00|11000|     KRW|        0|\n",
      "+--------+-------------------+-----+--------+---------+\n",
      "\n"
     ]
    }
   ],
   "source": [
    "df.withColumn(\"price_int\", convert_udf(col(\"price\"))).show()"
   ]
  },
  {
   "cell_type": "code",
   "execution_count": 47,
   "id": "1d8ef070",
   "metadata": {},
   "outputs": [
    {
     "data": {
      "text/plain": [
       "<function __main__.remove_str(str)>"
      ]
     },
     "execution_count": 47,
     "metadata": {},
     "output_type": "execute_result"
    }
   ],
   "source": [
    "spark.udf.register(\"remove_str\", remove_str)"
   ]
  },
  {
   "cell_type": "code",
   "execution_count": 49,
   "id": "8977d8d8",
   "metadata": {},
   "outputs": [
    {
     "name": "stdout",
     "output_type": "stream",
     "text": [
      "+--------+-------------------+-----+--------+\n",
      "|   price|           datetime| code|currency|\n",
      "+--------+-------------------+-----+--------+\n",
      "|     100|2021-11-07 13:20:00|22000|     KRW|\n",
      "|10,000원|2021-10-24 11:19:00|21500|     KRW|\n",
      "|100..0원|2021-07-25 11:12:40|42000|     KRW|\n",
      "|        |2021-07-10 08:20:00|21250|     KRW|\n",
      "|    1023|2021-07-01 05:36:00|68700|     KRW|\n",
      "|    hihi|2020-08-19 19:04:00|32000|     KRW|\n",
      "|       0|2020-08-19 19:05:00|55000|     KRW|\n",
      "|        |2020-08-19 10:23:00|11000|     KRW|\n",
      "+--------+-------------------+-----+--------+\n",
      "\n"
     ]
    }
   ],
   "source": [
    "df.show()"
   ]
  },
  {
   "cell_type": "code",
   "execution_count": 50,
   "id": "3b6ae2ac",
   "metadata": {},
   "outputs": [],
   "source": [
    "query = \"\"\"\n",
    "SELECT\n",
    "    price,\n",
    "    remove_str(price) as price_int \n",
    "FROM\n",
    "    bills\n",
    "\"\"\""
   ]
  },
  {
   "cell_type": "code",
   "execution_count": 51,
   "id": "5cec7c67",
   "metadata": {},
   "outputs": [
    {
     "name": "stdout",
     "output_type": "stream",
     "text": [
      "+--------+---------+\n",
      "|   price|price_int|\n",
      "+--------+---------+\n",
      "|     100|      100|\n",
      "|10,000원|    10000|\n",
      "|100..0원|     1000|\n",
      "|        |        0|\n",
      "|    1023|     1023|\n",
      "|    hihi|        0|\n",
      "|       0|        0|\n",
      "|        |        0|\n",
      "+--------+---------+\n",
      "\n"
     ]
    }
   ],
   "source": [
    "spark.sql(query).show()"
   ]
  },
  {
   "cell_type": "code",
   "execution_count": null,
   "id": "957d9179",
   "metadata": {},
   "outputs": [],
   "source": []
  }
 ],
 "metadata": {
  "kernelspec": {
   "display_name": "Python 3",
   "language": "python",
   "name": "python3"
  },
  "language_info": {
   "codemirror_mode": {
    "name": "ipython",
    "version": 3
   },
   "file_extension": ".py",
   "mimetype": "text/x-python",
   "name": "python",
   "nbconvert_exporter": "python",
   "pygments_lexer": "ipython3",
   "version": "3.8.8"
  }
 },
 "nbformat": 4,
 "nbformat_minor": 5
}
