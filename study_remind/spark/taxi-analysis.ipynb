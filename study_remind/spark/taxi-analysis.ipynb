{
 "cells": [
  {
   "cell_type": "code",
   "execution_count": 1,
   "id": "ba352b89",
   "metadata": {},
   "outputs": [],
   "source": [
    "from pyspark.sql import SparkSession"
   ]
  },
  {
   "cell_type": "code",
   "execution_count": 2,
   "id": "826ea054",
   "metadata": {},
   "outputs": [],
   "source": [
    "MAX_MEMORY = '6g'\n",
    "spark = SparkSession.builder.appName(\"taxi-analysis\")\\\n",
    "            .config(\"spark.executor.memory\", MAX_MEMORY)\\\n",
    "            .config(\"spark.driver.memory\", MAX_MEMORY)\\\n",
    "            .getOrCreate()"
   ]
  },
  {
   "cell_type": "code",
   "execution_count": 3,
   "id": "d46b3ba6",
   "metadata": {},
   "outputs": [
    {
     "data": {
      "text/html": [
       "\n",
       "            <div>\n",
       "                <p><b>SparkSession - in-memory</b></p>\n",
       "                \n",
       "        <div>\n",
       "            <p><b>SparkContext</b></p>\n",
       "\n",
       "            <p><a href=\"http://172.30.1.27:4040\">Spark UI</a></p>\n",
       "\n",
       "            <dl>\n",
       "              <dt>Version</dt>\n",
       "                <dd><code>v3.2.1</code></dd>\n",
       "              <dt>Master</dt>\n",
       "                <dd><code>local[*]</code></dd>\n",
       "              <dt>AppName</dt>\n",
       "                <dd><code>taxi-analysis</code></dd>\n",
       "            </dl>\n",
       "        </div>\n",
       "        \n",
       "            </div>\n",
       "        "
      ],
      "text/plain": [
       "<pyspark.sql.session.SparkSession at 0x7f9369b3fca0>"
      ]
     },
     "execution_count": 3,
     "metadata": {},
     "output_type": "execute_result"
    }
   ],
   "source": [
    "spark"
   ]
  },
  {
   "cell_type": "code",
   "execution_count": 4,
   "id": "4d2af274",
   "metadata": {},
   "outputs": [],
   "source": [
    "trips_file = \"/Users/devkhk/Documents/data-engineering-study/data/trips/*\"\n",
    "zone_file = \"/Users/devkhk/Documents/data-engineering-study/data/taxi+_zone_lookup.csv\""
   ]
  },
  {
   "cell_type": "code",
   "execution_count": 5,
   "id": "ce6cadcb",
   "metadata": {},
   "outputs": [],
   "source": [
    "trip_data = spark.read.csv(f\"file:///{trips_file}\", inferSchema=True, header=True)\n",
    "zone_data = spark.read.csv(f\"file:///{zone_file}\", inferSchema=True, header=True)"
   ]
  },
  {
   "cell_type": "code",
   "execution_count": 6,
   "id": "9cdf92b6",
   "metadata": {},
   "outputs": [
    {
     "name": "stdout",
     "output_type": "stream",
     "text": [
      "+--------+--------------------+---------------------+---------------+-------------+----------+------------------+------------+------------+------------+-----------+-----+-------+----------+------------+---------------------+------------+--------------------+\n",
      "|VendorID|tpep_pickup_datetime|tpep_dropoff_datetime|passenger_count|trip_distance|RatecodeID|store_and_fwd_flag|PULocationID|DOLocationID|payment_type|fare_amount|extra|mta_tax|tip_amount|tolls_amount|improvement_surcharge|total_amount|congestion_surcharge|\n",
      "+--------+--------------------+---------------------+---------------+-------------+----------+------------------+------------+------------+------------+-----------+-----+-------+----------+------------+---------------------+------------+--------------------+\n",
      "|       2| 2021-03-01 00:22:02|  2021-03-01 00:23:22|              1|          0.0|         1|                 N|         264|         264|           2|        3.0|  0.5|    0.5|       0.0|         0.0|                  0.3|         4.3|                 0.0|\n",
      "|       2| 2021-03-01 00:24:48|  2021-03-01 00:24:56|              1|          0.0|         1|                 N|         152|         152|           2|        2.5|  0.5|    0.5|       0.0|         0.0|                  0.3|         3.8|                 0.0|\n",
      "|       2| 2021-03-01 00:25:17|  2021-03-01 00:31:01|              1|          0.0|         1|                 N|         152|         152|           2|        3.5|  0.5|    0.5|       0.0|         0.0|                  0.3|         4.8|                 0.0|\n",
      "|       1| 2021-03-01 00:07:40|  2021-03-01 00:31:23|              0|         16.5|         4|                 N|         138|         265|           1|       51.0|  0.5|    0.5|     11.65|        6.12|                  0.3|       70.07|                 0.0|\n",
      "|       2| 2021-03-01 00:02:13|  2021-03-01 00:06:01|              1|         1.13|         1|                 N|          68|         264|           1|        5.5|  0.5|    0.5|      1.86|         0.0|                  0.3|       11.16|                 2.5|\n",
      "+--------+--------------------+---------------------+---------------+-------------+----------+------------------+------------+------------+------------+-----------+-----+-------+----------+------------+---------------------+------------+--------------------+\n",
      "only showing top 5 rows\n",
      "\n",
      "+----------+-------------+--------------------+------------+\n",
      "|LocationID|      Borough|                Zone|service_zone|\n",
      "+----------+-------------+--------------------+------------+\n",
      "|         1|          EWR|      Newark Airport|         EWR|\n",
      "|         2|       Queens|         Jamaica Bay|   Boro Zone|\n",
      "|         3|        Bronx|Allerton/Pelham G...|   Boro Zone|\n",
      "|         4|    Manhattan|       Alphabet City| Yellow Zone|\n",
      "|         5|Staten Island|       Arden Heights|   Boro Zone|\n",
      "+----------+-------------+--------------------+------------+\n",
      "only showing top 5 rows\n",
      "\n"
     ]
    },
    {
     "data": {
      "text/plain": [
       "(None, None)"
      ]
     },
     "execution_count": 6,
     "metadata": {},
     "output_type": "execute_result"
    }
   ],
   "source": [
    "trip_data.show(5), zone_data.show(5)"
   ]
  },
  {
   "cell_type": "code",
   "execution_count": 7,
   "id": "9eb8313b",
   "metadata": {},
   "outputs": [],
   "source": [
    "trip_data.createOrReplaceTempView(\"trip\")\n",
    "zone_data.createOrReplaceTempView(\"zone\")"
   ]
  },
  {
   "cell_type": "code",
   "execution_count": 8,
   "id": "f3e04153",
   "metadata": {},
   "outputs": [
    {
     "name": "stdout",
     "output_type": "stream",
     "text": [
      "root\n",
      " |-- VendorID: integer (nullable = true)\n",
      " |-- tpep_pickup_datetime: string (nullable = true)\n",
      " |-- tpep_dropoff_datetime: string (nullable = true)\n",
      " |-- passenger_count: integer (nullable = true)\n",
      " |-- trip_distance: double (nullable = true)\n",
      " |-- RatecodeID: integer (nullable = true)\n",
      " |-- store_and_fwd_flag: string (nullable = true)\n",
      " |-- PULocationID: integer (nullable = true)\n",
      " |-- DOLocationID: integer (nullable = true)\n",
      " |-- payment_type: integer (nullable = true)\n",
      " |-- fare_amount: double (nullable = true)\n",
      " |-- extra: double (nullable = true)\n",
      " |-- mta_tax: double (nullable = true)\n",
      " |-- tip_amount: double (nullable = true)\n",
      " |-- tolls_amount: double (nullable = true)\n",
      " |-- improvement_surcharge: double (nullable = true)\n",
      " |-- total_amount: double (nullable = true)\n",
      " |-- congestion_surcharge: double (nullable = true)\n",
      "\n",
      "root\n",
      " |-- LocationID: integer (nullable = true)\n",
      " |-- Borough: string (nullable = true)\n",
      " |-- Zone: string (nullable = true)\n",
      " |-- service_zone: string (nullable = true)\n",
      "\n"
     ]
    },
    {
     "data": {
      "text/plain": [
       "(None, None)"
      ]
     },
     "execution_count": 8,
     "metadata": {},
     "output_type": "execute_result"
    }
   ],
   "source": [
    "trip_data.printSchema(), zone_data.printSchema()"
   ]
  },
  {
   "cell_type": "code",
   "execution_count": 9,
   "id": "38d7a7db",
   "metadata": {},
   "outputs": [
    {
     "name": "stdout",
     "output_type": "stream",
     "text": [
      "+---------+-----------+------------+-----------+-----------+-------------------+---------------+-------------+------------+-----------+------------+------------+-----------------+--------------+\n",
      "|vendor_id|pickup_date|dropoff_date|pickup_time|dropoff_tme|    pickup_datetime|passenger_count|trip_distance|payment_type|fare_amount|tolls_amount|total_amount|      pickup_zone|  dropoff_zone|\n",
      "+---------+-----------+------------+-----------+-----------+-------------------+---------------+-------------+------------+-----------+------------+------------+-----------------+--------------+\n",
      "|        2| 2021-03-01|  2021-03-01|          0|          0|2021-03-01 00:22:02|              1|          0.0|           2|        3.0|         0.0|         4.3|               NV|            NV|\n",
      "|        2| 2021-03-01|  2021-03-01|          0|          0|2021-03-01 00:24:48|              1|          0.0|           2|        2.5|         0.0|         3.8|   Manhattanville|Manhattanville|\n",
      "|        2| 2021-03-01|  2021-03-01|          0|          0|2021-03-01 00:25:17|              1|          0.0|           2|        3.5|         0.0|         4.8|   Manhattanville|Manhattanville|\n",
      "|        1| 2021-03-01|  2021-03-01|          0|          0|2021-03-01 00:07:40|              0|         16.5|           1|       51.0|        6.12|       70.07|LaGuardia Airport|            NA|\n",
      "|        2| 2021-03-01|  2021-03-01|          0|          0|2021-03-01 00:02:13|              1|         1.13|           1|        5.5|         0.0|       11.16|     East Chelsea|            NV|\n",
      "+---------+-----------+------------+-----------+-----------+-------------------+---------------+-------------+------------+-----------+------------+------------+-----------------+--------------+\n",
      "only showing top 5 rows\n",
      "\n",
      "root\n",
      " |-- vendor_id: integer (nullable = true)\n",
      " |-- pickup_date: date (nullable = true)\n",
      " |-- dropoff_date: date (nullable = true)\n",
      " |-- pickup_time: integer (nullable = true)\n",
      " |-- dropoff_tme: integer (nullable = true)\n",
      " |-- pickup_datetime: string (nullable = true)\n",
      " |-- passenger_count: integer (nullable = true)\n",
      " |-- trip_distance: double (nullable = true)\n",
      " |-- payment_type: integer (nullable = true)\n",
      " |-- fare_amount: double (nullable = true)\n",
      " |-- tolls_amount: double (nullable = true)\n",
      " |-- total_amount: double (nullable = true)\n",
      " |-- pickup_zone: string (nullable = true)\n",
      " |-- dropoff_zone: string (nullable = true)\n",
      "\n"
     ]
    },
    {
     "data": {
      "text/plain": [
       "(None, None)"
      ]
     },
     "execution_count": 9,
     "metadata": {},
     "output_type": "execute_result"
    }
   ],
   "source": [
    "query = \"\"\"\n",
    "SELECT\n",
    "    t.VendorID as vendor_id,\n",
    "    TO_DATE(t.tpep_pickup_datetime) as pickup_date,\n",
    "    TO_DATE(t.tpep_dropoff_datetime) as dropoff_date,\n",
    "    HOUR(t.tpep_pickup_datetime) as pickup_time, \n",
    "    HOUR(t.tpep_dropoff_datetime) as dropoff_tme,\n",
    "    t.tpep_pickup_datetime as pickup_datetime,\n",
    "    t.passenger_count,\n",
    "    t.trip_distance,\n",
    "    t.payment_type,\n",
    "    t.fare_amount,\n",
    "    t.tolls_amount,\n",
    "    t.total_amount,\n",
    "    pz.Zone as pickup_zone,\n",
    "    dz.Zone as dropoff_zone\n",
    "FROM\n",
    "    trip t\n",
    "LEFT JOIN\n",
    "    zone pz\n",
    "ON\n",
    "    t.PULocationID = pz.LocationID\n",
    "LEFT JOIN\n",
    "    zone dz\n",
    "ON\n",
    "    t.DOLocationID = dz.LocationID\n",
    "\"\"\"\n",
    "\n",
    "comb_df = spark.sql(query)\n",
    "comb_df.show(5), comb_df.printSchema()"
   ]
  },
  {
   "cell_type": "code",
   "execution_count": 10,
   "id": "7786789d",
   "metadata": {},
   "outputs": [],
   "source": [
    "comb_df.createOrReplaceTempView(\"comb\")"
   ]
  },
  {
   "cell_type": "code",
   "execution_count": 11,
   "id": "ad766399",
   "metadata": {},
   "outputs": [
    {
     "name": "stdout",
     "output_type": "stream",
     "text": [
      "+--------------------+-----------+-----------+\n",
      "|         pickup_zone|pickup_date|pickup_time|\n",
      "+--------------------+-----------+-----------+\n",
      "|                  NV| 2021-03-01|          0|\n",
      "|      Manhattanville| 2021-03-01|          0|\n",
      "|      Manhattanville| 2021-03-01|          0|\n",
      "|   LaGuardia Airport| 2021-03-01|          0|\n",
      "|        East Chelsea| 2021-03-01|          0|\n",
      "|Upper West Side S...| 2021-03-01|          0|\n",
      "|Penn Station/Madi...| 2021-03-01|          0|\n",
      "|         JFK Airport| 2021-03-01|          0|\n",
      "|   LaGuardia Airport| 2021-03-01|          0|\n",
      "|   LaGuardia Airport| 2021-03-01|          0|\n",
      "|         JFK Airport| 2021-03-01|          0|\n",
      "|     Lenox Hill East| 2021-03-01|          0|\n",
      "|Upper West Side S...| 2021-03-01|          0|\n",
      "|    Hamilton Heights| 2021-03-01|          0|\n",
      "|   East Harlem North| 2021-03-01|          0|\n",
      "|Upper West Side S...| 2021-03-01|          0|\n",
      "|         JFK Airport| 2021-03-01|          0|\n",
      "|Upper West Side S...| 2021-03-01|          0|\n",
      "|         JFK Airport| 2021-03-01|          0|\n",
      "|Sutton Place/Turt...| 2021-03-01|          0|\n",
      "+--------------------+-----------+-----------+\n",
      "only showing top 20 rows\n",
      "\n"
     ]
    }
   ],
   "source": [
    "spark.sql(\"select pickup_zone, pickup_date, pickup_time from comb\").show()"
   ]
  },
  {
   "cell_type": "code",
   "execution_count": 12,
   "id": "9b9eac3a",
   "metadata": {},
   "outputs": [
    {
     "name": "stdout",
     "output_type": "stream",
     "text": [
      "+-----------+------------------+\n",
      "|pickup_date|count(pickup_date)|\n",
      "+-----------+------------------+\n",
      "| 2002-12-31|                 1|\n",
      "| 2003-01-05|                 1|\n",
      "| 2004-04-04|                 1|\n",
      "| 2008-12-31|                26|\n",
      "| 2009-01-01|               111|\n",
      "| 2020-12-31|                16|\n",
      "| 2021-01-01|             24827|\n",
      "| 2021-01-02|             34309|\n",
      "| 2021-01-03|             26345|\n",
      "| 2021-01-04|             44545|\n",
      "| 2021-01-05|             46876|\n",
      "| 2021-01-06|             49547|\n",
      "| 2021-01-07|             50290|\n",
      "| 2021-01-08|             50477|\n",
      "| 2021-01-09|             39911|\n",
      "| 2021-01-10|             29855|\n",
      "| 2021-01-11|             46849|\n",
      "| 2021-01-12|             50133|\n",
      "| 2021-01-13|             51306|\n",
      "| 2021-01-14|             53051|\n",
      "+-----------+------------------+\n",
      "only showing top 20 rows\n",
      "\n"
     ]
    }
   ],
   "source": [
    "spark.sql(\"select pickup_date, count(pickup_date) from comb group by pickup_date order by pickup_date\").show()"
   ]
  },
  {
   "cell_type": "code",
   "execution_count": 13,
   "id": "97112985",
   "metadata": {},
   "outputs": [
    {
     "name": "stdout",
     "output_type": "stream",
     "text": [
      "+-------+-----------------+\n",
      "|summary|     total_amount|\n",
      "+-------+-----------------+\n",
      "|  count|         15000700|\n",
      "|   mean|18.75545205708744|\n",
      "| stddev|145.7442452805979|\n",
      "|    min|           -647.8|\n",
      "|    max|         398469.2|\n",
      "+-------+-----------------+\n",
      "\n"
     ]
    }
   ],
   "source": [
    "comb_df.select(\"total_amount\").describe().show()"
   ]
  },
  {
   "cell_type": "code",
   "execution_count": 14,
   "id": "15152169",
   "metadata": {},
   "outputs": [
    {
     "name": "stdout",
     "output_type": "stream",
     "text": [
      "+-------+-----------------+-----------------+------------------+\n",
      "|summary|     total_amount|    trip_distance|   passenger_count|\n",
      "+-------+-----------------+-----------------+------------------+\n",
      "|  count|         15000700|         15000700|          14166672|\n",
      "|   mean|18.75545205708744|6.628629402627818|1.4253783104458126|\n",
      "| stddev|145.7442452805979|671.7293482115828|  1.04432704905968|\n",
      "|    min|           -647.8|              0.0|                 0|\n",
      "|    max|         398469.2|        332541.19|                 9|\n",
      "+-------+-----------------+-----------------+------------------+\n",
      "\n"
     ]
    }
   ],
   "source": [
    "comb_df.select([\"total_amount\",\"trip_distance\",\"passenger_count\"]).describe().show()"
   ]
  },
  {
   "cell_type": "code",
   "execution_count": 15,
   "id": "3687d2f8",
   "metadata": {},
   "outputs": [
    {
     "name": "stdout",
     "output_type": "stream",
     "text": [
      "+-------------------+-------+\n",
      "|              month|  trips|\n",
      "+-------------------+-------+\n",
      "|2002-12-01 00:00:00|      1|\n",
      "|2003-01-01 00:00:00|      1|\n",
      "|2004-04-01 00:00:00|      1|\n",
      "|2008-12-01 00:00:00|     26|\n",
      "|2009-01-01 00:00:00|    111|\n",
      "|2020-12-01 00:00:00|     16|\n",
      "|2021-01-01 00:00:00|1369749|\n",
      "|2021-02-01 00:00:00|1371688|\n",
      "|2021-03-01 00:00:00|1925130|\n",
      "|2021-04-01 00:00:00|2171215|\n",
      "|2021-05-01 00:00:00|2507075|\n",
      "|2021-06-01 00:00:00|2834204|\n",
      "|2021-07-01 00:00:00|2821430|\n",
      "|2021-08-01 00:00:00|     36|\n",
      "|2021-09-01 00:00:00|      3|\n",
      "|2021-10-01 00:00:00|      3|\n",
      "|2021-11-01 00:00:00|      5|\n",
      "|2021-12-01 00:00:00|      5|\n",
      "|2029-05-01 00:00:00|      1|\n",
      "+-------------------+-------+\n",
      "\n"
     ]
    }
   ],
   "source": [
    "query = \"\"\"\n",
    "SELECT\n",
    "    DATE_TRUNC(\"MM\", pickup_date) as month,\n",
    "    count(*) as trips\n",
    "FROM\n",
    "    comb\n",
    "GROUP BY\n",
    "    month\n",
    "ORDER BY\n",
    "    month\n",
    "\"\"\"\n",
    "spark.sql(query).show()"
   ]
  },
  {
   "cell_type": "code",
   "execution_count": 16,
   "id": "311f27b4",
   "metadata": {},
   "outputs": [],
   "source": [
    "query = \"\"\"\n",
    "SELECT\n",
    "    *\n",
    "FROM\n",
    "    comb\n",
    "WHERE\n",
    "    pickup_date >= \"2021-01-01\" and\n",
    "    pickup_date < \"2021-08-01\" and\n",
    "    total_amount > 0 and\n",
    "    total_amount < 5000 and\n",
    "    trip_distance > 0 and\n",
    "    trip_distance < 100 and\n",
    "    passenger_count > 0 and\n",
    "    passenger_count <= 4\n",
    "\"\"\"\n",
    "cleaned_df = spark.sql(query)\n",
    "cleaned_df.createOrReplaceTempView('cleaned')"
   ]
  },
  {
   "cell_type": "code",
   "execution_count": 17,
   "id": "f0f9aaf1",
   "metadata": {},
   "outputs": [
    {
     "name": "stdout",
     "output_type": "stream",
     "text": [
      "+---------+-----------+------------+-----------+-----------+-------------------+---------------+-------------+------------+-----------+------------+------------+--------------------+--------------+\n",
      "|vendor_id|pickup_date|dropoff_date|pickup_time|dropoff_tme|    pickup_datetime|passenger_count|trip_distance|payment_type|fare_amount|tolls_amount|total_amount|         pickup_zone|  dropoff_zone|\n",
      "+---------+-----------+------------+-----------+-----------+-------------------+---------------+-------------+------------+-----------+------------+------------+--------------------+--------------+\n",
      "|        2| 2021-03-01|  2021-03-01|          0|          0|2021-03-01 00:02:13|              1|         1.13|           1|        5.5|         0.0|       11.16|        East Chelsea|            NV|\n",
      "|        2| 2021-03-01|  2021-03-01|          0|          0|2021-03-01 00:40:16|              1|         2.68|           1|       10.5|         0.0|       18.59|Upper West Side S...|Yorkville East|\n",
      "|        1| 2021-03-01|  2021-03-01|          0|          0|2021-03-01 00:04:00|              1|         12.4|           1|       40.0|         0.0|        43.8|Penn Station/Madi...|     Flatlands|\n",
      "+---------+-----------+------------+-----------+-----------+-------------------+---------------+-------------+------------+-----------+------------+------------+--------------------+--------------+\n",
      "only showing top 3 rows\n",
      "\n"
     ]
    }
   ],
   "source": [
    "cleaned_df.show(3)"
   ]
  },
  {
   "cell_type": "code",
   "execution_count": 18,
   "id": "2e6d1a8b",
   "metadata": {},
   "outputs": [
    {
     "name": "stdout",
     "output_type": "stream",
     "text": [
      "+-------+------------------+------------------+------------------+\n",
      "|summary|      total_amount|     trip_distance|   passenger_count|\n",
      "+-------+------------------+------------------+------------------+\n",
      "|  count|          13019207|          13019207|          13019207|\n",
      "|   mean|18.003883030846975|2.8856136583433587|1.2827613847755859|\n",
      "| stddev|12.965494908370037|3.6501932033364577|0.6135808273361556|\n",
      "|    min|              0.01|              0.01|                 1|\n",
      "|    max|            4973.3|             99.96|                 4|\n",
      "+-------+------------------+------------------+------------------+\n",
      "\n"
     ]
    }
   ],
   "source": [
    "cleaned_df.select([\"total_amount\",\"trip_distance\",\"passenger_count\"]).describe().show()"
   ]
  },
  {
   "cell_type": "code",
   "execution_count": 19,
   "id": "9b8da297",
   "metadata": {},
   "outputs": [],
   "source": [
    "# visualization\n",
    "\n",
    "import numpy as np\n",
    "import pandas as pd\n",
    "import seaborn as sns"
   ]
  },
  {
   "cell_type": "code",
   "execution_count": 75,
   "id": "88481831",
   "metadata": {},
   "outputs": [],
   "source": [
    "import matplotlib.pyplot as plt\n",
    "import matplotlib.dates as mdates"
   ]
  },
  {
   "cell_type": "code",
   "execution_count": 76,
   "id": "fe49e522",
   "metadata": {},
   "outputs": [],
   "source": [
    "# %matplotlib inline => 주피터 노트북에서 그래프 안보이면 추가하기\n",
    "%matplotlib inline"
   ]
  },
  {
   "cell_type": "code",
   "execution_count": 21,
   "id": "32223251",
   "metadata": {},
   "outputs": [
    {
     "name": "stdout",
     "output_type": "stream",
     "text": [
      "+-----------+-----+\n",
      "|pickup_date|trips|\n",
      "+-----------+-----+\n",
      "| 2021-01-01|20760|\n",
      "| 2021-01-02|29706|\n",
      "| 2021-01-03|22487|\n",
      "| 2021-01-04|37422|\n",
      "| 2021-01-05|39365|\n",
      "| 2021-01-06|41928|\n",
      "| 2021-01-07|42209|\n",
      "| 2021-01-08|42457|\n",
      "| 2021-01-09|34219|\n",
      "| 2021-01-10|25627|\n",
      "| 2021-01-11|39178|\n",
      "| 2021-01-12|42148|\n",
      "| 2021-01-13|43161|\n",
      "| 2021-01-14|44640|\n",
      "| 2021-01-15|44520|\n",
      "| 2021-01-16|33296|\n",
      "| 2021-01-17|27692|\n",
      "| 2021-01-18|31934|\n",
      "| 2021-01-19|43151|\n",
      "| 2021-01-20|42119|\n",
      "+-----------+-----+\n",
      "only showing top 20 rows\n",
      "\n"
     ]
    }
   ],
   "source": [
    "query = \"\"\"\n",
    "SELECT\n",
    "    pickup_date,\n",
    "    count(pickup_date) as trips\n",
    "FROM\n",
    "    cleaned\n",
    "GROUP BY\n",
    "    pickup_date\n",
    "ORDER BY\n",
    "    pickup_date\n",
    "\"\"\"\n",
    "spark.sql(query).show()"
   ]
  },
  {
   "cell_type": "code",
   "execution_count": 22,
   "id": "9ddb244f",
   "metadata": {},
   "outputs": [],
   "source": [
    "pickupdate_df = spark.sql(query).toPandas()"
   ]
  },
  {
   "cell_type": "code",
   "execution_count": 23,
   "id": "5dd67148",
   "metadata": {},
   "outputs": [
    {
     "data": {
      "text/html": [
       "<div>\n",
       "<style scoped>\n",
       "    .dataframe tbody tr th:only-of-type {\n",
       "        vertical-align: middle;\n",
       "    }\n",
       "\n",
       "    .dataframe tbody tr th {\n",
       "        vertical-align: top;\n",
       "    }\n",
       "\n",
       "    .dataframe thead th {\n",
       "        text-align: right;\n",
       "    }\n",
       "</style>\n",
       "<table border=\"1\" class=\"dataframe\">\n",
       "  <thead>\n",
       "    <tr style=\"text-align: right;\">\n",
       "      <th></th>\n",
       "      <th>pickup_date</th>\n",
       "      <th>trips</th>\n",
       "    </tr>\n",
       "  </thead>\n",
       "  <tbody>\n",
       "    <tr>\n",
       "      <th>0</th>\n",
       "      <td>2021-01-01</td>\n",
       "      <td>20760</td>\n",
       "    </tr>\n",
       "    <tr>\n",
       "      <th>1</th>\n",
       "      <td>2021-01-02</td>\n",
       "      <td>29706</td>\n",
       "    </tr>\n",
       "    <tr>\n",
       "      <th>2</th>\n",
       "      <td>2021-01-03</td>\n",
       "      <td>22487</td>\n",
       "    </tr>\n",
       "    <tr>\n",
       "      <th>3</th>\n",
       "      <td>2021-01-04</td>\n",
       "      <td>37422</td>\n",
       "    </tr>\n",
       "    <tr>\n",
       "      <th>4</th>\n",
       "      <td>2021-01-05</td>\n",
       "      <td>39365</td>\n",
       "    </tr>\n",
       "    <tr>\n",
       "      <th>...</th>\n",
       "      <td>...</td>\n",
       "      <td>...</td>\n",
       "    </tr>\n",
       "    <tr>\n",
       "      <th>207</th>\n",
       "      <td>2021-07-27</td>\n",
       "      <td>87024</td>\n",
       "    </tr>\n",
       "    <tr>\n",
       "      <th>208</th>\n",
       "      <td>2021-07-28</td>\n",
       "      <td>87329</td>\n",
       "    </tr>\n",
       "    <tr>\n",
       "      <th>209</th>\n",
       "      <td>2021-07-29</td>\n",
       "      <td>86874</td>\n",
       "    </tr>\n",
       "    <tr>\n",
       "      <th>210</th>\n",
       "      <td>2021-07-30</td>\n",
       "      <td>86664</td>\n",
       "    </tr>\n",
       "    <tr>\n",
       "      <th>211</th>\n",
       "      <td>2021-07-31</td>\n",
       "      <td>80867</td>\n",
       "    </tr>\n",
       "  </tbody>\n",
       "</table>\n",
       "<p>212 rows × 2 columns</p>\n",
       "</div>"
      ],
      "text/plain": [
       "    pickup_date  trips\n",
       "0    2021-01-01  20760\n",
       "1    2021-01-02  29706\n",
       "2    2021-01-03  22487\n",
       "3    2021-01-04  37422\n",
       "4    2021-01-05  39365\n",
       "..          ...    ...\n",
       "207  2021-07-27  87024\n",
       "208  2021-07-28  87329\n",
       "209  2021-07-29  86874\n",
       "210  2021-07-30  86664\n",
       "211  2021-07-31  80867\n",
       "\n",
       "[212 rows x 2 columns]"
      ]
     },
     "execution_count": 23,
     "metadata": {},
     "output_type": "execute_result"
    }
   ],
   "source": [
    "pickupdate_df"
   ]
  },
  {
   "cell_type": "code",
   "execution_count": 77,
   "id": "1c993c8c",
   "metadata": {},
   "outputs": [
    {
     "data": {
      "text/plain": [
       "<AxesSubplot:xlabel='pickup_date', ylabel='trips'>"
      ]
     },
     "execution_count": 77,
     "metadata": {},
     "output_type": "execute_result"
    },
    {
     "data": {
      "image/png": "[encoded data removed]",
      "text/plain": [
       "<Figure size 1008x360 with 1 Axes>"
      ]
     },
     "metadata": {
      "needs_background": "light"
     },
     "output_type": "display_data"
    }
   ],
   "source": [
    "fig, ax = plt.subplots(figsize=(14,5))\n",
    "sns.lineplot(data=pickupdate_df, x=\"pickup_date\", y=\"trips\")"
   ]
  },
  {
   "cell_type": "code",
   "execution_count": 25,
   "id": "f571c688",
   "metadata": {},
   "outputs": [
    {
     "name": "stdout",
     "output_type": "stream",
     "text": [
      "root\n",
      " |-- vendor_id: integer (nullable = true)\n",
      " |-- pickup_date: date (nullable = true)\n",
      " |-- dropoff_date: date (nullable = true)\n",
      " |-- pickup_time: integer (nullable = true)\n",
      " |-- dropoff_tme: integer (nullable = true)\n",
      " |-- pickup_datetime: string (nullable = true)\n",
      " |-- passenger_count: integer (nullable = true)\n",
      " |-- trip_distance: double (nullable = true)\n",
      " |-- payment_type: integer (nullable = true)\n",
      " |-- fare_amount: double (nullable = true)\n",
      " |-- tolls_amount: double (nullable = true)\n",
      " |-- total_amount: double (nullable = true)\n",
      " |-- pickup_zone: string (nullable = true)\n",
      " |-- dropoff_zone: string (nullable = true)\n",
      "\n"
     ]
    }
   ],
   "source": [
    "cleaned_df.printSchema()"
   ]
  },
  {
   "cell_type": "code",
   "execution_count": 56,
   "id": "5048ba3d",
   "metadata": {},
   "outputs": [],
   "source": [
    "query = \"\"\"\n",
    "SELECT\n",
    "    DATE_FORMAT(pickup_date, 'EEEE') AS day_of_week,\n",
    "    COUNT(*) AS trips\n",
    "FROM\n",
    "    cleaned\n",
    "GROUP BY\n",
    "    pickup_date,\n",
    "    day_of_week\n",
    "\"\"\"\n",
    "weeks_trip_df = spark.sql(query).toPandas()"
   ]
  },
  {
   "cell_type": "code",
   "execution_count": 57,
   "id": "f2af2fd6",
   "metadata": {},
   "outputs": [
    {
     "data": {
      "text/html": [
       "<div>\n",
       "<style scoped>\n",
       "    .dataframe tbody tr th:only-of-type {\n",
       "        vertical-align: middle;\n",
       "    }\n",
       "\n",
       "    .dataframe tbody tr th {\n",
       "        vertical-align: top;\n",
       "    }\n",
       "\n",
       "    .dataframe thead th {\n",
       "        text-align: right;\n",
       "    }\n",
       "</style>\n",
       "<table border=\"1\" class=\"dataframe\">\n",
       "  <thead>\n",
       "    <tr style=\"text-align: right;\">\n",
       "      <th></th>\n",
       "      <th>day_of_week</th>\n",
       "      <th>trips</th>\n",
       "    </tr>\n",
       "  </thead>\n",
       "  <tbody>\n",
       "    <tr>\n",
       "      <th>0</th>\n",
       "      <td>Wednesday</td>\n",
       "      <td>59007</td>\n",
       "    </tr>\n",
       "    <tr>\n",
       "      <th>1</th>\n",
       "      <td>Wednesday</td>\n",
       "      <td>53931</td>\n",
       "    </tr>\n",
       "    <tr>\n",
       "      <th>2</th>\n",
       "      <td>Friday</td>\n",
       "      <td>59588</td>\n",
       "    </tr>\n",
       "    <tr>\n",
       "      <th>3</th>\n",
       "      <td>Tuesday</td>\n",
       "      <td>52851</td>\n",
       "    </tr>\n",
       "    <tr>\n",
       "      <th>4</th>\n",
       "      <td>Friday</td>\n",
       "      <td>63347</td>\n",
       "    </tr>\n",
       "    <tr>\n",
       "      <th>...</th>\n",
       "      <td>...</td>\n",
       "      <td>...</td>\n",
       "    </tr>\n",
       "    <tr>\n",
       "      <th>207</th>\n",
       "      <td>Tuesday</td>\n",
       "      <td>57191</td>\n",
       "    </tr>\n",
       "    <tr>\n",
       "      <th>208</th>\n",
       "      <td>Saturday</td>\n",
       "      <td>69268</td>\n",
       "    </tr>\n",
       "    <tr>\n",
       "      <th>209</th>\n",
       "      <td>Sunday</td>\n",
       "      <td>34774</td>\n",
       "    </tr>\n",
       "    <tr>\n",
       "      <th>210</th>\n",
       "      <td>Sunday</td>\n",
       "      <td>43081</td>\n",
       "    </tr>\n",
       "    <tr>\n",
       "      <th>211</th>\n",
       "      <td>Monday</td>\n",
       "      <td>49488</td>\n",
       "    </tr>\n",
       "  </tbody>\n",
       "</table>\n",
       "<p>212 rows × 2 columns</p>\n",
       "</div>"
      ],
      "text/plain": [
       "    day_of_week  trips\n",
       "0     Wednesday  59007\n",
       "1     Wednesday  53931\n",
       "2        Friday  59588\n",
       "3       Tuesday  52851\n",
       "4        Friday  63347\n",
       "..          ...    ...\n",
       "207     Tuesday  57191\n",
       "208    Saturday  69268\n",
       "209      Sunday  34774\n",
       "210      Sunday  43081\n",
       "211      Monday  49488\n",
       "\n",
       "[212 rows x 2 columns]"
      ]
     },
     "execution_count": 57,
     "metadata": {},
     "output_type": "execute_result"
    }
   ],
   "source": [
    "weeks_trip_df"
   ]
  },
  {
   "cell_type": "code",
   "execution_count": 58,
   "id": "9f868fa9",
   "metadata": {},
   "outputs": [
    {
     "data": {
      "text/html": [
       "<div>\n",
       "<style scoped>\n",
       "    .dataframe tbody tr th:only-of-type {\n",
       "        vertical-align: middle;\n",
       "    }\n",
       "\n",
       "    .dataframe tbody tr th {\n",
       "        vertical-align: top;\n",
       "    }\n",
       "\n",
       "    .dataframe thead th {\n",
       "        text-align: right;\n",
       "    }\n",
       "</style>\n",
       "<table border=\"1\" class=\"dataframe\">\n",
       "  <thead>\n",
       "    <tr style=\"text-align: right;\">\n",
       "      <th></th>\n",
       "      <th>day_of_week</th>\n",
       "      <th>trips</th>\n",
       "    </tr>\n",
       "  </thead>\n",
       "  <tbody>\n",
       "    <tr>\n",
       "      <th>0</th>\n",
       "      <td>Friday</td>\n",
       "      <td>71551.0</td>\n",
       "    </tr>\n",
       "    <tr>\n",
       "      <th>1</th>\n",
       "      <td>Monday</td>\n",
       "      <td>54908.0</td>\n",
       "    </tr>\n",
       "    <tr>\n",
       "      <th>2</th>\n",
       "      <td>Saturday</td>\n",
       "      <td>60233.0</td>\n",
       "    </tr>\n",
       "    <tr>\n",
       "      <th>3</th>\n",
       "      <td>Sunday</td>\n",
       "      <td>42236.0</td>\n",
       "    </tr>\n",
       "    <tr>\n",
       "      <th>4</th>\n",
       "      <td>Thursday</td>\n",
       "      <td>70524.5</td>\n",
       "    </tr>\n",
       "    <tr>\n",
       "      <th>5</th>\n",
       "      <td>Tuesday</td>\n",
       "      <td>65069.5</td>\n",
       "    </tr>\n",
       "    <tr>\n",
       "      <th>6</th>\n",
       "      <td>Wednesday</td>\n",
       "      <td>67674.0</td>\n",
       "    </tr>\n",
       "  </tbody>\n",
       "</table>\n",
       "</div>"
      ],
      "text/plain": [
       "  day_of_week    trips\n",
       "0      Friday  71551.0\n",
       "1      Monday  54908.0\n",
       "2    Saturday  60233.0\n",
       "3      Sunday  42236.0\n",
       "4    Thursday  70524.5\n",
       "5     Tuesday  65069.5\n",
       "6   Wednesday  67674.0"
      ]
     },
     "execution_count": 58,
     "metadata": {},
     "output_type": "execute_result"
    }
   ],
   "source": [
    "data = weeks_trip_df.groupby(\"day_of_week\").trips.median().to_frame().reset_index()\n",
    "data"
   ]
  },
  {
   "cell_type": "code",
   "execution_count": 62,
   "id": "011c3dba",
   "metadata": {},
   "outputs": [],
   "source": [
    "data[\"sorted_dow\"] = data[\"day_of_week\"].replace({\n",
    "    \"Sunday\" : 0,\n",
    "    \"Monday\" : 1,\n",
    "    \"Tuesday\" : 2,\n",
    "    \"Wednesday\" : 3,\n",
    "    \"Thursday\" : 4,\n",
    "    \"Friday\" : 5,\n",
    "    \"Saturday\" : 6,\n",
    "})"
   ]
  },
  {
   "cell_type": "code",
   "execution_count": 69,
   "id": "4638dc56",
   "metadata": {},
   "outputs": [],
   "source": [
    "data.sort_values(by=\"sorted_dow\", inplace=True) # inplace : 데이터 변환 True, False : 보여주기만"
   ]
  },
  {
   "cell_type": "code",
   "execution_count": 70,
   "id": "db06c6bf",
   "metadata": {},
   "outputs": [
    {
     "data": {
      "text/html": [
       "<div>\n",
       "<style scoped>\n",
       "    .dataframe tbody tr th:only-of-type {\n",
       "        vertical-align: middle;\n",
       "    }\n",
       "\n",
       "    .dataframe tbody tr th {\n",
       "        vertical-align: top;\n",
       "    }\n",
       "\n",
       "    .dataframe thead th {\n",
       "        text-align: right;\n",
       "    }\n",
       "</style>\n",
       "<table border=\"1\" class=\"dataframe\">\n",
       "  <thead>\n",
       "    <tr style=\"text-align: right;\">\n",
       "      <th></th>\n",
       "      <th>day_of_week</th>\n",
       "      <th>trips</th>\n",
       "      <th>sorted_dow</th>\n",
       "    </tr>\n",
       "  </thead>\n",
       "  <tbody>\n",
       "    <tr>\n",
       "      <th>3</th>\n",
       "      <td>Sunday</td>\n",
       "      <td>42236.0</td>\n",
       "      <td>0</td>\n",
       "    </tr>\n",
       "    <tr>\n",
       "      <th>1</th>\n",
       "      <td>Monday</td>\n",
       "      <td>54908.0</td>\n",
       "      <td>1</td>\n",
       "    </tr>\n",
       "    <tr>\n",
       "      <th>5</th>\n",
       "      <td>Tuesday</td>\n",
       "      <td>65069.5</td>\n",
       "      <td>2</td>\n",
       "    </tr>\n",
       "    <tr>\n",
       "      <th>6</th>\n",
       "      <td>Wednesday</td>\n",
       "      <td>67674.0</td>\n",
       "      <td>3</td>\n",
       "    </tr>\n",
       "    <tr>\n",
       "      <th>4</th>\n",
       "      <td>Thursday</td>\n",
       "      <td>70524.5</td>\n",
       "      <td>4</td>\n",
       "    </tr>\n",
       "    <tr>\n",
       "      <th>0</th>\n",
       "      <td>Friday</td>\n",
       "      <td>71551.0</td>\n",
       "      <td>5</td>\n",
       "    </tr>\n",
       "    <tr>\n",
       "      <th>2</th>\n",
       "      <td>Saturday</td>\n",
       "      <td>60233.0</td>\n",
       "      <td>6</td>\n",
       "    </tr>\n",
       "  </tbody>\n",
       "</table>\n",
       "</div>"
      ],
      "text/plain": [
       "  day_of_week    trips  sorted_dow\n",
       "3      Sunday  42236.0           0\n",
       "1      Monday  54908.0           1\n",
       "5     Tuesday  65069.5           2\n",
       "6   Wednesday  67674.0           3\n",
       "4    Thursday  70524.5           4\n",
       "0      Friday  71551.0           5\n",
       "2    Saturday  60233.0           6"
      ]
     },
     "execution_count": 70,
     "metadata": {},
     "output_type": "execute_result"
    }
   ],
   "source": [
    "data"
   ]
  },
  {
   "cell_type": "code",
   "execution_count": 78,
   "id": "ad6c4125",
   "metadata": {},
   "outputs": [
    {
     "data": {
      "text/plain": [
       "<AxesSubplot:xlabel='day_of_week', ylabel='trips'>"
      ]
     },
     "execution_count": 78,
     "metadata": {},
     "output_type": "execute_result"
    },
    {
     "data": {
      "image/png": "[encoded data removed]",
      "text/plain": [
       "<Figure size 864x360 with 1 Axes>"
      ]
     },
     "metadata": {
      "needs_background": "light"
     },
     "output_type": "display_data"
    }
   ],
   "source": [
    "fig, ax = plt.subplots(figsize=(12, 5))\n",
    "sns.barplot(data=data, x=\"day_of_week\", y=\"trips\")"
   ]
  },
  {
   "cell_type": "code",
   "execution_count": null,
   "id": "a2b05cbd",
   "metadata": {},
   "outputs": [],
   "source": []
  }
 ],
 "metadata": {
  "kernelspec": {
   "display_name": "Python 3",
   "language": "python",
   "name": "python3"
  },
  "language_info": {
   "codemirror_mode": {
    "name": "ipython",
    "version": 3
   },
   "file_extension": ".py",
   "mimetype": "text/x-python",
   "name": "python",
   "nbconvert_exporter": "python",
   "pygments_lexer": "ipython3",
   "version": "3.8.8"
  }
 },
 "nbformat": 4,
 "nbformat_minor": 5
}
