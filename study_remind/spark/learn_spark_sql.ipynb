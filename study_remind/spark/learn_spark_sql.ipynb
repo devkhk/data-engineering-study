{
 "cells": [
  {
   "cell_type": "code",
   "execution_count": 1,
   "id": "1e89ff13",
   "metadata": {},
   "outputs": [],
   "source": [
    "from pyspark.sql import SparkSession"
   ]
  },
  {
   "cell_type": "code",
   "execution_count": 2,
   "id": "a6af1001",
   "metadata": {},
   "outputs": [],
   "source": [
    "spark = SparkSession.builder.master(\"local\").appName(\"learn_sql\").getOrCreate()"
   ]
  },
  {
   "cell_type": "code",
   "execution_count": 3,
   "id": "274fb5ac",
   "metadata": {},
   "outputs": [],
   "source": [
    "stocks = [\n",
    "    ('Google', 'GOOGL', 'USA', 2984, 'USD'),\n",
    "    ('Netflix', 'NFLX', 'USA', 645, 'USD'),\n",
    "    ('Amazon', 'AMZN', 'USA', 3518, 'USD'),\n",
    "    ('Tesla', 'TSLA', 'USA', 1222, 'USD'),\n",
    "    ('Tencent', '0700', 'Hong Kong', 483, 'HKD'),\n",
    "    ('Toyota', '7203', 'Japan', 2006, 'JPY'),\n",
    "    ('Samsung', '005930', 'Korea', 70600, 'KRW'),\n",
    "    ('Kakao', '035720', 'Korea', 125000, 'KRW'),\n",
    "]"
   ]
  },
  {
   "cell_type": "code",
   "execution_count": 4,
   "id": "019cd9b0",
   "metadata": {},
   "outputs": [],
   "source": [
    "stocks_schema = [\"name\", \"ticker\", \"country\", \"price\", \"currency\"]"
   ]
  },
  {
   "cell_type": "code",
   "execution_count": 5,
   "id": "f18358e0",
   "metadata": {},
   "outputs": [],
   "source": [
    "df = spark.createDataFrame(stocks, schema=stocks_schema)"
   ]
  },
  {
   "cell_type": "code",
   "execution_count": 7,
   "id": "c1641a56",
   "metadata": {},
   "outputs": [
    {
     "name": "stdout",
     "output_type": "stream",
     "text": [
      "root\n",
      " |-- name: string (nullable = true)\n",
      " |-- ticker: string (nullable = true)\n",
      " |-- country: string (nullable = true)\n",
      " |-- price: long (nullable = true)\n",
      " |-- currency: string (nullable = true)\n",
      "\n"
     ]
    }
   ],
   "source": [
    "df.printSchema()"
   ]
  },
  {
   "cell_type": "code",
   "execution_count": 11,
   "id": "57808a42",
   "metadata": {},
   "outputs": [
    {
     "name": "stdout",
     "output_type": "stream",
     "text": [
      "+-------+------+---------+------+--------+\n",
      "|   name|ticker|  country| price|currency|\n",
      "+-------+------+---------+------+--------+\n",
      "| Google| GOOGL|      USA|  2984|     USD|\n",
      "|Netflix|  NFLX|      USA|   645|     USD|\n",
      "| Amazon|  AMZN|      USA|  3518|     USD|\n",
      "|  Tesla|  TSLA|      USA|  1222|     USD|\n",
      "|Tencent|  0700|Hong Kong|   483|     HKD|\n",
      "| Toyota|  7203|    Japan|  2006|     JPY|\n",
      "|Samsung|005930|    Korea| 70600|     KRW|\n",
      "|  Kakao|035720|    Korea|125000|     KRW|\n",
      "+-------+------+---------+------+--------+\n",
      "\n"
     ]
    }
   ],
   "source": [
    "df.show()"
   ]
  },
  {
   "cell_type": "code",
   "execution_count": 12,
   "id": "85fbfad9",
   "metadata": {},
   "outputs": [],
   "source": [
    "# tempview 등록\n",
    "df.createOrReplaceTempView(\"stocks\")"
   ]
  },
  {
   "cell_type": "code",
   "execution_count": 13,
   "id": "4b812b76",
   "metadata": {},
   "outputs": [
    {
     "name": "stdout",
     "output_type": "stream",
     "text": [
      "+-------+\n",
      "|   name|\n",
      "+-------+\n",
      "| Google|\n",
      "| Amazon|\n",
      "| Toyota|\n",
      "|Samsung|\n",
      "|  Kakao|\n",
      "+-------+\n",
      "\n"
     ]
    }
   ],
   "source": [
    "spark.sql(\"\"\"\n",
    "SELECT\n",
    "    name\n",
    "FROM\n",
    "    stocks\n",
    "WHERE\n",
    "    price >= 2000\n",
    "\"\"\").show()"
   ]
  },
  {
   "cell_type": "code",
   "execution_count": 17,
   "id": "fe5515d9",
   "metadata": {},
   "outputs": [],
   "source": [
    "query = \"\"\"\n",
    "SELECT\n",
    "    *\n",
    "FROM\n",
    "    stocks\n",
    "WHERE\n",
    "    country = \"USA\" and\n",
    "    price >= 2000\n",
    "\"\"\""
   ]
  },
  {
   "cell_type": "code",
   "execution_count": 18,
   "id": "1a013973",
   "metadata": {},
   "outputs": [
    {
     "name": "stdout",
     "output_type": "stream",
     "text": [
      "+------+------+-------+-----+--------+\n",
      "|  name|ticker|country|price|currency|\n",
      "+------+------+-------+-----+--------+\n",
      "|Google| GOOGL|    USA| 2984|     USD|\n",
      "|Amazon|  AMZN|    USA| 3518|     USD|\n",
      "+------+------+-------+-----+--------+\n",
      "\n"
     ]
    }
   ],
   "source": [
    "stocks_df = spark.sql(query)\n",
    "stocks_df.show()"
   ]
  },
  {
   "cell_type": "code",
   "execution_count": 59,
   "id": "b778d298",
   "metadata": {},
   "outputs": [],
   "source": [
    "earnings = [\n",
    "    ('Google', 27.99, 'USD'),\n",
    "    ('Netflix', 2.56, 'USD'),\n",
    "    ('Amazon', 6.12, 'USD'),\n",
    "    ('Tesla', 1.86, 'USD'),\n",
    "    ('Tencent', 11.01, 'HKD'),\n",
    "    ('Toyota', 224.82, 'JPY'),\n",
    "    ('Samsung', 1780., 'KRW'),\n",
    "    ('Kakao', 705., 'KRW'),\n",
    "]"
   ]
  },
  {
   "cell_type": "code",
   "execution_count": 60,
   "id": "b6123d8e",
   "metadata": {},
   "outputs": [],
   "source": [
    "from pyspark.sql.types import StructType, StructField, StringType, FloatType"
   ]
  },
  {
   "cell_type": "code",
   "execution_count": 61,
   "id": "733eafad",
   "metadata": {},
   "outputs": [],
   "source": [
    "earning_schema = StructType([\n",
    "    StructField(\"name\",StringType()),\n",
    "    StructField(\"eps\",FloatType()),\n",
    "    StructField(\"currency\",StringType())\n",
    "])"
   ]
  },
  {
   "cell_type": "code",
   "execution_count": 62,
   "id": "b22335f2",
   "metadata": {},
   "outputs": [],
   "source": [
    "earnings_df = spark.createDataFrame(earnings, earning_schema)"
   ]
  },
  {
   "cell_type": "code",
   "execution_count": 63,
   "id": "a9a872c5",
   "metadata": {},
   "outputs": [
    {
     "name": "stdout",
     "output_type": "stream",
     "text": [
      "root\n",
      " |-- name: string (nullable = true)\n",
      " |-- eps: float (nullable = true)\n",
      " |-- currency: string (nullable = true)\n",
      "\n"
     ]
    }
   ],
   "source": [
    "earnings_df.printSchema()"
   ]
  },
  {
   "cell_type": "code",
   "execution_count": 64,
   "id": "27b1322e",
   "metadata": {},
   "outputs": [
    {
     "data": {
      "text/plain": [
       "[('name', 'string'), ('eps', 'float'), ('currency', 'string')]"
      ]
     },
     "execution_count": 64,
     "metadata": {},
     "output_type": "execute_result"
    }
   ],
   "source": [
    "earnings_df.dtypes"
   ]
  },
  {
   "cell_type": "code",
   "execution_count": 65,
   "id": "5cb2be73",
   "metadata": {},
   "outputs": [
    {
     "name": "stdout",
     "output_type": "stream",
     "text": [
      "+-------+------+--------+\n",
      "|   name|   eps|currency|\n",
      "+-------+------+--------+\n",
      "| Google| 27.99|     USD|\n",
      "|Netflix|  2.56|     USD|\n",
      "| Amazon|  6.12|     USD|\n",
      "|  Tesla|  1.86|     USD|\n",
      "|Tencent| 11.01|     HKD|\n",
      "| Toyota|224.82|     JPY|\n",
      "|Samsung|1780.0|     KRW|\n",
      "|  Kakao| 705.0|     KRW|\n",
      "+-------+------+--------+\n",
      "\n"
     ]
    }
   ],
   "source": [
    "earnings_df.show()"
   ]
  },
  {
   "cell_type": "code",
   "execution_count": 66,
   "id": "9f16a8fe",
   "metadata": {},
   "outputs": [],
   "source": [
    "earnings_df.createOrReplaceTempView(\"earnings\")"
   ]
  },
  {
   "cell_type": "code",
   "execution_count": 67,
   "id": "d3d61c3c",
   "metadata": {},
   "outputs": [
    {
     "name": "stdout",
     "output_type": "stream",
     "text": [
      "+-------+------+--------+\n",
      "|   name|   eps|currency|\n",
      "+-------+------+--------+\n",
      "| Google| 27.99|     USD|\n",
      "|Netflix|  2.56|     USD|\n",
      "| Amazon|  6.12|     USD|\n",
      "|  Tesla|  1.86|     USD|\n",
      "|Tencent| 11.01|     HKD|\n",
      "| Toyota|224.82|     JPY|\n",
      "|Samsung|1780.0|     KRW|\n",
      "|  Kakao| 705.0|     KRW|\n",
      "+-------+------+--------+\n",
      "\n"
     ]
    }
   ],
   "source": [
    "spark.sql(\"select * from earnings\").show()"
   ]
  },
  {
   "cell_type": "code",
   "execution_count": 80,
   "id": "c2c9c539",
   "metadata": {},
   "outputs": [],
   "source": [
    "# 두 테이블 조인하기\n",
    "query = \"\"\"\n",
    "SELECT\n",
    "    s.name,\n",
    "    ticker,\n",
    "    country,\n",
    "    price,\n",
    "    eps,\n",
    "    s.currency\n",
    "    \n",
    "FROM\n",
    "    stocks s\n",
    "JOIN\n",
    "    earnings e\n",
    "ON\n",
    "    s.name = e.name\n",
    "\"\"\""
   ]
  },
  {
   "cell_type": "code",
   "execution_count": 81,
   "id": "80495033",
   "metadata": {},
   "outputs": [
    {
     "name": "stdout",
     "output_type": "stream",
     "text": [
      "+-------+------+---------+------+------+--------+\n",
      "|   name|ticker|  country| price|   eps|currency|\n",
      "+-------+------+---------+------+------+--------+\n",
      "| Amazon|  AMZN|      USA|  3518|  6.12|     USD|\n",
      "| Google| GOOGL|      USA|  2984| 27.99|     USD|\n",
      "|  Kakao|035720|    Korea|125000| 705.0|     KRW|\n",
      "|Netflix|  NFLX|      USA|   645|  2.56|     USD|\n",
      "|Samsung|005930|    Korea| 70600|1780.0|     KRW|\n",
      "|Tencent|  0700|Hong Kong|   483| 11.01|     HKD|\n",
      "|  Tesla|  TSLA|      USA|  1222|  1.86|     USD|\n",
      "| Toyota|  7203|    Japan|  2006|224.82|     JPY|\n",
      "+-------+------+---------+------+------+--------+\n",
      "\n"
     ]
    }
   ],
   "source": [
    "comb = spark.sql(query)\n",
    "comb.show()"
   ]
  },
  {
   "cell_type": "code",
   "execution_count": 82,
   "id": "1e4275ac",
   "metadata": {},
   "outputs": [],
   "source": [
    "query = \"\"\"\n",
    "SELECT\n",
    "    s.name,\n",
    "    (s.price / e.eps)\n",
    "FROM\n",
    "    stocks s\n",
    "JOIN\n",
    "    earnings e\n",
    "ON\n",
    "    s.name = e.name\n",
    "\"\"\""
   ]
  },
  {
   "cell_type": "code",
   "execution_count": 83,
   "id": "b32156ef",
   "metadata": {},
   "outputs": [
    {
     "name": "stdout",
     "output_type": "stream",
     "text": [
      "+-------+------------------+\n",
      "|   name|     (price / eps)|\n",
      "+-------+------------------+\n",
      "| Amazon| 574.8366120563447|\n",
      "| Google| 106.6095042658442|\n",
      "|  Kakao| 177.3049645390071|\n",
      "|Netflix| 251.9531306315913|\n",
      "|Samsung|39.662921348314605|\n",
      "|Tencent| 43.86920889728746|\n",
      "|  Tesla|  656.989242258975|\n",
      "| Toyota| 8.922693419839167|\n",
      "+-------+------------------+\n",
      "\n"
     ]
    }
   ],
   "source": [
    "spark.sql(query).show()"
   ]
  },
  {
   "cell_type": "code",
   "execution_count": 84,
   "id": "92da97c4",
   "metadata": {},
   "outputs": [],
   "source": [
    "comb.createOrReplaceTempView(\"comb\")"
   ]
  },
  {
   "cell_type": "code",
   "execution_count": 88,
   "id": "ad02d3e2",
   "metadata": {},
   "outputs": [
    {
     "name": "stdout",
     "output_type": "stream",
     "text": [
      "+------+------+-------+-----+-----+--------+\n",
      "|  name|ticker|country|price|  eps|currency|\n",
      "+------+------+-------+-----+-----+--------+\n",
      "| Tesla|  TSLA|    USA| 1222| 1.86|     USD|\n",
      "|Google| GOOGL|    USA| 2984|27.99|     USD|\n",
      "|Amazon|  AMZN|    USA| 3518| 6.12|     USD|\n",
      "+------+------+-------+-----+-----+--------+\n",
      "\n"
     ]
    }
   ],
   "source": [
    "# 테슬라 가격보다 비싼 미국 주식 가지고 오기\n",
    "\n",
    "query = \"\"\"\n",
    "SELECT\n",
    "    *\n",
    "FROM\n",
    "    comb\n",
    "WHERE\n",
    "    country = \"USA\" and\n",
    "    price >= (SELECT price FROM comb WHERE name = \"Tesla\")\n",
    "ORDER BY\n",
    "    price\n",
    "    \n",
    "\"\"\"\n",
    "\n",
    "spark.sql(query).show()"
   ]
  },
  {
   "cell_type": "code",
   "execution_count": null,
   "id": "b89ef792",
   "metadata": {},
   "outputs": [],
   "source": []
  }
 ],
 "metadata": {
  "kernelspec": {
   "display_name": "Python 3",
   "language": "python",
   "name": "python3"
  },
  "language_info": {
   "codemirror_mode": {
    "name": "ipython",
    "version": 3
   },
   "file_extension": ".py",
   "mimetype": "text/x-python",
   "name": "python",
   "nbconvert_exporter": "python",
   "pygments_lexer": "ipython3",
   "version": "3.8.8"
  }
 },
 "nbformat": 4,
 "nbformat_minor": 5
}
