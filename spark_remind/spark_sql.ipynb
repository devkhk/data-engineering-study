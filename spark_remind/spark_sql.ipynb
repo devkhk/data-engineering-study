{
 "cells": [
  {
   "cell_type": "code",
   "execution_count": 1,
   "id": "27bfb333",
   "metadata": {},
   "outputs": [],
   "source": [
    "from pyspark import SparkConf, SparkContext"
   ]
  },
  {
   "cell_type": "code",
   "execution_count": 2,
   "id": "91fa8261",
   "metadata": {},
   "outputs": [],
   "source": [
    "conf = SparkConf().setMaster(\"local\").setAppName(\"spark_sql\")"
   ]
  },
  {
   "cell_type": "code",
   "execution_count": 3,
   "id": "7683b095",
   "metadata": {},
   "outputs": [],
   "source": [
    "# 스파크 context 생성\n",
    "spark = SparkContext(conf=conf)"
   ]
  },
  {
   "cell_type": "code",
   "execution_count": 6,
   "id": "4ec37428",
   "metadata": {},
   "outputs": [
    {
     "data": {
      "text/plain": [
       "[('spark.master', 'local'),\n",
       " ('spark.driver.host', '172.30.1.27'),\n",
       " ('spark.app.startTime', '1655371188459'),\n",
       " ('spark.rdd.compress', 'True'),\n",
       " ('spark.app.name', 'spark_sql'),\n",
       " ('spark.app.id', 'local-1655371189740'),\n",
       " ('spark.serializer.objectStreamReset', '100'),\n",
       " ('spark.submit.pyFiles', ''),\n",
       " ('spark.executor.id', 'driver'),\n",
       " ('spark.submit.deployMode', 'client'),\n",
       " ('spark.ui.showConsoleProgress', 'true'),\n",
       " ('spark.driver.port', '60471')]"
      ]
     },
     "execution_count": 6,
     "metadata": {},
     "output_type": "execute_result"
    }
   ],
   "source": [
    "spark.getConf().getAll()"
   ]
  },
  {
   "cell_type": "code",
   "execution_count": 8,
   "id": "a3500c42",
   "metadata": {},
   "outputs": [],
   "source": [
    "ticker = spark.parallelize([\n",
    "    (1, (\"Google\", \"GOOGL\", \"USA\")),\n",
    "    (2, (\"Netflix\", \"NFLX\", \"USA\")),\n",
    "    (3, (\"Amazon\", \"AMZN\", \"USA\")),\n",
    "    (4, (\"Tesla\", \"TSLA\", \"USA\")),\n",
    "    (5, (\"Samsung\", \"005930\", \"Korea\")),\n",
    "    (6, (\"Kakao\", \"035720\", \"Korea\")),\n",
    "])"
   ]
  },
  {
   "cell_type": "code",
   "execution_count": 9,
   "id": "af1cb9b5",
   "metadata": {},
   "outputs": [],
   "source": [
    "prices = spark.parallelize([\n",
    "    (1, (2984, \"USA\")),\n",
    "    (2, (645, \"USA\")),\n",
    "    (3, (3518, \"USA\")),\n",
    "    (4, (1222, \"USA\")),\n",
    "    (5, (70600, \"USA\")),\n",
    "    (6, (125000, \"USA\")),\n",
    "])"
   ]
  },
  {
   "cell_type": "code",
   "execution_count": 10,
   "id": "ac3b6d06",
   "metadata": {},
   "outputs": [
    {
     "data": {
      "text/plain": [
       "(ParallelCollectionRDD[0] at readRDDFromFile at PythonRDD.scala:274,\n",
       " ParallelCollectionRDD[1] at readRDDFromFile at PythonRDD.scala:274)"
      ]
     },
     "execution_count": 10,
     "metadata": {},
     "output_type": "execute_result"
    }
   ],
   "source": [
    "ticker, prices"
   ]
  },
  {
   "cell_type": "code",
   "execution_count": 15,
   "id": "3d35a84d",
   "metadata": {},
   "outputs": [
    {
     "name": "stderr",
     "output_type": "stream",
     "text": [
      "/Users/devkhk/opt/anaconda3/lib/python3.8/site-packages/pyspark/sql/context.py:77: FutureWarning: Deprecated in 3.0.0. Use SparkSession.builder.getOrCreate() instead.\n",
      "  warnings.warn(\n"
     ]
    }
   ],
   "source": [
    "sql_sc = SQLContext(spark)"
   ]
  },
  {
   "cell_type": "code",
   "execution_count": 11,
   "id": "df522268",
   "metadata": {},
   "outputs": [],
   "source": [
    "## 2000 달러 이상 미국 주식 가지고 오기\n",
    "\n",
    "# case1 : join 후 filter\n",
    "\n",
    "ticker_price = ticker.join(prices)"
   ]
  },
  {
   "cell_type": "code",
   "execution_count": 24,
   "id": "2417f46f",
   "metadata": {},
   "outputs": [
    {
     "data": {
      "text/plain": [
       "[(1, (('Google', 'GOOGL', 'USA'), (2984, 'USA'))),\n",
       " (3, (('Amazon', 'AMZN', 'USA'), (3518, 'USA')))]"
      ]
     },
     "execution_count": 24,
     "metadata": {},
     "output_type": "execute_result"
    }
   ],
   "source": [
    "ticker_price.filter(lambda item : item[1][0][2] == \"USA\" and item[1][1][0] >= 2000).collect()"
   ]
  },
  {
   "cell_type": "code",
   "execution_count": 35,
   "id": "5e1720c1",
   "metadata": {},
   "outputs": [
    {
     "data": {
      "text/plain": [
       "[(1, (('Google', 'GOOGL', 'USA'), (2984, 'USA'))),\n",
       " (3, (('Amazon', 'AMZN', 'USA'), (3518, 'USA')))]"
      ]
     },
     "execution_count": 35,
     "metadata": {},
     "output_type": "execute_result"
    }
   ],
   "source": [
    "# case 2 filter 후 join\n",
    "\n",
    "ticker_filter = ticker.filter(lambda x: x[1][2] == \"USA\")\n",
    "price_filter = prices.filter(lambda x: x[1][0] >= 2000)\n",
    "\n",
    "ticker_filter.join(price_filter).collect()"
   ]
  },
  {
   "cell_type": "markdown",
   "id": "db370ff2",
   "metadata": {},
   "source": [
    "## Spark SQL 을 사용하는 이유\n",
    "\n",
    "- 데이터가 정형화 되어 있는 경우 스파크 sql을 이용하면 위처럼 개발자의 코드에 따라 성능이 들쑥 날쑥하다.\n",
    "- 스파크 sql은 정형화 되어 있는 데이터를 가장 빠르게 처리 할 수 있게끔 최적화 되어있다.\n",
    "\n",
    "## 스파크 sql 사용 목적\n",
    "- 스파크 프로그래밍 내부에서 관계형 데이터 처리를 위해\n",
    "- 스키마의 정보를 이용해 자동으로 최적화 하기 위해\n",
    "- 외부 데이터셋을 사용하기 쉽게 하기 위해\n"
   ]
  },
  {
   "cell_type": "code",
   "execution_count": null,
   "id": "7bea5667",
   "metadata": {},
   "outputs": [],
   "source": []
  }
 ],
 "metadata": {
  "kernelspec": {
   "display_name": "Python 3",
   "language": "python",
   "name": "python3"
  },
  "language_info": {
   "codemirror_mode": {
    "name": "ipython",
    "version": 3
   },
   "file_extension": ".py",
   "mimetype": "text/x-python",
   "name": "python",
   "nbconvert_exporter": "python",
   "pygments_lexer": "ipython3",
   "version": "3.8.8"
  }
 },
 "nbformat": 4,
 "nbformat_minor": 5
}
