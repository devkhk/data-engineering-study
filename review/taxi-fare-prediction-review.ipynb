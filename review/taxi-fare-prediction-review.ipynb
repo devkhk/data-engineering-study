{
 "cells": [
  {
   "cell_type": "code",
   "execution_count": 1,
   "id": "e84fcce6",
   "metadata": {},
   "outputs": [],
   "source": [
    "from pyspark.sql import SparkSession"
   ]
  },
  {
   "cell_type": "code",
   "execution_count": 2,
   "id": "b80ac1bf",
   "metadata": {},
   "outputs": [
    {
     "name": "stderr",
     "output_type": "stream",
     "text": [
      "22/04/13 15:27:57 WARN Utils: Your hostname, devkhk-MacBook-Air.local resolves to a loopback address: 127.0.0.1; using 172.30.1.27 instead (on interface en0)\n",
      "22/04/13 15:27:57 WARN Utils: Set SPARK_LOCAL_IP if you need to bind to another address\n",
      "Using Spark's default log4j profile: org/apache/spark/log4j-defaults.properties\n",
      "Setting default log level to \"WARN\".\n",
      "To adjust logging level use sc.setLogLevel(newLevel). For SparkR, use setLogLevel(newLevel).\n",
      "22/04/13 15:27:57 WARN NativeCodeLoader: Unable to load native-hadoop library for your platform... using builtin-java classes where applicable\n"
     ]
    }
   ],
   "source": [
    "MAX_MEMORY = \"5g\"\n",
    "spark = SparkSession.builder.appName('taxi-fare-prediction-review')\\\n",
    "                            .config(\"spark.executor.memory\", MAX_MEMORY)\\\n",
    "                            .config(\"spark.driver.memory\",MAX_MEMORY)\\\n",
    "                            .getOrCreate()"
   ]
  },
  {
   "cell_type": "code",
   "execution_count": 3,
   "id": "483f4ae3",
   "metadata": {},
   "outputs": [
    {
     "data": {
      "text/plain": [
       "[('spark.app.name', 'taxi-fare-prediction-review'),\n",
       " ('spark.app.id', 'local-1649831278848'),\n",
       " ('spark.executor.id', 'driver'),\n",
       " ('spark.driver.port', '49283'),\n",
       " ('spark.executor.memory', '5g'),\n",
       " ('spark.driver.memory', '5g'),\n",
       " ('spark.sql.warehouse.dir',\n",
       "  'file:/Users/devkhk/Documents/data-engineering-study/review/spark-warehouse'),\n",
       " ('spark.driver.host', '172.30.1.27'),\n",
       " ('spark.rdd.compress', 'True'),\n",
       " ('spark.serializer.objectStreamReset', '100'),\n",
       " ('spark.master', 'local[*]'),\n",
       " ('spark.submit.pyFiles', ''),\n",
       " ('spark.submit.deployMode', 'client'),\n",
       " ('spark.ui.showConsoleProgress', 'true'),\n",
       " ('spark.app.startTime', '1649831277582')]"
      ]
     },
     "execution_count": 3,
     "metadata": {},
     "output_type": "execute_result"
    }
   ],
   "source": [
    "spark.sparkContext.getConf().getAll()"
   ]
  },
  {
   "cell_type": "code",
   "execution_count": 4,
   "id": "51f9b8ae",
   "metadata": {},
   "outputs": [
    {
     "name": "stderr",
     "output_type": "stream",
     "text": [
      "                                                                                \r"
     ]
    }
   ],
   "source": [
    "trips_dir = \"/Users/devkhk/Documents/data-engineering-study/data/trips/*\"\n",
    "taxi_fare_df = spark.read.csv(path=trips_dir, header=True, inferSchema=True)"
   ]
  },
  {
   "cell_type": "code",
   "execution_count": 27,
   "id": "c23e28e3",
   "metadata": {},
   "outputs": [
    {
     "name": "stdout",
     "output_type": "stream",
     "text": [
      "root\n",
      " |-- VendorID: integer (nullable = true)\n",
      " |-- tpep_pickup_datetime: string (nullable = true)\n",
      " |-- tpep_dropoff_datetime: string (nullable = true)\n",
      " |-- passenger_count: integer (nullable = true)\n",
      " |-- trip_distance: double (nullable = true)\n",
      " |-- RatecodeID: integer (nullable = true)\n",
      " |-- store_and_fwd_flag: string (nullable = true)\n",
      " |-- PULocationID: integer (nullable = true)\n",
      " |-- DOLocationID: integer (nullable = true)\n",
      " |-- payment_type: integer (nullable = true)\n",
      " |-- fare_amount: double (nullable = true)\n",
      " |-- extra: double (nullable = true)\n",
      " |-- mta_tax: double (nullable = true)\n",
      " |-- tip_amount: double (nullable = true)\n",
      " |-- tolls_amount: double (nullable = true)\n",
      " |-- improvement_surcharge: double (nullable = true)\n",
      " |-- total_amount: double (nullable = true)\n",
      " |-- congestion_surcharge: double (nullable = true)\n",
      "\n"
     ]
    }
   ],
   "source": [
    "taxi_fare_df.printSchema()\n",
    "taxi_fare_df.createOrReplaceTempView('taxi_fare')"
   ]
  },
  {
   "cell_type": "code",
   "execution_count": 30,
   "id": "4316fd50",
   "metadata": {},
   "outputs": [],
   "source": [
    "query = \"\"\"\n",
    "SELECT\n",
    "    tpep_pickup_datetime as pickup_date,\n",
    "    DATE_TRUNC('MM',tpep_pickup_datetime) AS month,\n",
    "    passenger_count,\n",
    "    trip_distance,\n",
    "    total_amount\n",
    "FROM\n",
    "    taxi_fare\n",
    "\"\"\""
   ]
  },
  {
   "cell_type": "code",
   "execution_count": 31,
   "id": "5ad25924",
   "metadata": {},
   "outputs": [],
   "source": [
    "data_df = spark.sql(query)\n",
    "data_df.createOrReplaceTempView('data')"
   ]
  },
  {
   "cell_type": "code",
   "execution_count": 32,
   "id": "c9cac449",
   "metadata": {},
   "outputs": [],
   "source": [
    "query = \"\"\"\n",
    "SELECT\n",
    "    month,\n",
    "    COUNT(*) as trips\n",
    "FROM\n",
    "    data\n",
    "GROUP BY\n",
    "    month\n",
    "ORDER BY\n",
    "    month\n",
    "\"\"\""
   ]
  },
  {
   "cell_type": "code",
   "execution_count": 33,
   "id": "a74ae221",
   "metadata": {},
   "outputs": [
    {
     "name": "stderr",
     "output_type": "stream",
     "text": [
      "[Stage 11:==================================================>     (10 + 1) / 11]\r"
     ]
    },
    {
     "name": "stdout",
     "output_type": "stream",
     "text": [
      "+-------------------+-------+\n",
      "|              month|  trips|\n",
      "+-------------------+-------+\n",
      "|2002-12-01 00:00:00|      1|\n",
      "|2003-01-01 00:00:00|      1|\n",
      "|2004-04-01 00:00:00|      1|\n",
      "|2008-12-01 00:00:00|     26|\n",
      "|2009-01-01 00:00:00|    111|\n",
      "|2020-12-01 00:00:00|     16|\n",
      "|2021-01-01 00:00:00|1369749|\n",
      "|2021-02-01 00:00:00|1371688|\n",
      "|2021-03-01 00:00:00|1925130|\n",
      "|2021-04-01 00:00:00|2171215|\n",
      "|2021-05-01 00:00:00|2507075|\n",
      "|2021-06-01 00:00:00|2834204|\n",
      "|2021-07-01 00:00:00|2821430|\n",
      "|2021-08-01 00:00:00|     36|\n",
      "|2021-09-01 00:00:00|      3|\n",
      "|2021-10-01 00:00:00|      3|\n",
      "|2021-11-01 00:00:00|      5|\n",
      "|2021-12-01 00:00:00|      5|\n",
      "|2029-05-01 00:00:00|      1|\n",
      "+-------------------+-------+\n",
      "\n"
     ]
    },
    {
     "name": "stderr",
     "output_type": "stream",
     "text": [
      "\r",
      "                                                                                \r"
     ]
    }
   ],
   "source": [
    "spark.sql(query).show()"
   ]
  },
  {
   "cell_type": "code",
   "execution_count": 34,
   "id": "8961ef9d",
   "metadata": {},
   "outputs": [
    {
     "name": "stdout",
     "output_type": "stream",
     "text": [
      "root\n",
      " |-- pickup_date: string (nullable = true)\n",
      " |-- month: timestamp (nullable = true)\n",
      " |-- passenger_count: integer (nullable = true)\n",
      " |-- trip_distance: double (nullable = true)\n",
      " |-- total_amount: double (nullable = true)\n",
      "\n"
     ]
    }
   ],
   "source": [
    "data_df.printSchema()"
   ]
  },
  {
   "cell_type": "code",
   "execution_count": 35,
   "id": "242734e5",
   "metadata": {},
   "outputs": [
    {
     "name": "stderr",
     "output_type": "stream",
     "text": [
      "[Stage 14:==================================================>     (10 + 1) / 11]\r"
     ]
    },
    {
     "name": "stdout",
     "output_type": "stream",
     "text": [
      "+-------+-------------------+------------------+-----------------+-----------------+\n",
      "|summary|        pickup_date|   passenger_count|    trip_distance|     total_amount|\n",
      "+-------+-------------------+------------------+-----------------+-----------------+\n",
      "|  count|           15000700|          14166672|         15000700|         15000700|\n",
      "|   mean|               null|1.4253783104458126|6.628629402627818|18.75545205708744|\n",
      "| stddev|               null|  1.04432704905968|671.7293482115828|145.7442452805979|\n",
      "|    min|2002-12-31 23:07:20|                 0|              0.0|           -647.8|\n",
      "|    max|2029-05-05 08:37:39|                 9|        332541.19|         398469.2|\n",
      "+-------+-------------------+------------------+-----------------+-----------------+\n",
      "\n"
     ]
    },
    {
     "name": "stderr",
     "output_type": "stream",
     "text": [
      "\r",
      "                                                                                \r"
     ]
    }
   ],
   "source": [
    "data_df.describe().show()"
   ]
  },
  {
   "cell_type": "code",
   "execution_count": 40,
   "id": "15be39e6",
   "metadata": {},
   "outputs": [],
   "source": [
    "query = \"\"\"\n",
    "SELECT\n",
    "    trip_distance,\n",
    "    total_amount\n",
    "FROM\n",
    "    data\n",
    "WHERE\n",
    "    pickup_date >= '2021-01-01'\n",
    "    AND \n",
    "    pickup_date < '2021-08-01'\n",
    "    AND\n",
    "    passenger_count < 5\n",
    "    AND\n",
    "    passenger_count > 0\n",
    "    AND\n",
    "    trip_distance < 500\n",
    "    AND\n",
    "    trip_distance > 0\n",
    "    AND\n",
    "    total_amount > 0\n",
    "    AND\n",
    "    total_amount < 3000\n",
    "\n",
    "\"\"\""
   ]
  },
  {
   "cell_type": "code",
   "execution_count": 41,
   "id": "3cfc3778",
   "metadata": {},
   "outputs": [],
   "source": [
    "comb_df = spark.sql(query)\n",
    "comb_df.createOrReplaceTempView('comb')"
   ]
  },
  {
   "cell_type": "code",
   "execution_count": 42,
   "id": "064e9449",
   "metadata": {},
   "outputs": [
    {
     "name": "stderr",
     "output_type": "stream",
     "text": [
      "[Stage 21:==================================================>     (10 + 1) / 11]\r"
     ]
    },
    {
     "name": "stdout",
     "output_type": "stream",
     "text": [
      "+-------+------------------+------------------+\n",
      "|summary|     trip_distance|      total_amount|\n",
      "+-------+------------------+------------------+\n",
      "|  count|          13019756|          13019756|\n",
      "|   mean|2.8926618732332208| 18.00666366960982|\n",
      "| stddev| 3.841778343922863|12.959646686649386|\n",
      "|    min|              0.01|              0.01|\n",
      "|    max|             474.1|            2292.4|\n",
      "+-------+------------------+------------------+\n",
      "\n"
     ]
    },
    {
     "name": "stderr",
     "output_type": "stream",
     "text": [
      "\r",
      "                                                                                \r"
     ]
    }
   ],
   "source": [
    "comb_df.describe().show()"
   ]
  },
  {
   "cell_type": "code",
   "execution_count": 43,
   "id": "a866e68a",
   "metadata": {},
   "outputs": [
    {
     "name": "stdout",
     "output_type": "stream",
     "text": [
      "+-------------+------------+\n",
      "|trip_distance|total_amount|\n",
      "+-------------+------------+\n",
      "|         1.13|       11.16|\n",
      "|         2.68|       18.59|\n",
      "|         12.4|        43.8|\n",
      "|          9.7|        32.3|\n",
      "|          9.3|       43.67|\n",
      "|         9.58|        46.1|\n",
      "|         16.2|        45.3|\n",
      "|         3.58|        19.3|\n",
      "|         0.91|        14.8|\n",
      "|         2.57|        12.8|\n",
      "|          0.4|         5.3|\n",
      "|         3.26|        17.3|\n",
      "|        13.41|       47.25|\n",
      "|         18.3|       61.42|\n",
      "|         1.53|       14.16|\n",
      "|          2.0|        11.8|\n",
      "|         16.6|       54.96|\n",
      "|         15.5|       56.25|\n",
      "|          1.3|        16.8|\n",
      "|         4.19|        17.8|\n",
      "+-------------+------------+\n",
      "only showing top 20 rows\n",
      "\n"
     ]
    }
   ],
   "source": [
    "comb_df.show()"
   ]
  },
  {
   "cell_type": "code",
   "execution_count": 44,
   "id": "d4fb5b6f",
   "metadata": {},
   "outputs": [],
   "source": [
    "from pyspark.ml.feature import VectorAssembler"
   ]
  },
  {
   "cell_type": "code",
   "execution_count": 49,
   "id": "0644d64c",
   "metadata": {},
   "outputs": [],
   "source": [
    "vtrips = VectorAssembler(inputCols=['trip_distance'], outputCol='features', handleInvalid=\"skip\")"
   ]
  },
  {
   "cell_type": "code",
   "execution_count": 52,
   "id": "47a558eb",
   "metadata": {},
   "outputs": [],
   "source": [
    "fare_df = vtrips.transform(comb_df)"
   ]
  },
  {
   "cell_type": "code",
   "execution_count": 87,
   "id": "479f5e26",
   "metadata": {},
   "outputs": [
    {
     "data": {
      "text/plain": [
       "DataFrame[trip_distance: double, total_amount: double, features: vector]"
      ]
     },
     "execution_count": 87,
     "metadata": {},
     "output_type": "execute_result"
    }
   ],
   "source": [
    "fare_df"
   ]
  },
  {
   "cell_type": "code",
   "execution_count": 53,
   "id": "4aec0e79",
   "metadata": {},
   "outputs": [],
   "source": [
    "from pyspark.ml.regression import LinearRegression"
   ]
  },
  {
   "cell_type": "code",
   "execution_count": 54,
   "id": "ab93348d",
   "metadata": {},
   "outputs": [],
   "source": [
    "lr = LinearRegression(\n",
    "            maxIter= 30,\n",
    "            regParam=0.01,\n",
    "            labelCol=\"total_amount\"\n",
    ")"
   ]
  },
  {
   "cell_type": "code",
   "execution_count": 56,
   "id": "6b05aa09",
   "metadata": {},
   "outputs": [],
   "source": [
    "# 데이터 나누기\n",
    "train_df, test_df = fare_df.randomSplit([0.8, 0.2], seed=1)"
   ]
  },
  {
   "cell_type": "code",
   "execution_count": 57,
   "id": "b49e4298",
   "metadata": {},
   "outputs": [
    {
     "name": "stderr",
     "output_type": "stream",
     "text": [
      "                                                                                \r"
     ]
    }
   ],
   "source": [
    "model = lr.fit(train_df)"
   ]
  },
  {
   "cell_type": "code",
   "execution_count": 58,
   "id": "ade19dfe",
   "metadata": {},
   "outputs": [],
   "source": [
    "prediction = model.transform(test_df)"
   ]
  },
  {
   "cell_type": "code",
   "execution_count": 59,
   "id": "6becbc77",
   "metadata": {},
   "outputs": [
    {
     "name": "stderr",
     "output_type": "stream",
     "text": [
      "\r",
      "[Stage 36:>                                                         (0 + 1) / 1]\r"
     ]
    },
    {
     "name": "stdout",
     "output_type": "stream",
     "text": [
      "+-------------+------------+--------+-----------------+\n",
      "|trip_distance|total_amount|features|       prediction|\n",
      "+-------------+------------+--------+-----------------+\n",
      "|         0.01|         3.3|  [0.01]|9.419388982186078|\n",
      "|         0.01|         3.3|  [0.01]|9.419388982186078|\n",
      "|         0.01|         3.3|  [0.01]|9.419388982186078|\n",
      "|         0.01|         3.3|  [0.01]|9.419388982186078|\n",
      "|         0.01|         3.3|  [0.01]|9.419388982186078|\n",
      "|         0.01|         3.3|  [0.01]|9.419388982186078|\n",
      "|         0.01|         3.3|  [0.01]|9.419388982186078|\n",
      "|         0.01|         3.3|  [0.01]|9.419388982186078|\n",
      "|         0.01|         3.3|  [0.01]|9.419388982186078|\n",
      "|         0.01|         3.3|  [0.01]|9.419388982186078|\n",
      "|         0.01|         3.3|  [0.01]|9.419388982186078|\n",
      "|         0.01|         3.3|  [0.01]|9.419388982186078|\n",
      "|         0.01|         3.3|  [0.01]|9.419388982186078|\n",
      "|         0.01|         3.3|  [0.01]|9.419388982186078|\n",
      "|         0.01|         3.3|  [0.01]|9.419388982186078|\n",
      "|         0.01|         3.3|  [0.01]|9.419388982186078|\n",
      "|         0.01|         3.8|  [0.01]|9.419388982186078|\n",
      "|         0.01|         3.8|  [0.01]|9.419388982186078|\n",
      "|         0.01|         3.8|  [0.01]|9.419388982186078|\n",
      "|         0.01|         3.8|  [0.01]|9.419388982186078|\n",
      "+-------------+------------+--------+-----------------+\n",
      "only showing top 20 rows\n",
      "\n"
     ]
    },
    {
     "name": "stderr",
     "output_type": "stream",
     "text": [
      "\r",
      "                                                                                \r"
     ]
    }
   ],
   "source": [
    "prediction.show()"
   ]
  },
  {
   "cell_type": "code",
   "execution_count": 77,
   "id": "7b1e5f74",
   "metadata": {},
   "outputs": [
    {
     "data": {
      "text/plain": [
       "6.1065335697141"
      ]
     },
     "execution_count": 77,
     "metadata": {},
     "output_type": "execute_result"
    }
   ],
   "source": [
    "model.summary.rootMeanSquaredError"
   ]
  },
  {
   "cell_type": "code",
   "execution_count": 78,
   "id": "0f6f29c6",
   "metadata": {},
   "outputs": [
    {
     "data": {
      "text/plain": [
       "0.778036339867748"
      ]
     },
     "execution_count": 78,
     "metadata": {},
     "output_type": "execute_result"
    }
   ],
   "source": [
    "model.summary.r2"
   ]
  },
  {
   "cell_type": "code",
   "execution_count": 83,
   "id": "4db280c6",
   "metadata": {},
   "outputs": [],
   "source": [
    "from pyspark.sql.types import DoubleType\n",
    "test_list = [31.0, 59.6, 15.0, 1.9]\n",
    "test_data_df = spark.createDataFrame(test_list, DoubleType()).toDF('trip_distance')"
   ]
  },
  {
   "cell_type": "code",
   "execution_count": 84,
   "id": "099454ce",
   "metadata": {},
   "outputs": [
    {
     "name": "stdout",
     "output_type": "stream",
     "text": [
      "+-------------+\n",
      "|trip_distance|\n",
      "+-------------+\n",
      "|         31.0|\n",
      "|         59.6|\n",
      "|         15.0|\n",
      "|          1.9|\n",
      "+-------------+\n",
      "\n"
     ]
    }
   ],
   "source": [
    "test_data_df.show()"
   ]
  },
  {
   "cell_type": "code",
   "execution_count": 85,
   "id": "dd9d94c4",
   "metadata": {},
   "outputs": [],
   "source": [
    "test_data_df = vtrips.transform(test_data_df)"
   ]
  },
  {
   "cell_type": "code",
   "execution_count": 88,
   "id": "538b30e6",
   "metadata": {},
   "outputs": [
    {
     "name": "stdout",
     "output_type": "stream",
     "text": [
      "+-------------+--------+\n",
      "|trip_distance|features|\n",
      "+-------------+--------+\n",
      "|         31.0|  [31.0]|\n",
      "|         59.6|  [59.6]|\n",
      "|         15.0|  [15.0]|\n",
      "|          1.9|   [1.9]|\n",
      "+-------------+--------+\n",
      "\n"
     ]
    }
   ],
   "source": [
    "test_data_df.show()"
   ]
  },
  {
   "cell_type": "code",
   "execution_count": 89,
   "id": "87b944ff",
   "metadata": {},
   "outputs": [],
   "source": [
    "prediction_select_list = model.transform(test_data_df)"
   ]
  },
  {
   "cell_type": "code",
   "execution_count": 90,
   "id": "c90f8516",
   "metadata": {},
   "outputs": [
    {
     "name": "stdout",
     "output_type": "stream",
     "text": [
      "+-------------+--------+------------------+\n",
      "|trip_distance|features|        prediction|\n",
      "+-------------+--------+------------------+\n",
      "|         31.0|  [31.0]|  101.746154522537|\n",
      "|         59.6|  [59.6]|186.95252736713323|\n",
      "|         15.0|  [15.0]| 54.07825363045521|\n",
      "|          1.9|   [1.9]| 15.05015977506324|\n",
      "+-------------+--------+------------------+\n",
      "\n"
     ]
    }
   ],
   "source": [
    "prediction_select_list.show()"
   ]
  },
  {
   "cell_type": "code",
   "execution_count": 91,
   "id": "55fa9af6",
   "metadata": {},
   "outputs": [],
   "source": [
    "spark.stop()"
   ]
  },
  {
   "cell_type": "code",
   "execution_count": null,
   "id": "dcd7822b",
   "metadata": {},
   "outputs": [],
   "source": []
  }
 ],
 "metadata": {
  "kernelspec": {
   "display_name": "Python 3 (ipykernel)",
   "language": "python",
   "name": "python3"
  },
  "language_info": {
   "codemirror_mode": {
    "name": "ipython",
    "version": 3
   },
   "file_extension": ".py",
   "mimetype": "text/x-python",
   "name": "python",
   "nbconvert_exporter": "python",
   "pygments_lexer": "ipython3",
   "version": "3.9.7"
  }
 },
 "nbformat": 4,
 "nbformat_minor": 5
}
