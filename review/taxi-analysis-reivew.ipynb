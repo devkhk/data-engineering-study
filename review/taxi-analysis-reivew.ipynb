{
 "cells": [
  {
   "cell_type": "code",
   "execution_count": 1,
   "id": "0e3f7dc0",
   "metadata": {},
   "outputs": [],
   "source": [
    "from pyspark.sql import SparkSession"
   ]
  },
  {
   "cell_type": "code",
   "execution_count": 2,
   "id": "a79b5df5",
   "metadata": {},
   "outputs": [
    {
     "name": "stderr",
     "output_type": "stream",
     "text": [
      "22/04/06 10:26:14 WARN Utils: Your hostname, devkhk-MacBook-Air.local resolves to a loopback address: 127.0.0.1; using 172.30.1.27 instead (on interface en0)\n",
      "22/04/06 10:26:14 WARN Utils: Set SPARK_LOCAL_IP if you need to bind to another address\n",
      "Using Spark's default log4j profile: org/apache/spark/log4j-defaults.properties\n",
      "Setting default log level to \"WARN\".\n",
      "To adjust logging level use sc.setLogLevel(newLevel). For SparkR, use setLogLevel(newLevel).\n",
      "22/04/06 10:26:15 WARN NativeCodeLoader: Unable to load native-hadoop library for your platform... using builtin-java classes where applicable\n"
     ]
    }
   ],
   "source": [
    "spark = SparkSession.builder.appName(\"taxi-analysis\").getOrCreate()"
   ]
  },
  {
   "cell_type": "code",
   "execution_count": 3,
   "id": "71dff7d3",
   "metadata": {},
   "outputs": [],
   "source": [
    "trip_files = \"/Users/devkhk/Documents/data-engineering-study/data/trips/*\"\n",
    "zone_file = \"/Users/devkhk/Documents/data-engineering-study/data/taxi+_zone_lookup.csv\""
   ]
  },
  {
   "cell_type": "code",
   "execution_count": 4,
   "id": "de6f0428",
   "metadata": {},
   "outputs": [
    {
     "name": "stderr",
     "output_type": "stream",
     "text": [
      "                                                                                \r"
     ]
    }
   ],
   "source": [
    "trips_df = spark.read.csv(f\"file:///{trip_files}\", header=True, inferSchema=True)\n",
    "zone_df = spark.read.csv(f\"file:///{zone_file}\", header=True, inferSchema=True)"
   ]
  },
  {
   "cell_type": "code",
   "execution_count": 5,
   "id": "cbd6e4e9",
   "metadata": {},
   "outputs": [],
   "source": [
    "trips_df.createOrReplaceTempView(\"trips\")\n",
    "zone_df.createOrReplaceTempView(\"zone\")"
   ]
  },
  {
   "cell_type": "code",
   "execution_count": 6,
   "id": "d286e238",
   "metadata": {},
   "outputs": [
    {
     "name": "stdout",
     "output_type": "stream",
     "text": [
      "root\n",
      " |-- VendorID: integer (nullable = true)\n",
      " |-- tpep_pickup_datetime: string (nullable = true)\n",
      " |-- tpep_dropoff_datetime: string (nullable = true)\n",
      " |-- passenger_count: integer (nullable = true)\n",
      " |-- trip_distance: double (nullable = true)\n",
      " |-- RatecodeID: integer (nullable = true)\n",
      " |-- store_and_fwd_flag: string (nullable = true)\n",
      " |-- PULocationID: integer (nullable = true)\n",
      " |-- DOLocationID: integer (nullable = true)\n",
      " |-- payment_type: integer (nullable = true)\n",
      " |-- fare_amount: double (nullable = true)\n",
      " |-- extra: double (nullable = true)\n",
      " |-- mta_tax: double (nullable = true)\n",
      " |-- tip_amount: double (nullable = true)\n",
      " |-- tolls_amount: double (nullable = true)\n",
      " |-- improvement_surcharge: double (nullable = true)\n",
      " |-- total_amount: double (nullable = true)\n",
      " |-- congestion_surcharge: double (nullable = true)\n",
      "\n",
      "root\n",
      " |-- LocationID: integer (nullable = true)\n",
      " |-- Borough: string (nullable = true)\n",
      " |-- Zone: string (nullable = true)\n",
      " |-- service_zone: string (nullable = true)\n",
      "\n"
     ]
    }
   ],
   "source": [
    "trips_df.printSchema()\n",
    "zone_df.printSchema()"
   ]
  },
  {
   "cell_type": "code",
   "execution_count": 7,
   "id": "f8272305",
   "metadata": {},
   "outputs": [],
   "source": [
    "# 두 테이블을 join해서 지역번호를 zone 이름으로 대체하는 테이블을 만든다.\n",
    "\n",
    "query = \"\"\"\n",
    "SELECT \n",
    "    t.VendorID as vendor_id,\n",
    "    TO_DATE(t.tpep_pickup_datetime) as pickup_date,\n",
    "    TO_DATE(t.tpep_dropoff_datetime) as dropoff_date,\n",
    "    HOUR(t.tpep_pickup_datetime) as pickup_time,\n",
    "    HOUR(t.tpep_dropoff_datetime) as dropoff_time,\n",
    "    t.passenger_count,\n",
    "    t.trip_distance,\n",
    "    t.tip_amount,\n",
    "    t.tolls_amount,\n",
    "    t.total_amount,\n",
    "    pz.Zone as pickup_zone,\n",
    "    dz.Zone as dropoff_zone\n",
    "FROM\n",
    "    trips t\n",
    "    LEFT JOIN \n",
    "        zone pz\n",
    "    ON\n",
    "        t.PULocationID = pz.LocationID \n",
    "    LEFT JOIN\n",
    "        zone dz\n",
    "    ON\n",
    "        t.DOLocationID = dz.LocationID\n",
    "\"\"\"\n"
   ]
  },
  {
   "cell_type": "code",
   "execution_count": 8,
   "id": "e14fc5ed",
   "metadata": {},
   "outputs": [],
   "source": [
    "comb_df = spark.sql(query)\n",
    "comb_df.createOrReplaceTempView(\"comb\")"
   ]
  },
  {
   "cell_type": "code",
   "execution_count": 9,
   "id": "8170aa0c",
   "metadata": {},
   "outputs": [
    {
     "name": "stdout",
     "output_type": "stream",
     "text": [
      "root\n",
      " |-- vendor_id: integer (nullable = true)\n",
      " |-- pickup_date: date (nullable = true)\n",
      " |-- dropoff_date: date (nullable = true)\n",
      " |-- pickup_time: integer (nullable = true)\n",
      " |-- dropoff_time: integer (nullable = true)\n",
      " |-- passenger_count: integer (nullable = true)\n",
      " |-- trip_distance: double (nullable = true)\n",
      " |-- tip_amount: double (nullable = true)\n",
      " |-- tolls_amount: double (nullable = true)\n",
      " |-- total_amount: double (nullable = true)\n",
      " |-- pickup_zone: string (nullable = true)\n",
      " |-- dropoff_zone: string (nullable = true)\n",
      "\n"
     ]
    }
   ],
   "source": [
    "comb_df.printSchema()"
   ]
  },
  {
   "cell_type": "code",
   "execution_count": 10,
   "id": "6fe0683a",
   "metadata": {},
   "outputs": [
    {
     "name": "stdout",
     "output_type": "stream",
     "text": [
      "+-----------+--------------------+\n",
      "|pickup_date|         pickup_zone|\n",
      "+-----------+--------------------+\n",
      "| 2021-03-01|                  NV|\n",
      "| 2021-03-01|      Manhattanville|\n",
      "| 2021-03-01|      Manhattanville|\n",
      "| 2021-03-01|   LaGuardia Airport|\n",
      "| 2021-03-01|        East Chelsea|\n",
      "| 2021-03-01|Upper West Side S...|\n",
      "| 2021-03-01|Penn Station/Madi...|\n",
      "| 2021-03-01|         JFK Airport|\n",
      "| 2021-03-01|   LaGuardia Airport|\n",
      "| 2021-03-01|   LaGuardia Airport|\n",
      "| 2021-03-01|         JFK Airport|\n",
      "| 2021-03-01|     Lenox Hill East|\n",
      "| 2021-03-01|Upper West Side S...|\n",
      "| 2021-03-01|    Hamilton Heights|\n",
      "| 2021-03-01|   East Harlem North|\n",
      "| 2021-03-01|Upper West Side S...|\n",
      "| 2021-03-01|         JFK Airport|\n",
      "| 2021-03-01|Upper West Side S...|\n",
      "| 2021-03-01|         JFK Airport|\n",
      "| 2021-03-01|Sutton Place/Turt...|\n",
      "+-----------+--------------------+\n",
      "only showing top 20 rows\n",
      "\n"
     ]
    }
   ],
   "source": [
    "comb_df.select(\"pickup_date\", \"pickup_zone\").show()"
   ]
  },
  {
   "cell_type": "code",
   "execution_count": 11,
   "id": "b1deb385",
   "metadata": {},
   "outputs": [
    {
     "name": "stdout",
     "output_type": "stream",
     "text": [
      "+-----------+-----------+--------------------+------------+\n",
      "|pickup_date|pickup_time|         pickup_zone|total_amount|\n",
      "+-----------+-----------+--------------------+------------+\n",
      "| 2021-03-01|          0|                  NV|         4.3|\n",
      "| 2021-03-01|          0|      Manhattanville|         3.8|\n",
      "| 2021-03-01|          0|      Manhattanville|         4.8|\n",
      "| 2021-03-01|          0|   LaGuardia Airport|       70.07|\n",
      "| 2021-03-01|          0|        East Chelsea|       11.16|\n",
      "| 2021-03-01|          0|Upper West Side S...|       18.59|\n",
      "| 2021-03-01|          0|Penn Station/Madi...|        43.8|\n",
      "| 2021-03-01|          0|         JFK Airport|        32.3|\n",
      "| 2021-03-01|          0|   LaGuardia Airport|       43.67|\n",
      "| 2021-03-01|          0|   LaGuardia Airport|        46.1|\n",
      "| 2021-03-01|          0|         JFK Airport|        45.3|\n",
      "| 2021-03-01|          0|     Lenox Hill East|        19.3|\n",
      "| 2021-03-01|          0|Upper West Side S...|        14.8|\n",
      "| 2021-03-01|          0|    Hamilton Heights|        12.8|\n",
      "| 2021-03-01|          0|   East Harlem North|         5.3|\n",
      "| 2021-03-01|          0|Upper West Side S...|        17.3|\n",
      "| 2021-03-01|          0|         JFK Airport|       47.25|\n",
      "| 2021-03-01|          0|Upper West Side S...|        12.8|\n",
      "| 2021-03-01|          0|         JFK Airport|       61.42|\n",
      "| 2021-03-01|          0|Sutton Place/Turt...|       14.16|\n",
      "+-----------+-----------+--------------------+------------+\n",
      "only showing top 20 rows\n",
      "\n"
     ]
    }
   ],
   "source": [
    "spark.sql(\"select pickup_date, pickup_time, pickup_zone, total_amount from comb\").show()"
   ]
  },
  {
   "cell_type": "code",
   "execution_count": 12,
   "id": "64a79455",
   "metadata": {},
   "outputs": [
    {
     "name": "stdout",
     "output_type": "stream",
     "text": [
      "+-----------+-----------+--------------------+------------+\n",
      "|pickup_date|pickup_time|         pickup_zone|total_amount|\n",
      "+-----------+-----------+--------------------+------------+\n",
      "| 2021-02-28|         23|     Lenox Hill West|        9.36|\n",
      "| 2021-02-28|         23|        Clinton East|        11.8|\n",
      "| 2021-02-28|         23|Penn Station/Madi...|       17.16|\n",
      "| 2021-02-28|         23|      Yorkville West|       17.88|\n",
      "| 2021-02-28|         23|Penn Station/Madi...|        14.8|\n",
      "| 2021-02-28|         23|        Clinton East|        14.3|\n",
      "| 2021-02-28|         23|            Union Sq|        22.3|\n",
      "| 2021-03-01|         22|         JFK Airport|        65.0|\n",
      "| 2021-03-01|         13|   East Harlem South|         5.8|\n",
      "| 2021-03-01|         13|         Murray Hill|         6.3|\n",
      "| 2021-03-01|         13| UN/Turtle Bay South|        18.8|\n",
      "| 2021-03-01|         13|    Manhattan Valley|         6.3|\n",
      "| 2021-03-01|         13|            Union Sq|       12.36|\n",
      "| 2021-03-01|         13|Upper East Side N...|        12.3|\n",
      "| 2021-03-01|         13|Upper West Side N...|       15.36|\n",
      "| 2021-03-01|         13|     Lenox Hill East|       13.56|\n",
      "| 2021-03-01|         13|       Melrose South|       18.36|\n",
      "| 2021-03-01|         13|Sutton Place/Turt...|        20.3|\n",
      "| 2021-03-01|         13|    Garment District|        13.3|\n",
      "| 2021-03-01|         13|     Lower East Side|        12.3|\n",
      "+-----------+-----------+--------------------+------------+\n",
      "only showing top 20 rows\n",
      "\n"
     ]
    }
   ],
   "source": [
    "spark.sql(\"select pickup_date, pickup_time, pickup_zone, total_amount from comb \\\n",
    "where pickup_time > 12\").show()"
   ]
  },
  {
   "cell_type": "code",
   "execution_count": 13,
   "id": "563eda87",
   "metadata": {},
   "outputs": [
    {
     "name": "stderr",
     "output_type": "stream",
     "text": [
      "[Stage 17:=============================>                            (1 + 1) / 2]\r"
     ]
    },
    {
     "name": "stdout",
     "output_type": "stream",
     "text": [
      "+-----------+-----------+--------------------+------------+\n",
      "|pickup_date|pickup_time|         pickup_zone|total_amount|\n",
      "+-----------+-----------+--------------------+------------+\n",
      "| 2009-01-01|          0| Lincoln Square West|        21.3|\n",
      "| 2008-12-31|         23|             Erasmus|         5.3|\n",
      "| 2009-01-01|          0|        Clinton East|         9.3|\n",
      "| 2009-01-01|          0|        Midtown East|        -3.3|\n",
      "| 2009-01-01|          0|        Midtown East|         3.3|\n",
      "| 2009-01-01|          0|Queensbridge/Rave...|         3.3|\n",
      "| 2009-01-01|          0|         JFK Airport|        49.8|\n",
      "| 2009-01-01|          1|Queensbridge/Rave...|         0.0|\n",
      "| 2009-01-01|          0|Queensbridge/Rave...|         5.3|\n",
      "| 2008-12-31|         23| Lincoln Square West|        13.0|\n",
      "| 2008-12-31|         23|Sutton Place/Turt...|        9.96|\n",
      "| 2008-12-31|         23|        Central Park|        12.8|\n",
      "| 2008-12-31|         23|Upper East Side S...|         8.8|\n",
      "| 2009-01-01|          0|      Yorkville East|       28.56|\n",
      "| 2009-01-01|          0|       Midtown North|        21.8|\n",
      "| 2009-01-01|          0| Lincoln Square East|         8.8|\n",
      "| 2009-01-01|         16|   Battery Park City|       14.76|\n",
      "| 2009-01-01|         16|            Kips Bay|       53.56|\n",
      "| 2009-01-01|          0|Queensbridge/Rave...|         0.0|\n",
      "| 2009-01-01|          0|     Lenox Hill West|         8.8|\n",
      "+-----------+-----------+--------------------+------------+\n",
      "only showing top 20 rows\n",
      "\n"
     ]
    },
    {
     "name": "stderr",
     "output_type": "stream",
     "text": [
      "\r",
      "                                                                                \r"
     ]
    }
   ],
   "source": [
    "spark.sql(\"select pickup_date, pickup_time, pickup_zone, total_amount from comb \\\n",
    "where pickup_date < '2020-12-31'\").show() # 불필요한 데이터, 잘못된 데이터를 정리할 필요가 있다."
   ]
  },
  {
   "cell_type": "code",
   "execution_count": 14,
   "id": "651b9b1b",
   "metadata": {},
   "outputs": [
    {
     "name": "stderr",
     "output_type": "stream",
     "text": [
      "[Stage 19:==================================================>     (10 + 1) / 11]\r"
     ]
    },
    {
     "name": "stdout",
     "output_type": "stream",
     "text": [
      "+-------+-----------------+\n",
      "|summary|     total_amount|\n",
      "+-------+-----------------+\n",
      "|  count|         15000700|\n",
      "|   mean|18.75545205708744|\n",
      "| stddev|145.7442452805979|\n",
      "|    min|           -647.8|\n",
      "|    max|         398469.2|\n",
      "+-------+-----------------+\n",
      "\n"
     ]
    },
    {
     "name": "stderr",
     "output_type": "stream",
     "text": [
      "\r",
      "                                                                                \r"
     ]
    }
   ],
   "source": [
    "spark.sql(\"SELECT pickup_date, total_amount from comb\").describe().show()"
   ]
  },
  {
   "cell_type": "code",
   "execution_count": 15,
   "id": "272398f6",
   "metadata": {},
   "outputs": [
    {
     "name": "stderr",
     "output_type": "stream",
     "text": [
      "[Stage 23:==================================================>     (10 + 1) / 11]\r"
     ]
    },
    {
     "name": "stdout",
     "output_type": "stream",
     "text": [
      "+-------+------------------+\n",
      "|summary|   passenger_count|\n",
      "+-------+------------------+\n",
      "|  count|          14166672|\n",
      "|   mean|1.4253783104458126|\n",
      "| stddev|  1.04432704905968|\n",
      "|    min|                 0|\n",
      "|    max|                 9|\n",
      "+-------+------------------+\n",
      "\n"
     ]
    },
    {
     "name": "stderr",
     "output_type": "stream",
     "text": [
      "\r",
      "                                                                                \r"
     ]
    }
   ],
   "source": [
    "spark.sql(\"SELECT passenger_count from comb\").describe().show()"
   ]
  },
  {
   "cell_type": "code",
   "execution_count": 16,
   "id": "9f53523c",
   "metadata": {},
   "outputs": [
    {
     "name": "stderr",
     "output_type": "stream",
     "text": [
      "[Stage 27:==================================================>     (10 + 1) / 11]\r"
     ]
    },
    {
     "name": "stdout",
     "output_type": "stream",
     "text": [
      "+-------+-----------------+\n",
      "|summary|    trip_distance|\n",
      "+-------+-----------------+\n",
      "|  count|         15000700|\n",
      "|   mean|6.628629402627818|\n",
      "| stddev|671.7293482115828|\n",
      "|    min|              0.0|\n",
      "|    max|        332541.19|\n",
      "+-------+-----------------+\n",
      "\n"
     ]
    },
    {
     "name": "stderr",
     "output_type": "stream",
     "text": [
      "\r",
      "                                                                                \r"
     ]
    }
   ],
   "source": [
    "spark.sql(\"select trip_distance from comb\").describe().show()"
   ]
  },
  {
   "cell_type": "code",
   "execution_count": 17,
   "id": "4bafc639",
   "metadata": {
    "scrolled": true
   },
   "outputs": [
    {
     "name": "stdout",
     "output_type": "stream",
     "text": [
      "root\n",
      " |-- vendor_id: integer (nullable = true)\n",
      " |-- pickup_date: date (nullable = true)\n",
      " |-- dropoff_date: date (nullable = true)\n",
      " |-- pickup_time: integer (nullable = true)\n",
      " |-- dropoff_time: integer (nullable = true)\n",
      " |-- passenger_count: integer (nullable = true)\n",
      " |-- trip_distance: double (nullable = true)\n",
      " |-- tip_amount: double (nullable = true)\n",
      " |-- tolls_amount: double (nullable = true)\n",
      " |-- total_amount: double (nullable = true)\n",
      " |-- pickup_zone: string (nullable = true)\n",
      " |-- dropoff_zone: string (nullable = true)\n",
      "\n"
     ]
    }
   ],
   "source": [
    "comb_df.printSchema()"
   ]
  },
  {
   "cell_type": "code",
   "execution_count": 18,
   "id": "57b5b12d",
   "metadata": {},
   "outputs": [],
   "source": [
    "query = \"\"\"\n",
    "SELECT \n",
    "    DATE_TRUNC('month', c.pickup_date) as month,\n",
    "    count(c.pickup_date) as count\n",
    "FROM\n",
    "    comb c\n",
    "GROUP BY\n",
    "    month\n",
    "ORDER BY\n",
    "    month desc\n",
    "\"\"\""
   ]
  },
  {
   "cell_type": "code",
   "execution_count": 19,
   "id": "44d4a2c0",
   "metadata": {},
   "outputs": [
    {
     "name": "stderr",
     "output_type": "stream",
     "text": [
      "[Stage 31:==================================================>     (10 + 1) / 11]\r"
     ]
    },
    {
     "name": "stdout",
     "output_type": "stream",
     "text": [
      "+-------------------+-------+\n",
      "|              month|  count|\n",
      "+-------------------+-------+\n",
      "|2029-05-01 00:00:00|      1|\n",
      "|2021-12-01 00:00:00|      5|\n",
      "|2021-11-01 00:00:00|      5|\n",
      "|2021-10-01 00:00:00|      3|\n",
      "|2021-09-01 00:00:00|      3|\n",
      "|2021-08-01 00:00:00|     36|\n",
      "|2021-07-01 00:00:00|2821430|\n",
      "|2021-06-01 00:00:00|2834204|\n",
      "|2021-05-01 00:00:00|2507075|\n",
      "|2021-04-01 00:00:00|2171215|\n",
      "|2021-03-01 00:00:00|1925130|\n",
      "|2021-02-01 00:00:00|1371688|\n",
      "|2021-01-01 00:00:00|1369749|\n",
      "|2020-12-01 00:00:00|     16|\n",
      "|2009-01-01 00:00:00|    111|\n",
      "|2008-12-01 00:00:00|     26|\n",
      "|2004-04-01 00:00:00|      1|\n",
      "|2003-01-01 00:00:00|      1|\n",
      "|2002-12-01 00:00:00|      1|\n",
      "+-------------------+-------+\n",
      "\n"
     ]
    },
    {
     "name": "stderr",
     "output_type": "stream",
     "text": [
      "\r",
      "                                                                                \r"
     ]
    }
   ],
   "source": [
    "spark.sql(query).show()"
   ]
  },
  {
   "cell_type": "code",
   "execution_count": 31,
   "id": "d9732f92",
   "metadata": {},
   "outputs": [],
   "source": [
    "# 불필요한 데이터가 무엇이 있는지 파악하기 위해 여러 칼럼들을 조회한 뒤 불필요한 데이들을 제거하기 위한 쿼리문을 짠다.\n",
    "\n",
    "query = \"\"\"\n",
    "SELECT\n",
    "    *\n",
    "FROM\n",
    "    comb\n",
    "WHERE\n",
    "    pickup_date >= '2021-01-01'\n",
    "AND\n",
    "    pickup_date < '2021-08-01'\n",
    "AND\n",
    "    trip_distance > 0\n",
    "AND\n",
    "    trip_distance < 600\n",
    "AND\n",
    "    passenger_count > 0\n",
    "AND\n",
    "    total_amount > 0\n",
    "AND\n",
    "    total_amount < 1000\n",
    "    \n",
    "\"\"\"\n",
    "\n",
    "cleaned_df = spark.sql(query)\n",
    "cleaned_df.createOrReplaceTempView(\"cleaned\")\n"
   ]
  },
  {
   "cell_type": "code",
   "execution_count": 32,
   "id": "e6e20beb",
   "metadata": {},
   "outputs": [
    {
     "name": "stdout",
     "output_type": "stream",
     "text": [
      "+---------+-----------+------------+-----------+------------+---------------+-------------+----------+------------+------------+--------------------+--------------------+\n",
      "|vendor_id|pickup_date|dropoff_date|pickup_time|dropoff_time|passenger_count|trip_distance|tip_amount|tolls_amount|total_amount|         pickup_zone|        dropoff_zone|\n",
      "+---------+-----------+------------+-----------+------------+---------------+-------------+----------+------------+------------+--------------------+--------------------+\n",
      "|        2| 2021-03-01|  2021-03-01|          0|           0|              1|         1.13|      1.86|         0.0|       11.16|        East Chelsea|                  NV|\n",
      "|        2| 2021-03-01|  2021-03-01|          0|           0|              1|         2.68|      4.29|         0.0|       18.59|Upper West Side S...|      Yorkville East|\n",
      "|        1| 2021-03-01|  2021-03-01|          0|           0|              1|         12.4|       0.0|         0.0|        43.8|Penn Station/Madi...|           Flatlands|\n",
      "|        1| 2021-03-01|  2021-03-01|          0|           1|              2|          9.7|       0.0|         0.0|        32.3|         JFK Airport|                  NA|\n",
      "|        1| 2021-03-01|  2021-03-01|          0|           0|              1|          9.3|      7.25|        6.12|       43.67|   LaGuardia Airport|     Lenox Hill West|\n",
      "|        2| 2021-03-01|  2021-03-01|          0|           0|              1|         9.58|      7.68|        6.12|        46.1|   LaGuardia Airport|        Clinton West|\n",
      "|        1| 2021-03-01|  2021-03-01|          0|           0|              1|         16.2|       0.0|         0.0|        45.3|         JFK Airport|           Homecrest|\n",
      "|        2| 2021-03-01|  2021-03-01|          0|           0|              1|         3.58|       2.0|         0.0|        19.3|     Lenox Hill East|             Astoria|\n",
      "|        2| 2021-03-01|  2021-03-01|          0|           0|              1|         0.91|       5.0|         0.0|        14.8|Upper West Side S...|Upper West Side N...|\n",
      "|        2| 2021-03-01|  2021-03-01|          0|           0|              2|         2.57|       0.0|         0.0|        12.8|    Hamilton Heights|      Central Harlem|\n",
      "|        2| 2021-03-01|  2021-03-01|          0|           0|              1|          0.4|       0.0|         0.0|         5.3|   East Harlem North|      Central Harlem|\n",
      "|        2| 2021-03-01|  2021-03-01|          0|           0|              1|         3.26|       0.0|         0.0|        17.3|Upper West Side S...| Little Italy/NoLiTa|\n",
      "|        2| 2021-03-01|  2021-03-01|          0|           0|              1|        13.41|      9.45|         0.0|       47.25|         JFK Airport|           Flatlands|\n",
      "|        2| 2021-03-01|  2021-03-01|          0|           0|              5|         2.35|       0.0|         0.0|        12.8|Upper West Side S...|        Clinton West|\n",
      "|        1| 2021-03-01|  2021-03-01|          0|           0|              2|         18.3|       0.0|        6.12|       61.42|         JFK Airport|Times Sq/Theatre ...|\n",
      "|        2| 2021-03-01|  2021-03-01|          0|           0|              1|         1.53|      2.36|         0.0|       14.16|Sutton Place/Turt...|        Clinton East|\n",
      "|        2| 2021-03-01|  2021-03-01|          0|           0|              1|          2.0|       0.0|         0.0|        11.8|        Clinton East|        East Chelsea|\n",
      "|        2| 2021-03-01|  2021-03-01|          0|           0|              2|         16.6|      9.16|         0.0|       54.96|         JFK Airport|Williamsburg (Nor...|\n",
      "|        1| 2021-03-01|  2021-03-01|          0|           1|              1|         15.5|     12.95|         0.0|       56.25|         JFK Airport|Long Island City/...|\n",
      "|        1| 2021-03-01|  2021-03-01|          0|           0|              2|          1.3|       0.0|         0.0|        16.8|        East Village|       Midtown South|\n",
      "+---------+-----------+------------+-----------+------------+---------------+-------------+----------+------------+------------+--------------------+--------------------+\n",
      "only showing top 20 rows\n",
      "\n"
     ]
    }
   ],
   "source": [
    "spark.sql(\"SELECT * FROM cleaned\").show()"
   ]
  },
  {
   "cell_type": "code",
   "execution_count": 33,
   "id": "d4c256f0",
   "metadata": {},
   "outputs": [
    {
     "name": "stderr",
     "output_type": "stream",
     "text": [
      "[Stage 57:==================================================>     (10 + 1) / 11]\r"
     ]
    },
    {
     "name": "stdout",
     "output_type": "stream",
     "text": [
      "+-------+------------------+\n",
      "|summary|     trip_distance|\n",
      "+-------+------------------+\n",
      "|  count|          13611856|\n",
      "|   mean|2.8937482515242228|\n",
      "| stddev|3.8929530471143825|\n",
      "|    min|              0.01|\n",
      "|    max|            599.88|\n",
      "+-------+------------------+\n",
      "\n"
     ]
    },
    {
     "name": "stderr",
     "output_type": "stream",
     "text": [
      "\r",
      "                                                                                \r"
     ]
    }
   ],
   "source": [
    "spark.sql(\"SELECT trip_distance FROM cleaned\").describe().show()"
   ]
  },
  {
   "cell_type": "code",
   "execution_count": 34,
   "id": "ef79e70b",
   "metadata": {},
   "outputs": [],
   "source": [
    "query = \"\"\"\n",
    "SELECT \n",
    "    DATE_TRUNC('month', c.pickup_date) as month,\n",
    "    count(c.pickup_date) as count\n",
    "FROM\n",
    "    cleaned c\n",
    "GROUP BY\n",
    "    month\n",
    "ORDER BY\n",
    "    month desc\n",
    "\"\"\""
   ]
  },
  {
   "cell_type": "code",
   "execution_count": 35,
   "id": "ef50a63f",
   "metadata": {},
   "outputs": [
    {
     "name": "stderr",
     "output_type": "stream",
     "text": [
      "[Stage 61:==================================================>     (10 + 1) / 11]\r"
     ]
    },
    {
     "name": "stdout",
     "output_type": "stream",
     "text": [
      "+-------------------+-------+\n",
      "|              month|  count|\n",
      "+-------------------+-------+\n",
      "|2021-07-01 00:00:00|2581825|\n",
      "|2021-06-01 00:00:00|2603802|\n",
      "|2021-05-01 00:00:00|2291075|\n",
      "|2021-04-01 00:00:00|1963370|\n",
      "|2021-03-01 00:00:00|1727251|\n",
      "|2021-02-01 00:00:00|1224312|\n",
      "|2021-01-01 00:00:00|1220221|\n",
      "+-------------------+-------+\n",
      "\n"
     ]
    },
    {
     "name": "stderr",
     "output_type": "stream",
     "text": [
      "\r",
      "                                                                                \r"
     ]
    }
   ],
   "source": [
    "spark.sql(query).show()"
   ]
  },
  {
   "cell_type": "code",
   "execution_count": 36,
   "id": "71350013",
   "metadata": {},
   "outputs": [
    {
     "name": "stderr",
     "output_type": "stream",
     "text": [
      "[Stage 65:==================================================>     (10 + 1) / 11]\r"
     ]
    },
    {
     "name": "stdout",
     "output_type": "stream",
     "text": [
      "+-------+------------------+\n",
      "|summary|   passenger_count|\n",
      "+-------+------------------+\n",
      "|  count|          13611856|\n",
      "|   mean| 1.461879188260587|\n",
      "| stddev|1.0373327866056163|\n",
      "|    min|                 1|\n",
      "|    max|                 9|\n",
      "+-------+------------------+\n",
      "\n"
     ]
    },
    {
     "name": "stderr",
     "output_type": "stream",
     "text": [
      "\r",
      "                                                                                \r"
     ]
    }
   ],
   "source": [
    "spark.sql(\"select passenger_count from cleaned\").describe().show()"
   ]
  },
  {
   "cell_type": "code",
   "execution_count": 37,
   "id": "c83731ea",
   "metadata": {},
   "outputs": [
    {
     "name": "stdout",
     "output_type": "stream",
     "text": [
      "root\n",
      " |-- vendor_id: integer (nullable = true)\n",
      " |-- pickup_date: date (nullable = true)\n",
      " |-- dropoff_date: date (nullable = true)\n",
      " |-- pickup_time: integer (nullable = true)\n",
      " |-- dropoff_time: integer (nullable = true)\n",
      " |-- passenger_count: integer (nullable = true)\n",
      " |-- trip_distance: double (nullable = true)\n",
      " |-- tip_amount: double (nullable = true)\n",
      " |-- tolls_amount: double (nullable = true)\n",
      " |-- total_amount: double (nullable = true)\n",
      " |-- pickup_zone: string (nullable = true)\n",
      " |-- dropoff_zone: string (nullable = true)\n",
      "\n"
     ]
    }
   ],
   "source": [
    "cleaned_df.printSchema()"
   ]
  },
  {
   "cell_type": "code",
   "execution_count": 38,
   "id": "82fe2b1a",
   "metadata": {},
   "outputs": [
    {
     "name": "stderr",
     "output_type": "stream",
     "text": [
      "[Stage 69:==================================================>     (10 + 1) / 11]\r"
     ]
    },
    {
     "name": "stdout",
     "output_type": "stream",
     "text": [
      "+-------+------------------+\n",
      "|summary|      total_amount|\n",
      "+-------+------------------+\n",
      "|  count|          13611856|\n",
      "|   mean|18.004472735576808|\n",
      "| stddev|12.913479072780651|\n",
      "|    min|              0.01|\n",
      "|    max|            988.35|\n",
      "+-------+------------------+\n",
      "\n"
     ]
    },
    {
     "name": "stderr",
     "output_type": "stream",
     "text": [
      "\r",
      "                                                                                \r"
     ]
    }
   ],
   "source": [
    "spark.sql(\"SELECT total_amount from cleaned\").describe().show()"
   ]
  },
  {
   "cell_type": "code",
   "execution_count": 41,
   "id": "dea36d67",
   "metadata": {},
   "outputs": [],
   "source": [
    "# 어느정도 필터링된 df를 만든 뒤 시각화 하기"
   ]
  },
  {
   "cell_type": "code",
   "execution_count": 76,
   "id": "640cb632",
   "metadata": {},
   "outputs": [],
   "source": [
    "# 시각화에 필요한 모듈 import\n",
    "\n",
    "import numpy as np\n",
    "import pandas as pd\n",
    "import seaborn as sns\n",
    "import matplotlib.pyplot as plt\n",
    "import matplotlib.dates as mdates"
   ]
  },
  {
   "cell_type": "code",
   "execution_count": 48,
   "id": "1028c956",
   "metadata": {},
   "outputs": [
    {
     "name": "stdout",
     "output_type": "stream",
     "text": [
      "root\n",
      " |-- vendor_id: integer (nullable = true)\n",
      " |-- pickup_date: date (nullable = true)\n",
      " |-- dropoff_date: date (nullable = true)\n",
      " |-- pickup_time: integer (nullable = true)\n",
      " |-- dropoff_time: integer (nullable = true)\n",
      " |-- passenger_count: integer (nullable = true)\n",
      " |-- trip_distance: double (nullable = true)\n",
      " |-- tip_amount: double (nullable = true)\n",
      " |-- tolls_amount: double (nullable = true)\n",
      " |-- total_amount: double (nullable = true)\n",
      " |-- pickup_zone: string (nullable = true)\n",
      " |-- dropoff_zone: string (nullable = true)\n",
      "\n"
     ]
    }
   ],
   "source": [
    "cleaned_df.printSchema()"
   ]
  },
  {
   "cell_type": "code",
   "execution_count": 59,
   "id": "90741284",
   "metadata": {},
   "outputs": [],
   "source": [
    "query = \"\"\"\n",
    "SELECT \n",
    "    pickup_date,\n",
    "    count(*) as trips\n",
    "FROM\n",
    "    cleaned\n",
    "GROUP BY\n",
    "    pickup_date\n",
    "ORDER BY\n",
    "    pickup_date\n",
    "\"\"\""
   ]
  },
  {
   "cell_type": "code",
   "execution_count": 60,
   "id": "bf765201",
   "metadata": {},
   "outputs": [
    {
     "name": "stderr",
     "output_type": "stream",
     "text": [
      "[Stage 90:==================================================>     (10 + 1) / 11]\r"
     ]
    },
    {
     "name": "stdout",
     "output_type": "stream",
     "text": [
      "+-----------+-----+\n",
      "|pickup_date|trips|\n",
      "+-----------+-----+\n",
      "| 2021-01-01|21945|\n",
      "| 2021-01-02|31158|\n",
      "| 2021-01-03|23577|\n",
      "| 2021-01-04|39151|\n",
      "| 2021-01-05|41303|\n",
      "| 2021-01-06|43778|\n",
      "| 2021-01-07|44277|\n",
      "| 2021-01-08|44461|\n",
      "| 2021-01-09|36021|\n",
      "| 2021-01-10|26940|\n",
      "| 2021-01-11|41044|\n",
      "| 2021-01-12|44138|\n",
      "| 2021-01-13|45198|\n",
      "| 2021-01-14|46874|\n",
      "| 2021-01-15|46664|\n",
      "| 2021-01-16|35051|\n",
      "| 2021-01-17|29002|\n",
      "| 2021-01-18|33216|\n",
      "| 2021-01-19|45333|\n",
      "| 2021-01-20|44187|\n",
      "+-----------+-----+\n",
      "only showing top 20 rows\n",
      "\n"
     ]
    },
    {
     "name": "stderr",
     "output_type": "stream",
     "text": [
      "\r",
      "                                                                                \r"
     ]
    }
   ],
   "source": [
    "spark.sql(query).show()"
   ]
  },
  {
   "cell_type": "code",
   "execution_count": 61,
   "id": "e1c6c938",
   "metadata": {},
   "outputs": [
    {
     "name": "stderr",
     "output_type": "stream",
     "text": [
      "                                                                                \r"
     ]
    }
   ],
   "source": [
    "# 원하는 데이터를 판다스로 전환\n",
    "pd_df = spark.sql(query).toPandas() "
   ]
  },
  {
   "cell_type": "code",
   "execution_count": 77,
   "id": "cf205d93",
   "metadata": {},
   "outputs": [
    {
     "data": {
      "text/plain": [
       "<AxesSubplot:xlabel='pickup_date', ylabel='trips'>"
      ]
     },
     "execution_count": 77,
     "metadata": {},
     "output_type": "execute_result"
    },
    {
     "data": {
      "image/png": "[encoded data removed]",
      "text/plain": [
       "<Figure size 1152x432 with 1 Axes>"
      ]
     },
     "metadata": {
      "needs_background": "light"
     },
     "output_type": "display_data"
    }
   ],
   "source": [
    "fig, ax = plt.subplots(figsize=(16,6))\n",
    "sns.lineplot(x=\"pickup_date\", y=\"trips\", data=pd_df)"
   ]
  },
  {
   "cell_type": "markdown",
   "id": "e99cf996",
   "metadata": {},
   "source": [
    "##### "
   ]
  },
  {
   "cell_type": "code",
   "execution_count": 136,
   "id": "153c5cc8",
   "metadata": {},
   "outputs": [],
   "source": [
    "query = \"\"\"\n",
    "SELECT\n",
    "    pickup_date,\n",
    "    DATE_FORMAT(pickup_date, \"EEEE\") as day_of_week,\n",
    "    count(*) as trips\n",
    "FROM\n",
    "    cleaned\n",
    "GROUP BY\n",
    "    pickup_date,\n",
    "    day_of_week\n",
    "\"\"\""
   ]
  },
  {
   "cell_type": "code",
   "execution_count": 137,
   "id": "ea05d342",
   "metadata": {},
   "outputs": [
    {
     "name": "stderr",
     "output_type": "stream",
     "text": [
      "[Stage 119:==================================================>    (10 + 1) / 11]\r"
     ]
    },
    {
     "name": "stdout",
     "output_type": "stream",
     "text": [
      "+-----------+-----------+-----+\n",
      "|pickup_date|day_of_week|trips|\n",
      "+-----------+-----------+-----+\n",
      "| 2021-03-24|  Wednesday|61624|\n",
      "| 2021-03-03|  Wednesday|56274|\n",
      "| 2021-03-05|     Friday|62184|\n",
      "| 2021-03-09|    Tuesday|55279|\n",
      "| 2021-03-26|     Friday|66060|\n",
      "| 2021-03-01|     Monday|48407|\n",
      "| 2021-03-19|     Friday|67224|\n",
      "| 2021-03-13|   Saturday|55730|\n",
      "| 2021-03-21|     Sunday|40703|\n",
      "| 2021-02-28|     Sunday|34161|\n",
      "| 2021-03-14|     Sunday|39845|\n",
      "| 2021-03-08|     Monday|49697|\n",
      "| 2021-04-14|  Wednesday|69446|\n",
      "| 2021-03-23|    Tuesday|56823|\n",
      "| 2021-03-02|    Tuesday|55226|\n",
      "| 2021-05-27|   Thursday|85029|\n",
      "| 2021-03-16|    Tuesday|58554|\n",
      "| 2021-03-04|   Thursday|60221|\n",
      "| 2021-03-25|   Thursday|62802|\n",
      "| 2021-03-10|  Wednesday|57637|\n",
      "+-----------+-----------+-----+\n",
      "only showing top 20 rows\n",
      "\n"
     ]
    },
    {
     "name": "stderr",
     "output_type": "stream",
     "text": [
      "\r",
      "                                                                                \r"
     ]
    }
   ],
   "source": [
    "spark.sql(query).show()"
   ]
  },
  {
   "cell_type": "code",
   "execution_count": 138,
   "id": "1c06aa79",
   "metadata": {},
   "outputs": [
    {
     "name": "stderr",
     "output_type": "stream",
     "text": [
      "                                                                                \r"
     ]
    }
   ],
   "source": [
    "week_df = spark.sql(query).toPandas()"
   ]
  },
  {
   "cell_type": "code",
   "execution_count": 139,
   "id": "34841ebd",
   "metadata": {
    "scrolled": true
   },
   "outputs": [
    {
     "data": {
      "text/html": [
       "<div>\n",
       "<style scoped>\n",
       "    .dataframe tbody tr th:only-of-type {\n",
       "        vertical-align: middle;\n",
       "    }\n",
       "\n",
       "    .dataframe tbody tr th {\n",
       "        vertical-align: top;\n",
       "    }\n",
       "\n",
       "    .dataframe thead th {\n",
       "        text-align: right;\n",
       "    }\n",
       "</style>\n",
       "<table border=\"1\" class=\"dataframe\">\n",
       "  <thead>\n",
       "    <tr style=\"text-align: right;\">\n",
       "      <th></th>\n",
       "      <th>pickup_date</th>\n",
       "      <th>day_of_week</th>\n",
       "      <th>trips</th>\n",
       "    </tr>\n",
       "  </thead>\n",
       "  <tbody>\n",
       "    <tr>\n",
       "      <th>0</th>\n",
       "      <td>2021-03-24</td>\n",
       "      <td>Wednesday</td>\n",
       "      <td>61624</td>\n",
       "    </tr>\n",
       "    <tr>\n",
       "      <th>1</th>\n",
       "      <td>2021-03-03</td>\n",
       "      <td>Wednesday</td>\n",
       "      <td>56274</td>\n",
       "    </tr>\n",
       "    <tr>\n",
       "      <th>2</th>\n",
       "      <td>2021-03-05</td>\n",
       "      <td>Friday</td>\n",
       "      <td>62184</td>\n",
       "    </tr>\n",
       "    <tr>\n",
       "      <th>3</th>\n",
       "      <td>2021-03-09</td>\n",
       "      <td>Tuesday</td>\n",
       "      <td>55279</td>\n",
       "    </tr>\n",
       "    <tr>\n",
       "      <th>4</th>\n",
       "      <td>2021-03-26</td>\n",
       "      <td>Friday</td>\n",
       "      <td>66060</td>\n",
       "    </tr>\n",
       "    <tr>\n",
       "      <th>...</th>\n",
       "      <td>...</td>\n",
       "      <td>...</td>\n",
       "      <td>...</td>\n",
       "    </tr>\n",
       "    <tr>\n",
       "      <th>207</th>\n",
       "      <td>2021-03-30</td>\n",
       "      <td>Tuesday</td>\n",
       "      <td>59686</td>\n",
       "    </tr>\n",
       "    <tr>\n",
       "      <th>208</th>\n",
       "      <td>2021-04-24</td>\n",
       "      <td>Saturday</td>\n",
       "      <td>72330</td>\n",
       "    </tr>\n",
       "    <tr>\n",
       "      <th>209</th>\n",
       "      <td>2021-03-28</td>\n",
       "      <td>Sunday</td>\n",
       "      <td>36383</td>\n",
       "    </tr>\n",
       "    <tr>\n",
       "      <th>210</th>\n",
       "      <td>2021-04-25</td>\n",
       "      <td>Sunday</td>\n",
       "      <td>44980</td>\n",
       "    </tr>\n",
       "    <tr>\n",
       "      <th>211</th>\n",
       "      <td>2021-03-29</td>\n",
       "      <td>Monday</td>\n",
       "      <td>51863</td>\n",
       "    </tr>\n",
       "  </tbody>\n",
       "</table>\n",
       "<p>212 rows × 3 columns</p>\n",
       "</div>"
      ],
      "text/plain": [
       "    pickup_date day_of_week  trips\n",
       "0    2021-03-24   Wednesday  61624\n",
       "1    2021-03-03   Wednesday  56274\n",
       "2    2021-03-05      Friday  62184\n",
       "3    2021-03-09     Tuesday  55279\n",
       "4    2021-03-26      Friday  66060\n",
       "..          ...         ...    ...\n",
       "207  2021-03-30     Tuesday  59686\n",
       "208  2021-04-24    Saturday  72330\n",
       "209  2021-03-28      Sunday  36383\n",
       "210  2021-04-25      Sunday  44980\n",
       "211  2021-03-29      Monday  51863\n",
       "\n",
       "[212 rows x 3 columns]"
      ]
     },
     "execution_count": 139,
     "metadata": {},
     "output_type": "execute_result"
    }
   ],
   "source": [
    "week_df"
   ]
  },
  {
   "cell_type": "code",
   "execution_count": 152,
   "id": "cdb8b11b",
   "metadata": {},
   "outputs": [],
   "source": [
    "data = week_df.groupby(\"day_of_week\").trips.median()"
   ]
  },
  {
   "cell_type": "code",
   "execution_count": 156,
   "id": "b65b3fe3",
   "metadata": {},
   "outputs": [],
   "source": [
    "data = data.to_frame().reset_index()"
   ]
  },
  {
   "cell_type": "code",
   "execution_count": 157,
   "id": "dc7d8560",
   "metadata": {},
   "outputs": [
    {
     "data": {
      "text/html": [
       "<div>\n",
       "<style scoped>\n",
       "    .dataframe tbody tr th:only-of-type {\n",
       "        vertical-align: middle;\n",
       "    }\n",
       "\n",
       "    .dataframe tbody tr th {\n",
       "        vertical-align: top;\n",
       "    }\n",
       "\n",
       "    .dataframe thead th {\n",
       "        text-align: right;\n",
       "    }\n",
       "</style>\n",
       "<table border=\"1\" class=\"dataframe\">\n",
       "  <thead>\n",
       "    <tr style=\"text-align: right;\">\n",
       "      <th></th>\n",
       "      <th>day_of_week</th>\n",
       "      <th>trips</th>\n",
       "    </tr>\n",
       "  </thead>\n",
       "  <tbody>\n",
       "    <tr>\n",
       "      <th>0</th>\n",
       "      <td>Friday</td>\n",
       "      <td>74590.0</td>\n",
       "    </tr>\n",
       "    <tr>\n",
       "      <th>1</th>\n",
       "      <td>Monday</td>\n",
       "      <td>57638.0</td>\n",
       "    </tr>\n",
       "    <tr>\n",
       "      <th>2</th>\n",
       "      <td>Saturday</td>\n",
       "      <td>62855.0</td>\n",
       "    </tr>\n",
       "    <tr>\n",
       "      <th>3</th>\n",
       "      <td>Sunday</td>\n",
       "      <td>44140.0</td>\n",
       "    </tr>\n",
       "    <tr>\n",
       "      <th>4</th>\n",
       "      <td>Thursday</td>\n",
       "      <td>73589.5</td>\n",
       "    </tr>\n",
       "    <tr>\n",
       "      <th>5</th>\n",
       "      <td>Tuesday</td>\n",
       "      <td>67820.0</td>\n",
       "    </tr>\n",
       "    <tr>\n",
       "      <th>6</th>\n",
       "      <td>Wednesday</td>\n",
       "      <td>70662.0</td>\n",
       "    </tr>\n",
       "  </tbody>\n",
       "</table>\n",
       "</div>"
      ],
      "text/plain": [
       "  day_of_week    trips\n",
       "0      Friday  74590.0\n",
       "1      Monday  57638.0\n",
       "2    Saturday  62855.0\n",
       "3      Sunday  44140.0\n",
       "4    Thursday  73589.5\n",
       "5     Tuesday  67820.0\n",
       "6   Wednesday  70662.0"
      ]
     },
     "execution_count": 157,
     "metadata": {},
     "output_type": "execute_result"
    }
   ],
   "source": [
    "data"
   ]
  },
  {
   "cell_type": "code",
   "execution_count": 159,
   "id": "4e7d2bcb",
   "metadata": {},
   "outputs": [],
   "source": [
    "data[\"sort_dow\"] = data[\"day_of_week\"].replace({\n",
    "    \"Sunday\" : 0,\n",
    "    \"Monday\" : 1,\n",
    "    \"Tuesday\": 2,\n",
    "    \"Wednesday\":3,\n",
    "    \"Thursday\":4,\n",
    "    \"Friday\":5,\n",
    "    \"Saturday\":6\n",
    "})"
   ]
  },
  {
   "cell_type": "code",
   "execution_count": 165,
   "id": "5f9c95b3",
   "metadata": {},
   "outputs": [],
   "source": [
    "data.sort_values(\"sort_dow\", inplace=True)"
   ]
  },
  {
   "cell_type": "code",
   "execution_count": 166,
   "id": "ab377759",
   "metadata": {},
   "outputs": [
    {
     "data": {
      "text/html": [
       "<div>\n",
       "<style scoped>\n",
       "    .dataframe tbody tr th:only-of-type {\n",
       "        vertical-align: middle;\n",
       "    }\n",
       "\n",
       "    .dataframe tbody tr th {\n",
       "        vertical-align: top;\n",
       "    }\n",
       "\n",
       "    .dataframe thead th {\n",
       "        text-align: right;\n",
       "    }\n",
       "</style>\n",
       "<table border=\"1\" class=\"dataframe\">\n",
       "  <thead>\n",
       "    <tr style=\"text-align: right;\">\n",
       "      <th></th>\n",
       "      <th>day_of_week</th>\n",
       "      <th>trips</th>\n",
       "      <th>sort_dow</th>\n",
       "    </tr>\n",
       "  </thead>\n",
       "  <tbody>\n",
       "    <tr>\n",
       "      <th>3</th>\n",
       "      <td>Sunday</td>\n",
       "      <td>44140.0</td>\n",
       "      <td>0</td>\n",
       "    </tr>\n",
       "    <tr>\n",
       "      <th>1</th>\n",
       "      <td>Monday</td>\n",
       "      <td>57638.0</td>\n",
       "      <td>1</td>\n",
       "    </tr>\n",
       "    <tr>\n",
       "      <th>5</th>\n",
       "      <td>Tuesday</td>\n",
       "      <td>67820.0</td>\n",
       "      <td>2</td>\n",
       "    </tr>\n",
       "    <tr>\n",
       "      <th>6</th>\n",
       "      <td>Wednesday</td>\n",
       "      <td>70662.0</td>\n",
       "      <td>3</td>\n",
       "    </tr>\n",
       "    <tr>\n",
       "      <th>4</th>\n",
       "      <td>Thursday</td>\n",
       "      <td>73589.5</td>\n",
       "      <td>4</td>\n",
       "    </tr>\n",
       "    <tr>\n",
       "      <th>0</th>\n",
       "      <td>Friday</td>\n",
       "      <td>74590.0</td>\n",
       "      <td>5</td>\n",
       "    </tr>\n",
       "    <tr>\n",
       "      <th>2</th>\n",
       "      <td>Saturday</td>\n",
       "      <td>62855.0</td>\n",
       "      <td>6</td>\n",
       "    </tr>\n",
       "  </tbody>\n",
       "</table>\n",
       "</div>"
      ],
      "text/plain": [
       "  day_of_week    trips  sort_dow\n",
       "3      Sunday  44140.0         0\n",
       "1      Monday  57638.0         1\n",
       "5     Tuesday  67820.0         2\n",
       "6   Wednesday  70662.0         3\n",
       "4    Thursday  73589.5         4\n",
       "0      Friday  74590.0         5\n",
       "2    Saturday  62855.0         6"
      ]
     },
     "execution_count": 166,
     "metadata": {},
     "output_type": "execute_result"
    }
   ],
   "source": [
    "data"
   ]
  },
  {
   "cell_type": "code",
   "execution_count": 168,
   "id": "dad24dda",
   "metadata": {},
   "outputs": [
    {
     "data": {
      "text/plain": [
       "<AxesSubplot:xlabel='day_of_week', ylabel='trips'>"
      ]
     },
     "execution_count": 168,
     "metadata": {},
     "output_type": "execute_result"
    },
    {
     "data": {
      "image/png": "[encoded data removed]",
      "text/plain": [
       "<Figure size 864x360 with 1 Axes>"
      ]
     },
     "metadata": {
      "needs_background": "light"
     },
     "output_type": "display_data"
    }
   ],
   "source": [
    "fig, ax = plt.subplots(figsize=(12, 5))\n",
    "sns.barplot(x=\"day_of_week\", y=\"trips\", data=data)"
   ]
  },
  {
   "cell_type": "code",
   "execution_count": null,
   "id": "b1970328",
   "metadata": {},
   "outputs": [],
   "source": []
  }
 ],
 "metadata": {
  "kernelspec": {
   "display_name": "Python 3 (ipykernel)",
   "language": "python",
   "name": "python3"
  },
  "language_info": {
   "codemirror_mode": {
    "name": "ipython",
    "version": 3
   },
   "file_extension": ".py",
   "mimetype": "text/x-python",
   "name": "python",
   "nbconvert_exporter": "python",
   "pygments_lexer": "ipython3",
   "version": "3.9.7"
  }
 },
 "nbformat": 4,
 "nbformat_minor": 5
}
